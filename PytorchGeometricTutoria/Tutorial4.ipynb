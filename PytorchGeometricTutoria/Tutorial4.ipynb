{
 "cells": [
  {
   "cell_type": "markdown",
   "metadata": {},
   "source": [
    "# Tutorial4: Convolutional Layers - Spectral methods"
   ]
  },
  {
   "cell_type": "markdown",
   "metadata": {},
   "source": [
    "## Outline"
   ]
  },
  {
   "cell_type": "markdown",
   "metadata": {},
   "source": [
    "- Why convolution in ML\n",
    "- Some theory on convolution\n",
    "- Convolution on graphs\n",
    "- Spectral-convolutional layers in PyTorch Geometric"
   ]
  },
  {
   "cell_type": "code",
   "execution_count": 1,
   "metadata": {},
   "outputs": [
    {
     "name": "stdout",
     "output_type": "stream",
     "text": [
      "2.5.1\n"
     ]
    }
   ],
   "source": [
    "import os\n",
    "import torch\n",
    "os.environ['TORCH'] = torch.__version__\n",
    "print(torch.__version__)\n",
    "\n",
    "# !pip install -q torch-scatter -f https://data.pyg.org/whl/torch-${TORCH}.html\n",
    "# !pip install -q torch-sparse -f https://data.pyg.org/whl/torch-${TORCH}.html\n",
    "# !pip install -q git+https://github.com/pyg-team/pytorch_geometric.git"
   ]
  },
  {
   "cell_type": "markdown",
   "metadata": {},
   "source": [
    "## Imports"
   ]
  },
  {
   "cell_type": "code",
   "execution_count": 2,
   "metadata": {},
   "outputs": [],
   "source": [
    "import numpy as np\n",
    "import matplotlib.pyplot as plt\n",
    "plt.rcParams.update({'font.size': 16})"
   ]
  },
  {
   "cell_type": "markdown",
   "metadata": {},
   "source": [
    "## Why convolution in ML"
   ]
  },
  {
   "cell_type": "markdown",
   "metadata": {},
   "source": [
    "- Weight sharing\n",
    "- Detection of translational invariant and local features"
   ]
  },
  {
   "cell_type": "markdown",
   "metadata": {},
   "source": [
    "![](fig/fully_connected.png)\n",
    "[Source](https://missinglink.ai/guides/convolutional-neural-networks/fully-connected-layers-convolutional-neural-networks-complete-guide/)"
   ]
  },
  {
   "cell_type": "markdown",
   "metadata": {},
   "source": [
    "![](fig/cnn.gif)\n",
    "[Source](https://commons.wikimedia.org/wiki/File:Convolutional_Neural_Network.gif)"
   ]
  },
  {
   "cell_type": "markdown",
   "metadata": {},
   "source": [
    "![](fig/Convolution.png)\n",
    "[Source](https://commons.wikimedia.org/wiki/File:Convolution.PNG)"
   ]
  },
  {
   "cell_type": "markdown",
   "metadata": {},
   "source": [
    "## Some theory on convolution"
   ]
  },
  {
   "cell_type": "markdown",
   "metadata": {},
   "source": [
    "![](fig/Convolution_of_box_signal_with_itself2.gif)\n",
    "[Source](https://en.wikipedia.org/wiki/File:Convolution_of_box_signal_with_itself2.gif)"
   ]
  },
  {
   "cell_type": "markdown",
   "metadata": {},
   "source": [
    "### Definition"
   ]
  },
  {
   "cell_type": "markdown",
   "metadata": {},
   "source": [
    "\\begin{align*}\n",
    "c[n] = (v * w)[n] = \\sum_{m=0}^{N-1} v[m] \\cdot w[n-m]\n",
    "\\end{align*}"
   ]
  },
  {
   "cell_type": "code",
   "execution_count": 3,
   "metadata": {},
   "outputs": [],
   "source": [
    "def conv(v, w):\n",
    "    c = np.zeros(v.shape)\n",
    "    for n in range(len(v)):\n",
    "        c[n] = 0\n",
    "        for m in range(len(v)):\n",
    "            c[n] += v[m] * w[n - m]  \n",
    "    return c"
   ]
  },
  {
   "cell_type": "code",
   "execution_count": 4,
   "metadata": {},
   "outputs": [
    {
     "data": {
      "image/png": "[encoded data removed]",
      "text/plain": [
       "<Figure size 640x480 with 1 Axes>"
      ]
     },
     "metadata": {},
     "output_type": "display_data"
    }
   ],
   "source": [
    "N = 20\n",
    "v = np.zeros(N)\n",
    "v[8:12] = 1\n",
    "w = np.zeros(N)\n",
    "w[1:5] = 1\n",
    "c = conv(v, w)\n",
    "\n",
    "fig = plt.figure()\n",
    "ax = fig.gca()\n",
    "ax.plot(v, '.-')\n",
    "ax.plot(w, '.-')\n",
    "ax.plot(c, '.-')\n",
    "ax.legend(['v', 'w', 'c'])\n",
    "ax.grid(True)"
   ]
  },
  {
   "cell_type": "markdown",
   "metadata": {},
   "source": [
    "### Fourier transform"
   ]
  },
  {
   "cell_type": "markdown",
   "metadata": {},
   "source": [
    "Transformation $\\mathcal F: \\mathbb{R}^N \\to \\mathbb{R}^N$ with\n",
    "\n",
    "\\begin{align*}\n",
    "\\mathcal F^{-1}(\\mathcal F (v)) &= v\\\\\n",
    "\\mathcal F(v * w) &= \\mathcal F(v) \\cdot \\mathcal F(w).\n",
    "\\end{align*}"
   ]
  },
  {
   "cell_type": "markdown",
   "metadata": {},
   "source": [
    "This implies\n",
    "\\begin{align*}\n",
    "v * w &= \\mathcal F^{-1}(\\mathcal F (v * w))\\\\\n",
    "&= \\mathcal F^{-1}(\\mathcal F(v) \\cdot \\mathcal F(w))\n",
    "\\end{align*}\n"
   ]
  },
  {
   "cell_type": "markdown",
   "metadata": {},
   "source": [
    "### Convolution Theorem Explanation (PyTorch Example)\n",
    "\n",
    "The formula **F(v \\* w) = F(v) \\* F(w)** represents the **Convolution Theorem**.\n",
    "\n",
    "It states that the Fourier Transform of the convolution of two signals is equal to the pointwise product of their individual Fourier Transforms.\n",
    "\n",
    "This Python code demonstrates the theorem using PyTorch for **linear convolution**:\n",
    "\n",
    "1.  **Signal Creation**: Two complex 1D signals, `v` and `w`, are created using `torch.randn`. Complex numbers are used as FFT naturally produces complex results.\n",
    "2.  **Padding for Linear Convolution**: To compute linear convolution using FFT, the signals must be zero-padded. The required length is `n_fft = len(v) + len(w) - 1`. The signals `v` and `w` are padded to this length using `torch.nn.functional.pad` (or `F.pad`).\n",
    "3.  **Convolution via FFT**: The convolution `conv_result` is calculated efficiently using the standard FFT approach:\n",
    "    *   Compute the Fast Fourier Transforms (FFTs) of the padded signals: `F_v_padded = torch.fft.fft(v_padded)` and `F_w_padded = torch.fft.fft(w_padded)`.\n",
    "    *   Multiply these FFTs pointwise in the frequency domain: `F_conv = F_v_padded * F_w_padded`.\n",
    "    *   Compute the inverse FFT of the product to get the convolution result back in the time domain: `conv_result = torch.fft.ifft(F_conv)`.\n",
    "4.  **Calculate LHS**: The Left-Hand Side of the theorem, `F(v * w)`, is calculated by taking the FFT of the time-domain convolution result obtained in the previous step: `lhs = torch.fft.fft(conv_result)`.\n",
    "5.  **Calculate RHS**: The Right-Hand Side of the theorem, `F(v) * F(w)`, is simply the pointwise product of the individual FFTs of the padded signals, which was already calculated as `F_conv`: `rhs = F_v_padded * F_w_padded`.\n",
    "6.  **Verification**: The code verifies that the calculated LHS and RHS are numerically very close using `torch.allclose()`. This confirms the Convolution Theorem holds (within the limits of floating-point precision).\n",
    "\n",
    "In summary, the theorem allows replacing a potentially complex convolution operation in the time/spatial domain with a simpler pointwise multiplication in the frequency domain, which is often computationally advantageous."
   ]
  },
  {
   "cell_type": "code",
   "execution_count": 4,
   "metadata": {},
   "outputs": [
    {
     "name": "stdout",
     "output_type": "stream",
     "text": [
      "Signal v (length 10):\n",
      "tensor([-0.1561,  0.7400, -0.6978, -1.5155,  0.5595,  0.0286,  0.5866, -0.6230,\n",
      "         0.6650,  1.7772])\n",
      "\n",
      "Signal w (length 10):\n",
      "tensor([-0.2394,  0.8225, -0.4167,  0.0106,  1.2446,  0.5362,  1.0994,  0.4334,\n",
      "         0.4368,  1.4826])\n",
      "\n",
      "Reversed w (for conv1d): \n",
      "tensor([ 1.4826,  0.4368,  0.4334,  1.0994,  0.5362,  1.2446,  0.0106, -0.4167,\n",
      "         0.8225, -0.2394])\n",
      "\n",
      "Direct Convolution (conv1d, length 19):\n",
      "tensor([ 0.0374, -0.3055,  0.8407, -0.5212, -1.2761,  1.9148, -1.0095, -0.8888,\n",
      "        -1.5466, -1.1538,  2.6741, -2.6170, -0.8326,  2.9798,  1.7126,  2.8395,\n",
      "         0.1371,  1.7622,  2.6348])\n",
      "\n",
      "Convolution via FFT (length 19):\n",
      "tensor([ 0.0374, -0.3055,  0.8407, -0.5212, -1.2761,  1.9148, -1.0095, -0.8888,\n",
      "        -1.5466, -1.1538,  2.6741, -2.6170, -0.8326,  2.9798,  1.7126,  2.8395,\n",
      "         0.1371,  1.7622,  2.6348])\n",
      "\n",
      "Are Direct Conv (conv1d) and FFT Conv results close? True\n",
      "\n",
      "--- Verifying Theorem: F(v*w) = F(v)*F(w) ---\n",
      "LHS = FFT(Convolution Result) [length 19]:\n",
      "tensor([ 7.3819+0.0000j,  6.7055+9.6752j, -4.3158+1.9564j, -0.0119+0.0761j,\n",
      "         7.2736+1.9077j, -9.7849+3.5049j, -0.2732+0.5747j, -4.1675+10.1893j,\n",
      "         1.3003-7.7822j, -0.0619-0.6143j, -0.0619+0.6143j,  1.3003+7.7822j,\n",
      "        -4.1675-10.1893j, -0.2732-0.5747j, -9.7849-3.5049j,  7.2736-1.9077j,\n",
      "        -0.0119-0.0761j, -4.3158-1.9564j,  6.7055-9.6752j])\n",
      "\n",
      "RHS = FFT(v_padded) * FFT(w_padded) [length 19]:\n",
      "tensor([ 7.3819+0.0000j,  6.7055+9.6752j, -4.3158+1.9564j, -0.0119+0.0761j,\n",
      "         7.2736+1.9077j, -9.7849+3.5049j, -0.2732+0.5747j, -4.1675+10.1893j,\n",
      "         1.3003-7.7822j, -0.0619-0.6143j, -0.0619+0.6143j,  1.3003+7.7822j,\n",
      "        -4.1675-10.1893j, -0.2732-0.5747j, -9.7849-3.5049j,  7.2736-1.9077j,\n",
      "        -0.0119-0.0761j, -4.3158-1.9564j,  6.7055-9.6752j])\n",
      "\n",
      "Are LHS and RHS of the theorem approximately equal? True\n"
     ]
    }
   ],
   "source": [
    "import torch\n",
    "import torch.fft\n",
    "import torch.nn.functional as F\n",
    "\n",
    "# --- Settings ---\n",
    "L = 10 # Length of signals\n",
    "USE_COMPLEX = False # Set to True to use complex, False for real (easier conv1d demo)\n",
    "DTYPE = torch.complex64 if USE_COMPLEX else torch.float32\n",
    "\n",
    "# --- 1. Create Signals ---\n",
    "v = torch.randn(L, dtype=DTYPE)\n",
    "w = torch.randn(L, dtype=DTYPE)\n",
    "# Reverse w for conv1d, as it performs cross-correlation by default\n",
    "w_rev = torch.flip(w, dims=[0])\n",
    "\n",
    "print(f\"Signal v (length {L}):\\n{v}\")\n",
    "print(f\"\\nSignal w (length {L}):\\n{w}\")\n",
    "if not USE_COMPLEX:\n",
    "    print(f\"\\nReversed w (for conv1d): \\n{w_rev}\")\n",
    "\n",
    "\n",
    "# --- 2. Direct Convolution Calculation (using conv1d for real signals) ---\n",
    "conv_direct = None\n",
    "if not USE_COMPLEX:\n",
    "    # conv1d expects input (N, C_in, L_in) and weight (C_out, C_in, L_kernel)\n",
    "    # N=1 (batch size), C_in=1 (channels), C_out=1\n",
    "    v_reshaped = v.view(1, 1, L)\n",
    "    w_rev_reshaped = w_rev.view(1, 1, L)\n",
    "\n",
    "    # Use padding='valid' for linear convolution result of length L+L-1\n",
    "    # Need to pad the *input* signal v appropriately first\n",
    "    padding_size = L - 1\n",
    "    v_padded_for_conv1d = F.pad(v_reshaped, (padding_size, padding_size)) # Pad both sides for 'valid' conv\n",
    "\n",
    "    # Perform convolution\n",
    "    conv_direct_torch = F.conv1d(v_padded_for_conv1d, w_rev_reshaped, padding='valid')\n",
    "    conv_direct = conv_direct_torch.squeeze() # Remove batch/channel dims\n",
    "    print(f\"\\nDirect Convolution (conv1d, length {len(conv_direct)}):\\n{conv_direct}\")\n",
    "else:\n",
    "    print(\"\\nDirect convolution with conv1d not shown for complex signals.\")\n",
    "    # For complex, direct calculation would need manual implementation or numpy\n",
    "\n",
    "\n",
    "# --- 3. Convolution Calculation via FFT Method ---\n",
    "n_fft = L + L - 1 # Padded length for linear convolution\n",
    "v_padded_fft = F.pad(v, (0, n_fft - L))\n",
    "w_padded_fft = F.pad(w, (0, n_fft - L))\n",
    "\n",
    "F_v_padded = torch.fft.fft(v_padded_fft)\n",
    "F_w_padded = torch.fft.fft(w_padded_fft)\n",
    "F_conv = F_v_padded * F_w_padded\n",
    "conv_fft_method = torch.fft.ifft(F_conv)\n",
    "\n",
    "# For real inputs, the result of ifft should be real (imaginary part is near zero)\n",
    "if not USE_COMPLEX:\n",
    "    conv_fft_method = conv_fft_method.real\n",
    "\n",
    "print(f\"\\nConvolution via FFT (length {len(conv_fft_method)}):\\n{conv_fft_method}\")\n",
    "\n",
    "# --- 4. Compare Direct vs FFT Convolution Results ---\n",
    "if conv_direct is not None:\n",
    "    are_conv_methods_close = torch.allclose(conv_direct, conv_fft_method, atol=1e-5)\n",
    "    print(f\"\\nAre Direct Conv (conv1d) and FFT Conv results close? {are_conv_methods_close}\")\n",
    "    if not are_conv_methods_close:\n",
    "        max_diff_conv = torch.max(torch.abs(conv_direct - conv_fft_method))\n",
    "        print(f\"Max absolute difference between conv methods: {max_diff_conv}\")\n",
    "\n",
    "# --- 5. Verify Convolution Theorem using one of the results ---\n",
    "# Let's use the FFT method result (conv_fft_method) as the reference convolution `v * w`\n",
    "# We need its FFT for the LHS.\n",
    "# Important: Use the complex result *before* taking .real if input was real\n",
    "lhs_fft = torch.fft.fft(torch.fft.ifft(F_conv)) # FFT(v*w) = FFT(ifft(F(v)*F(w))) = F(v)*F(w)\n",
    "\n",
    "# RHS is the product of the individual FFTs\n",
    "rhs_fft = F_v_padded * F_w_padded # F(v) * F(w)\n",
    "\n",
    "print(f\"\\n--- Verifying Theorem: F(v*w) = F(v)*F(w) ---\")\n",
    "print(f\"LHS = FFT(Convolution Result) [length {len(lhs_fft)}]:\\n{lhs_fft}\")\n",
    "print(f\"\\nRHS = FFT(v_padded) * FFT(w_padded) [length {len(rhs_fft)}]:\\n{rhs_fft}\")\n",
    "\n",
    "are_theorem_sides_close = torch.allclose(lhs_fft, rhs_fft, atol=1e-6)\n",
    "print(f\"\\nAre LHS and RHS of the theorem approximately equal? {are_theorem_sides_close}\")\n",
    "if not are_theorem_sides_close:\n",
    "    max_diff_theorem = torch.max(torch.abs(lhs_fft - rhs_fft))\n",
    "    print(f\"Max absolute difference between theorem sides: {max_diff_theorem}\")"
   ]
  },
  {
   "cell_type": "markdown",
   "metadata": {},
   "source": [
    "### The Graph Laplacian Matrix\n",
    "\n",
    "The **Laplacian matrix** is a fundamental matrix representation of a graph, widely used in spectral graph theory, machine learning (e.g., spectral clustering, dimensionality reduction), network analysis, and physics (e.g., modeling diffusion). It captures information about the connectivity and structure of the graph.\n",
    "\n",
    "#### Preliminaries: Graph Definitions\n",
    "\n",
    "Let $G = (V, E)$ be a graph, where:\n",
    "*   $V = \\{v_1, v_2, ..., v_n\\}$ is the set of $n$ vertices (or nodes).\n",
    "*   $E$ is the set of edges connecting pairs of vertices. We'll primarily consider an **undirected, unweighted** graph first.\n",
    "\n",
    "#### Key Matrices\n",
    "\n",
    "1.  **Adjacency Matrix ($A$)**:\n",
    "    *   An $n \\times n$ matrix where $A_{ij} = 1$ if there is an edge between vertex $v_i$ and vertex $v_j$, and $A_{ij} = 0$ otherwise.\n",
    "    *   For an undirected graph, $A$ is symmetric ($A_{ij} = A_{ji}$).\n",
    "    *   $A_{ii}$ is typically 0 (no self-loops).\n",
    "\n",
    "    $A_{ij} = \\begin{cases} 1 & \\text{if } (v_i, v_j) \\in E \\\\ 0 & \\text{otherwise} \\end{cases}$\n",
    "\n",
    "2.  **Degree Matrix ($D$)**:\n",
    "    *   An $n \\times n$ diagonal matrix where the diagonal entry $D_{ii}$ is the **degree** of vertex $v_i$, denoted as $\\text{deg}(v_i)$. The degree is the number of edges connected to that vertex.\n",
    "    *   All off-diagonal entries are 0.\n",
    "\n",
    "    $D_{ii} = \\text{deg}(v_i) = \\sum_{j=1}^{n} A_{ij}$\n",
    "    $D_{ij} = 0 \\quad \\text{if } i \\neq j$\n",
    "\n",
    "#### Definition of the Laplacian Matrix ($L$)\n",
    "\n",
    "The (combinatorial) Laplacian matrix $L$ of the graph $G$ is defined as the difference between the Degree Matrix $D$ and the Adjacency Matrix $A$:\n",
    "\n",
    "$$ L = D - A $$\n",
    "\n",
    "#### Element-wise Definition\n",
    "\n",
    "The elements $L_{ij}$ of the Laplacian matrix can be defined explicitly as:\n",
    "\n",
    "$$\n",
    "L_{ij} = \\begin{cases}\n",
    "\\text{deg}(v_i) & \\text{if } i = j \\\\\n",
    "-1 & \\text{if } i \\neq j \\text{ and } (v_i, v_j) \\in E \\\\\n",
    "0 & \\text{if } i \\neq j \\text{ and } (v_i, v_j) \\notin E\n",
    "\\end{cases}\n",
    "$$\n",
    "\n",
    "#### Example\n",
    "\n",
    "Consider a simple graph with 3 nodes:\n",
    "*   Edges: (1, 2), (2, 3)\n",
    "\n",
    "1.  **Adjacency Matrix ($A$)**:\n",
    "    $$ A = \\begin{pmatrix} 0 & 1 & 0 \\\\ 1 & 0 & 1 \\\\ 0 & 1 & 0 \\end{pmatrix} $$\n",
    "2.  **Degrees**: $\\text{deg}(v_1)=1$, $\\text{deg}(v_2)=2$, $\\text{deg}(v_3)=1$\n",
    "3.  **Degree Matrix ($D$)**:\n",
    "    $$ D = \\begin{pmatrix} 1 & 0 & 0 \\\\ 0 & 2 & 0 \\\\ 0 & 0 & 1 \\end{pmatrix} $$\n",
    "4.  **Laplacian Matrix ($L = D - A$)**:\n",
    "    $$ L = \\begin{pmatrix} 1 & 0 & 0 \\\\ 0 & 2 & 0 \\\\ 0 & 0 & 1 \\end{pmatrix} - \\begin{pmatrix} 0 & 1 & 0 \\\\ 1 & 0 & 1 \\\\ 0 & 1 & 0 \\end{pmatrix} = \\begin{pmatrix} 1 & -1 & 0 \\\\ -1 & 2 & -1 \\\\ 0 & -1 & 1 \\end{pmatrix} $$\n",
    "\n",
    "#### Properties and Significance\n",
    "\n",
    "*   **Symmetric**: For undirected graphs, $L$ is always symmetric ($L = L^T$).\n",
    "*   **Positive Semi-definite**: All eigenvalues of $L$ are non-negative ($\\lambda_i \\ge 0$).\n",
    "*   **Row Sums**: The sum of each row (and column, due to symmetry) is zero: $\\sum_{j=1}^{n} L_{ij} = 0$ for all $i$.\n",
    "*   **Smallest Eigenvalue**: The smallest eigenvalue is always 0 ($\\lambda_1 = 0$), and its corresponding eigenvector is the vector of all ones, $\\mathbf{1} = (1, 1, ..., 1)^T$.\n",
    "*   **Number of Connected Components**: The *multiplicity* of the eigenvalue 0 is equal to the number of connected components in the graph. For a connected graph, $\\lambda_2 > 0$.\n",
    "*   **Fiedler Value**: The second smallest eigenvalue ($\\lambda_2$) is called the Fiedler value or algebraic connectivity. It provides information about how well-connected the graph is. A larger $\\lambda_2$ indicates better connectivity.\n",
    "*   **Applications**: Used in spectral clustering, graph partitioning, random walks, network analysis, image processing, and solving differential equations on graphs (like the heat equation or wave equation).\n",
    "\n",
    "#### Variants (Normalized Laplacians)\n",
    "\n",
    "There are also normalized versions of the Laplacian, which are often preferred in machine learning applications:\n",
    "\n",
    "1.  **Symmetric Normalized Laplacian ($\\mathcal{L}_{\\text{sym}}$)**:\n",
    "    $$ \\mathcal{L}_{\\text{sym}} = D^{-1/2} L D^{-1/2} = I - D^{-1/2} A D^{-1/2} $$\n",
    "    (Requires $D_{ii} > 0$ for all $i$). Its eigenvalues are between 0 and 2.\n",
    "\n",
    "2.  **Random Walk Normalized Laplacian ($\\mathcal{L}_{\\text{rw}}$)**:\n",
    "    $$ \\mathcal{L}_{\\text{rw}} = D^{-1} L = I - D^{-1} A $$\n",
    "    (Requires $D_{ii} > 0$ for all $i$). Related to random walks on the graph. Its eigenvalues are between 0 and 2.\n",
    "\n",
    "These normalized forms often handle variations in node degrees more effectively than the combinatorial Laplacian."
   ]
  },
  {
   "cell_type": "markdown",
   "metadata": {},
   "source": [
    "### The Laplace Operator (Vector Calculus)\n",
    "\n",
    "When \"Laplacian\" is mentioned outside the specific context of graph theory, it usually refers to the **Laplace operator**, denoted by $\\Delta$ or $\\nabla^2$ (read as \"del squared\"). This is a fundamental differential operator in vector calculus and physics. It operates on scalar fields (functions of multiple variables) or vector fields.\n",
    "\n",
    "#### Definition in Continuous Space\n",
    "\n",
    "For a scalar function $f$ of $N$ variables $(x_1, x_2, ..., x_N)$, the Laplacian is defined as the **divergence of the gradient**:\n",
    "\n",
    "$$ \\Delta f = \\nabla^2 f = \\nabla \\cdot (\\nabla f) = \\sum_{i=1}^{N} \\frac{\\partial^2 f}{\\partial x_i^2} $$\n",
    "\n",
    "In simpler terms, it's the sum of all the *unmixed* second partial derivatives of the function.\n",
    "\n",
    "*   **In 2D Cartesian Coordinates $(x, y)$**:\n",
    "    For a function $f(x, y)$,\n",
    "    $$ \\Delta f = \\frac{\\partial^2 f}{\\partial x^2} + \\frac{\\partial^2 f}{\\partial y^2} $$\n",
    "\n",
    "*   **In 3D Cartesian Coordinates $(x, y, z)$**:\n",
    "    For a function $f(x, y, z)$,\n",
    "    $$ \\Delta f = \\frac{\\partial^2 f}{\\partial x^2} + \\frac{\\partial^2 f}{\\partial y^2} + \\frac{\\partial^2 f}{\\partial z^2} $$\n",
    "\n",
    "#### Interpretation\n",
    "\n",
    "The Laplacian measures the \"curvature\" or \"roughness\" of a function at a point.\n",
    "*   If $\\Delta f > 0$ at a point, the value of $f$ at that point is lower than its average value in the immediate neighborhood (like a local minimum or valley).\n",
    "*   If $\\Delta f < 0$ at a point, the value of $f$ at that point is higher than its average value in the immediate neighborhood (like a local maximum or peak).\n",
    "*   If $\\Delta f = 0$, the function is \"smooth\" in the sense that its value at the point is equal to the average of its neighbors (satisfies the mean value property). Functions satisfying $\\Delta f = 0$ are called **harmonic functions**. Laplace's equation, $\\Delta f = 0$, is crucial in physics (electromagnetism, fluid dynamics, heat conduction).\n",
    "\n",
    "#### Discretization and Matrix Representation (Finite Differences)\n",
    "\n",
    "While the Laplace operator is defined continuously, it's often approximated numerically on discrete grids (like pixels in an image or points in a simulation). This is commonly done using **finite differences**.\n",
    "\n",
    "Consider a 1D function $f(x)$ sampled at discrete points $..., f_{i-1}, f_i, f_{i+1}, ...$ with spacing $h$. The second derivative can be approximated as:\n",
    "\n",
    "$$ \\frac{d^2 f}{dx^2} \\bigg|_i \\approx \\frac{f_{i+1} - 2f_i + f_{i-1}}{h^2} $$\n",
    "\n",
    "Consider a 2D function $f(x, y)$ sampled on a grid $f_{i,j}$ with spacing $h$ in both directions. The Laplacian is approximated as:\n",
    "\n",
    "$$ \\Delta f \\bigg|_{i,j} \\approx \\frac{f_{i+1, j} + f_{i-1, j} + f_{i, j+1} + f_{i, j-1} - 4f_{i, j}}{h^2} $$\n",
    "\n",
    "This approximation can be represented by applying a **convolution kernel (or stencil)** to the grid:\n",
    "\n",
    "$$ \\frac{1}{h^2} \\begin{pmatrix} 0 & 1 & 0 \\\\ 1 & -4 & 1 \\\\ 0 & 1 & 0 \\end{pmatrix} * f $$\n",
    "(Ignoring the $1/h^2$ scaling for simplicity, the kernel is often shown as just the matrix part).\n",
    "\n",
    "When you apply this operation across the entire grid (handling boundary conditions appropriately), it can be formulated as a large **matrix multiplication**. If you arrange the grid points $f_{i,j}$ into a single long vector $\\mathbf{f}$, the discrete Laplacian operation becomes:\n",
    "\n",
    "$$ \\Delta \\mathbf{f} \\approx M \\mathbf{f} $$\n",
    "\n",
    "Where $M$ is a large, sparse matrix. The structure of this matrix $M$ is closely related to the **Graph Laplacian** matrix of the underlying grid graph (where each grid point is a node connected to its immediate neighbors). This is why the term \"Laplacian matrix\" is used in both contexts. The matrix $M$ derived from the finite difference approximation of the $\\nabla^2$ operator will have:\n",
    "*   Diagonal entries corresponding to the center of the stencil (e.g., -4 in the 2D case).\n",
    "*   Off-diagonal entries corresponding to the neighbors in the stencil (e.g., 1 for the 4 neighbors in the 2D case).\n",
    "*   Zeros elsewhere.\n",
    "\n",
    "This structure ($M \\approx -L_{\\text{grid graph}}$, up to scaling and sign conventions) connects the continuous Laplace operator to the discrete Graph Laplacian."
   ]
  },
  {
   "cell_type": "markdown",
   "metadata": {},
   "source": [
    "### Connecting the Laplacians: Differential Operator, Graph Matrix, and Fourier Transform\n",
    "\n",
    "Yes, there are deep and important connections between these three concepts, although the \"Laplacian for Fourier transform\" isn't a separate entity but rather describes *how the Laplace operator behaves under the Fourier transform*. Let's break down the connections:\n",
    "\n",
    "1.  **Laplace Operator ($\\Delta$)**:\n",
    "    *   **Definition**: A differential operator measuring the divergence of the gradient. In Cartesian coordinates: $\\Delta f = \\sum_{i} \\frac{\\partial^2 f}{\\partial x_i^2}$.\n",
    "    *   **Domain**: Continuous functions (scalar or vector fields) defined on Euclidean space (like $\\mathbb{R}^2$, $\\mathbb{R}^3$).\n",
    "    *   **Interpretation**: Measures local curvature or the difference between a point's value and the average value of its infinitesimal neighbors.\n",
    "\n",
    "2.  **Graph Laplacian ($L$)**:\n",
    "    *   **Definition**: A matrix derived from a graph's structure, typically $L = D - A$ (Degree matrix minus Adjacency matrix).\n",
    "    *   **Domain**: Functions defined on the vertices of a graph (assigning a value to each node).\n",
    "    *   **Interpretation**: Measures the difference between a node's value and the *sum* (or average, for normalized versions) of its neighbors' values. For a function $f$ defined on vertices: $(Lf)_i = \\sum_{j \\sim i} (f_i - f_j)$, where $j \\sim i$ means $j$ is a neighbor of $i$. This clearly shows it measures local differences.\n",
    "\n",
    "3.  **Laplacian and the Fourier Transform**:\n",
    "    *   **Concept**: This describes a fundamental property relating the Laplace operator ($\\Delta$) and the continuous Fourier Transform ($\\mathcal{F}$).\n",
    "    *   **Property**: The Fourier Transform converts differentiation into multiplication by frequency variables (up to constants like $i$ and $2\\pi$). Specifically, for the second derivative:\n",
    "        $$ \\mathcal{F}\\left( \\frac{\\partial^2 f}{\\partial x_i^2} \\right)(\\mathbf{k}) = (-i k_i)^2 \\mathcal{F}(f)(\\mathbf{k}) = -k_i^2 \\hat{f}(\\mathbf{k}) $$\n",
    "        (Here, $\\hat{f}(\\mathbf{k}) = \\mathcal{F}(f)(\\mathbf{k})$ is the Fourier transform of $f$, and $\\mathbf{k} = (k_1, ..., k_N)$ is the frequency vector).\n",
    "    *   **Laplacian Property**: Applying this to the sum of second derivatives, the Fourier Transform turns the Laplace operator into multiplication by the negative squared magnitude of the frequency vector:\n",
    "        $$ \\mathcal{F}(\\Delta f)(\\mathbf{k}) = \\sum_{i=1}^{N} \\mathcal{F}\\left( \\frac{\\partial^2 f}{\\partial x_i^2} \\right)(\\mathbf{k}) = \\sum_{i=1}^{N} (-k_i^2) \\hat{f}(\\mathbf{k}) = - \\left(\\sum_{i=1}^{N} k_i^2\\right) \\hat{f}(\\mathbf{k}) = - ||\\mathbf{k}||^2 \\hat{f}(\\mathbf{k}) $$\n",
    "    *   **Significance**: Applying the Laplacian in the spatial domain corresponds to a simple *multiplication* by $-||\\mathbf{k}||^2$ in the frequency domain. This simplifies solving differential equations involving the Laplacian (like the heat or wave equation).\n",
    "\n",
    "#### The Connections:\n",
    "\n",
    "1.  **Continuous $\\Delta$ $\\longleftrightarrow$ Discrete $L$ (Discretization)**:\n",
    "    *   The **Graph Laplacian ($L$) is the natural discrete analogue of the continuous Laplace operator ($\\Delta$)**.\n",
    "    *   If you consider a regular grid (like pixels in an image) as a graph where each node is connected to its neighbors, and you approximate the second partial derivatives using finite differences (as shown previously), the resulting matrix operation that approximates $\\Delta$ is precisely the Graph Laplacian matrix (up to scaling and sign conventions) of that grid graph.\n",
    "    *   The formula $(Lf)_i = \\sum_{j \\sim i} (f_i - f_j)$ directly mirrors the idea of comparing a point's value to its neighbors, just like $\\Delta$.\n",
    "\n",
    "2.  **Continuous $\\Delta$ & Fourier Transform $\\longleftrightarrow$ Graph $L$ & Graph Fourier Transform**:\n",
    "    *   Just as the continuous Fourier Transform simplifies the action of $\\Delta$ into multiplication by $-||\\mathbf{k}||^2$, there's an analogous concept for graphs called the **Graph Fourier Transform (GFT)**.\n",
    "    *   The GFT uses the **eigenvectors** of the Graph Laplacian ($L$) as its basis functions (analogous to the complex exponentials $e^{i\\mathbf{k}\\cdot\\mathbf{x}}$ in the continuous FT).\n",
    "    *   The **eigenvalues** ($\\lambda_i$) of the Graph Laplacian $L$ play the role analogous to the squared frequencies $||\\mathbf{k}||^2$. They represent notions of \"frequency\" or \"variation\" over the graph structure.\n",
    "    *   **Property**: Applying the Graph Laplacian $L$ to a function $f$ on the graph corresponds to *multiplication by the eigenvalues* in the Graph Fourier (spectral) domain. If $f = \\sum_i c_i \\mathbf{u}_i$ (where $\\mathbf{u}_i$ are eigenvectors of $L$ with eigenvalues $\\lambda_i$, and $c_i$ are GFT coefficients), then $Lf = \\sum_i c_i (L\\mathbf{u}_i) = \\sum_i c_i (\\lambda_i \\mathbf{u}_i)$. In the GFT domain, this is simply multiplying the coefficients $c_i$ by $\\lambda_i$.\n",
    "\n",
    "#### Summary Table:\n",
    "\n",
    "| Feature             | Continuous Laplace ($\\Delta$)                     | Graph Laplacian ($L$)                                  |\n",
    "| :------------------ | :------------------------------------------------ | :----------------------------------------------------- |\n",
    "| **Domain**          | Continuous functions on $\\mathbb{R}^N$            | Discrete functions on graph vertices                   |\n",
    "| **Nature**          | Differential Operator                             | Matrix Operator                                        |\n",
    "| **Interpretation**  | Local curvature / Avg. difference w/ neighbors    | Sum of differences w/ neighbors                        |\n",
    "| **Connection**      | $\\Delta$ is approximated by $L$ on grid graphs    | $L$ is a discretization of $\\Delta$                    |\n",
    "| **\"Fourier\" Domain**| Continuous Fourier Transform                      | Graph Fourier Transform (Eigenvectors of $L$)          |\n",
    "| **Action in Fourier**| Multiplication by $-||\\mathbf{k}||^2$             | Multiplication by Eigenvalues $\\lambda_i$              |\n",
    "\n",
    "In essence, the Graph Laplacian generalizes the concept of the Laplace operator from continuous Euclidean spaces to the discrete structure of graphs. Both operators measure local variation, and both have the crucial property that their action becomes simple multiplication in their respective frequency/spectral domains defined by appropriate Fourier transforms."
   ]
  },
  {
   "cell_type": "code",
   "execution_count": 33,
   "metadata": {},
   "outputs": [
    {
     "name": "stdout",
     "output_type": "stream",
     "text": [
      "tensor([[[9.8079]]])\n"
     ]
    },
    {
     "data": {
      "text/plain": [
       "tensor(8.7984)"
      ]
     },
     "execution_count": 33,
     "metadata": {},
     "output_type": "execute_result"
    }
   ],
   "source": [
    "x=torch.arange(10).float()\n",
    "y=torch.sin(x)\n",
    "\n",
    "print(F.conv1d(x.reshape((1,1,10)),y.reshape((1,1,10))))\n",
    "torch.fft.ifft(torch.fft.fft(x).abs()*torch.fft.fft(y).abs()).abs().mean()"
   ]
  },
  {
   "cell_type": "code",
   "execution_count": 34,
   "metadata": {},
   "outputs": [
    {
     "data": {
      "text/plain": [
       "tensor([2, 6])"
      ]
     },
     "execution_count": 34,
     "metadata": {},
     "output_type": "execute_result"
    }
   ],
   "source": [
    "a=torch.arange(4).reshape((2,2))\n",
    "b=torch.tensor([0,2])\n",
    "a@b"
   ]
  },
  {
   "cell_type": "code",
   "execution_count": 35,
   "metadata": {},
   "outputs": [
    {
     "ename": "NameError",
     "evalue": "name 'np' is not defined",
     "output_type": "error",
     "traceback": [
      "\u001b[31m---------------------------------------------------------------------------\u001b[39m",
      "\u001b[31mNameError\u001b[39m                                 Traceback (most recent call last)",
      "\u001b[36mCell\u001b[39m\u001b[36m \u001b[39m\u001b[32mIn[35]\u001b[39m\u001b[32m, line 1\u001b[39m\n\u001b[32m----> \u001b[39m\u001b[32m1\u001b[39m v, w = \u001b[43mnp\u001b[49m.random.rand(N), np.random.rand(N)\n\u001b[32m      2\u001b[39m conv(v, w)\n",
      "\u001b[31mNameError\u001b[39m: name 'np' is not defined"
     ]
    }
   ],
   "source": [
    "v, w = np.random.rand(N), np.random.rand(N)\n",
    "conv(v, w)"
   ]
  },
  {
   "cell_type": "code",
   "execution_count": null,
   "metadata": {},
   "outputs": [
    {
     "data": {
      "text/plain": [
       "array([3240.          -0.j        , -132.60980145-111.27283549j,\n",
       "         -8.51060167 -48.2660205j ,   13.5        -23.3826859j ,\n",
       "         19.62040312  -7.14124272j,   19.62040312  +7.14124272j,\n",
       "         13.5        +23.3826859j ,   -8.51060167 +48.2660205j ,\n",
       "       -132.60980145+111.27283549j])"
      ]
     },
     "execution_count": 10,
     "metadata": {},
     "output_type": "execute_result"
    }
   ],
   "source": [
    "a=np.arange(9)\n",
    "b=np.arange(9)+6\n",
    "fft(a)*fft(b)"
   ]
  },
  {
   "cell_type": "code",
   "execution_count": null,
   "metadata": {},
   "outputs": [
    {
     "data": {
      "text/plain": [
       "array([4.54858871, 5.04289022, 4.52530996, 5.08242393, 5.16565021,\n",
       "       3.66125765, 4.39474867, 4.25632998, 3.74364807, 4.51489627,\n",
       "       5.33119553, 4.91535827, 5.11730062, 5.34696103, 4.66607126,\n",
       "       5.11687257, 4.51822591, 4.68385903, 4.70455315, 4.56253017])"
      ]
     },
     "execution_count": 6,
     "metadata": {},
     "output_type": "execute_result"
    }
   ],
   "source": [
    "from scipy.fft import fft, ifft # Fast Fourier Transform / Inverse FFT\n",
    "np.abs(ifft(fft(v) * fft(w)))"
   ]
  },
  {
   "cell_type": "markdown",
   "metadata": {},
   "source": [
    "### Definition of the Fourier transform"
   ]
  },
  {
   "cell_type": "markdown",
   "metadata": {},
   "source": [
    "The Fourier transform can be computed as\n",
    "\n",
    "\\begin{align*}\n",
    "\\mathcal F(v) = U\\cdot v, \\;\\;\\mathcal F^{-1}(v) = \\frac{1}{N}\\ U^H \\cdot v\n",
    "\\end{align*}\n",
    "\n",
    "where the $N\\times N$ matrix $U$ is defined as\n",
    "\\begin{align*}\n",
    "\\\\\n",
    "U = \n",
    "\\begin{bmatrix}\n",
    "u_0(0) & u_1(0) & \\dots & u_{N-1}(0)\\\\\n",
    "u_0(1) & u_1(1) & \\dots & u_{N-1}(1)\\\\\n",
    "\\vdots & \\vdots& & \\vdots\\\\\n",
    "u_0(N-1) & u_1(N-1) & \\dots & u_{N-1}(N-1)\\\\\n",
    "\\end{bmatrix} \n",
    "\\end{align*}\n",
    "\n",
    "and $u_0, \\dots, u_{N-1}$ are functions defined as\n",
    "\n",
    "\\begin{align*}\n",
    "u_n(x)&:= \\cos\\left(2 \\pi \\frac{n}{N} x\\right) - i \\sin\\left(2 \\pi \\frac{n}{N} x\\right).\n",
    "\\end{align*}"
   ]
  },
  {
   "cell_type": "code",
   "execution_count": 7,
   "metadata": {},
   "outputs": [],
   "source": [
    "def matrix_U(N):\n",
    "    u = lambda n, N: np.cos(2 * np.pi / N * n * np.arange(N)) - 1j * np.sin(2 * np.pi / N * n * np.arange(N))\n",
    "    U = np.empty((N, 0))\n",
    "    for n in range(N):\n",
    "        U = np.c_[U, u(n, N)]\n",
    "    return U\n",
    "\n",
    "\n",
    "def fourier_transform(v):\n",
    "    N = v.shape[0]\n",
    "    U = matrix_U(N)\n",
    "    return U @ v\n",
    "\n",
    "\n",
    "def inverse_fourier_transform(v):\n",
    "    N = v.shape[0]\n",
    "    U = matrix_U(N)\n",
    "    return (U.conj().transpose() @ v) / N"
   ]
  },
  {
   "cell_type": "code",
   "execution_count": 8,
   "metadata": {},
   "outputs": [
    {
     "data": {
      "text/plain": [
       "array([ 0.00000000e+00-0.00000000e+00j,  0.00000000e+00-2.22044605e-16j,\n",
       "        7.77156117e-16+0.00000000e+00j,  2.22044605e-16+1.05471187e-15j,\n",
       "        2.22044605e-16+6.10622664e-16j,  1.99840144e-15-6.66133815e-16j,\n",
       "       -1.11022302e-15-4.44089210e-16j, -2.83106871e-15-1.11022302e-16j,\n",
       "       -4.44089210e-16+1.60982339e-15j, -1.33226763e-15+4.44089210e-16j,\n",
       "        8.88178420e-16+3.88387152e-16j,  2.88657986e-15-3.55271368e-15j,\n",
       "        4.44089210e-16+4.99600361e-16j, -4.27435864e-15-1.66533454e-15j,\n",
       "       -2.66453526e-15+3.44169138e-15j,  6.21724894e-15-1.11022302e-15j,\n",
       "       -6.66133815e-16+1.60982339e-15j,  2.22044605e-16-1.44328993e-15j,\n",
       "        1.44328993e-15+4.32986980e-15j, -9.99200722e-16+2.22044605e-16j])"
      ]
     },
     "execution_count": 8,
     "metadata": {},
     "output_type": "execute_result"
    }
   ],
   "source": [
    "fft(v) - fourier_transform(v)"
   ]
  },
  {
   "cell_type": "code",
   "execution_count": 9,
   "metadata": {},
   "outputs": [
    {
     "data": {
      "text/plain": [
       "array([ 5.55111512e-17-0.00000000e+00j,  0.00000000e+00-4.16333634e-17j,\n",
       "        4.51028104e-17-1.38777878e-17j,  1.38777878e-17-5.55111512e-17j,\n",
       "       -1.73472348e-18-1.73472348e-17j,  8.32667268e-17+1.38777878e-17j,\n",
       "       -5.55111512e-17+2.42861287e-17j, -1.38777878e-16+0.00000000e+00j,\n",
       "       -5.55111512e-17-8.67361738e-17j, -5.55111512e-17-2.77555756e-17j,\n",
       "        6.93889390e-18-1.94193576e-17j,  1.45716772e-16+1.87350135e-16j,\n",
       "        0.00000000e+00-3.12250226e-17j, -2.27248775e-16+9.71445147e-17j,\n",
       "       -1.24900090e-16-1.70002901e-16j,  2.91433544e-16+5.55111512e-17j,\n",
       "       -3.29597460e-17-8.32667268e-17j,  0.00000000e+00+6.93889390e-17j,\n",
       "        7.28583860e-17-2.22044605e-16j, -6.59194921e-17+5.55111512e-17j])"
      ]
     },
     "execution_count": 9,
     "metadata": {},
     "output_type": "execute_result"
    }
   ],
   "source": [
    "ifft(v) - inverse_fourier_transform(v)"
   ]
  },
  {
   "cell_type": "markdown",
   "metadata": {},
   "source": [
    "### Connection with the Laplacian"
   ]
  },
  {
   "cell_type": "markdown",
   "metadata": {},
   "source": [
    "The functions $u_n$ (the columns of the Fourier transform matrix) are eigenvectors of the Laplacian:\n",
    "\n",
    "\\begin{align*}\n",
    "u_n(x)&:= \\cos\\left(2 \\pi \\frac{n}{N} x\\right) - i \\sin\\left(2 \\pi \\frac{n}{N} x\\right)\\\\\n",
    "\\Delta u_n(x)&:= \\left(-4 \\pi ^ 2\\frac{n^2}{N^2}\\right) u_n(x)\n",
    "\\end{align*}"
   ]
  },
  {
   "cell_type": "markdown",
   "metadata": {},
   "source": [
    "### Summary"
   ]
  },
  {
   "cell_type": "markdown",
   "metadata": {},
   "source": [
    "\\begin{align*}\n",
    "v * w \n",
    "= U^H ((U  w) \\odot (U  v))\n",
    "\\end{align*}\n",
    "\n",
    "or if $g_w=\\mbox{diag}(U w)$ is  filter\n",
    "\\begin{align*}\n",
    "v * w \n",
    "= U^H g_w U  w\n",
    "\\end{align*}"
   ]
  },
  {
   "cell_type": "code",
   "execution_count": 10,
   "metadata": {},
   "outputs": [
    {
     "data": {
      "text/plain": [
       "array([4.75972857, 3.84267706, 4.75547361, 4.69473343, 4.41980675,\n",
       "       4.38291796, 3.98819354, 4.36896188, 4.0910097 , 4.60256767,\n",
       "       4.9724941 , 5.12207561, 5.60658149, 4.99165311, 4.75559415,\n",
       "       4.99484192, 4.8482739 , 4.82087932, 4.5831123 , 4.63790021])"
      ]
     },
     "execution_count": 10,
     "metadata": {},
     "output_type": "execute_result"
    }
   ],
   "source": [
    "U = matrix_U(N)\n",
    "np.abs((U.conj().transpose() / N) @ ((U @ v) * (U @ w)))"
   ]
  },
  {
   "cell_type": "code",
   "execution_count": 11,
   "metadata": {},
   "outputs": [
    {
     "data": {
      "text/plain": [
       "array([4.75972857, 3.84267706, 4.75547361, 4.69473343, 4.41980675,\n",
       "       4.38291796, 3.98819354, 4.36896188, 4.0910097 , 4.60256767,\n",
       "       4.9724941 , 5.12207561, 5.60658149, 4.99165311, 4.75559415,\n",
       "       4.99484192, 4.8482739 , 4.82087932, 4.5831123 , 4.63790021])"
      ]
     },
     "execution_count": 11,
     "metadata": {},
     "output_type": "execute_result"
    }
   ],
   "source": [
    "conv(v, w)"
   ]
  },
  {
   "cell_type": "markdown",
   "metadata": {},
   "source": [
    "## Convolution on graphs"
   ]
  },
  {
   "cell_type": "markdown",
   "metadata": {},
   "source": [
    "**Plan**:\n",
    "    - Define the graph Laplacian\n",
    "    - Compute the spectrum\n",
    "    - Define a Fourier transform\n",
    "    - Define convolution on a graph"
   ]
  },
  {
   "cell_type": "markdown",
   "metadata": {},
   "source": [
    "**Note:** From now on $G = (V, E)$ is an undirected, unweighted, simple graph."
   ]
  },
  {
   "cell_type": "markdown",
   "metadata": {},
   "source": [
    "### Graph Laplacian"
   ]
  },
  {
   "cell_type": "markdown",
   "metadata": {},
   "source": [
    "Adjacency matrix\n",
    "\\begin{align*}\n",
    "A_{ij} = \\left\\{\n",
    "    \\begin{array}{ll}\n",
    "    1 &\\text{ if } e_{ij}\\in E\\\\\n",
    "    0 &\\text{ if } e_{ij}\\notin E\n",
    "    \\end{array}\n",
    "    \\right.\n",
    "\\end{align*}\n",
    "\n",
    "Degree matrix\n",
    "\\begin{align*}\n",
    "D_{ij} = \\left\\{\n",
    "    \\begin{array}{ll}\n",
    "    \\mbox{deg}(v_i) &\\text{ if } i=j\\\\\n",
    "    0 &\\text{ if } i\\neq j\n",
    "    \\end{array}\n",
    "    \\right.\n",
    "\\end{align*}\n",
    "\n",
    "Laplacian\n",
    "\\begin{align*}\n",
    "L &= D - A.\n",
    "\\end{align*}\n",
    "\n",
    "Normalized Laplacian\n",
    "\\begin{align*}\n",
    "L &= I - D^{-1/2} A D^{-1/2}.\n",
    "\\end{align*}"
   ]
  },
  {
   "cell_type": "markdown",
   "metadata": {},
   "source": [
    "### Graph spectrum, Fourier transform, and convolution"
   ]
  },
  {
   "cell_type": "markdown",
   "metadata": {},
   "source": [
    "1. Spectral decomposition of the Laplacian:\n",
    "\\begin{align*}\n",
    "L = U \\Lambda U^T\\\\\n",
    "\\end{align*}\n",
    "\n",
    "\n",
    "2. Fourier transform: if $v$ is a vector of features on the graph, then\n",
    "\\begin{align*}\n",
    "\\mathcal F (v) = U \\cdot v, \\;\\;\\mathcal F^{-1} (v) = U^T \\cdot v\\\\\n",
    "\\end{align*}\n",
    "\n",
    "\n",
    "3. Convolution with a filter $U \\cdot w$\n",
    "\\begin{align*}\n",
    "v * w = U ((U^T  w) \\odot (U^T  v) )\n",
    "\\end{align*}\n",
    "\n",
    "\n",
    "Or $g_w = \\mbox{diag}(U^T w)$ is a filter, then\n",
    "\\begin{align*}\n",
    "v * w = U g_w U^T  v\n",
    "\\end{align*}\n"
   ]
  },
  {
   "cell_type": "markdown",
   "metadata": {},
   "source": [
    "## Spectral-convolutional layers in PyTorch Geometric"
   ]
  },
  {
   "cell_type": "markdown",
   "metadata": {},
   "source": [
    "**Problem:** Computing the spectrum is a global and very expensive property.\n",
    "\n",
    "**Goal:** Implementation as message passing."
   ]
  },
  {
   "cell_type": "markdown",
   "metadata": {},
   "source": [
    "### ChebConv"
   ]
  },
  {
   "cell_type": "markdown",
   "metadata": {},
   "source": [
    "- Original [paper](https://arxiv.org/pdf/1606.09375.pdf)\n",
    "- PyTorch [doc](https://pytorch-geometric.readthedocs.io/en/latest/modules/nn.html#torch_geometric.nn.conv.ChebConv)"
   ]
  },
  {
   "cell_type": "markdown",
   "metadata": {},
   "source": [
    "#### Goal: \n",
    "Compute $U g_w U^T x$ with $g_w = g_w(\\Lambda)$ a filter."
   ]
  },
  {
   "cell_type": "markdown",
   "metadata": {},
   "source": [
    "#### Chebyshev approximation\n",
    "\n",
    "Chebyshev polynomials $T_k$:\n",
    "\\begin{align*}\n",
    "T_{k}(x) = 2 x T_{k-1}(x) - T_{k-2}(x), \\;\\; T_0(x) = 1, T_1(x) = x\n",
    "\\end{align*}\n",
    "\n",
    "#### Chebyshev approximation of the filter\n",
    "Aproximation of the filter:\n",
    "\\begin{align*}\n",
    "g_w(\\Lambda) = \\sum_{k=0}^K \\theta_k T_k(\\tilde \\Lambda),\\;\\;\\;\\;\\tilde \\Lambda = \\frac{2}{\\lambda_\\max} \\Lambda - I\n",
    "\\end{align*}\n",
    "\n",
    "\n",
    "#### Property\n",
    "If $L = U \\Lambda U^T$ then $T_k(L) = U T_k(\\Lambda) U^T$.\n"
   ]
  },
  {
   "cell_type": "markdown",
   "metadata": {},
   "source": [
    "#### Fast approximated convolution \n",
    "\\begin{align*}\n",
    "v * w &= U g_w U^T x\n",
    "= U \\left(\\sum_{k=0}^K \\theta_k T_k(\\tilde \\Lambda) \\right)U^T x\n",
    "=\\sum_{k=0}^K  \\theta_k U  T_k(\\tilde \\Lambda) U^T x\\\\ \n",
    "&=\\sum_{k=0}^K  \\theta_k T_k(\\tilde L) x \n",
    "\\end{align*}\n",
    "\n",
    "\\begin{align*}\n",
    "\\tilde L = \\frac{2}{\\lambda_\\max} L - I\n",
    "\\end{align*}"
   ]
  },
  {
   "cell_type": "markdown",
   "metadata": {},
   "source": [
    "#### Properties:\n",
    "- Depends on $L$ and $\\lambda_\\max$, not on $U, \\Sigma$\n",
    "- Uses only $K$-powers $\\Rightarrow$ only the $K$-th neighborhood of each node, localized filter"
   ]
  },
  {
   "cell_type": "markdown",
   "metadata": {},
   "source": [
    "**As message passing:**\n",
    "![](fig/cheb_init.png)\n",
    "\n",
    "![](fig/cheb_norm.png)\n",
    "\n",
    "![](fig/cheb_forward.png)\n",
    "\n",
    "![](fig/cheb_message.png)"
   ]
  },
  {
   "cell_type": "markdown",
   "metadata": {},
   "source": [
    "### GCNConv"
   ]
  },
  {
   "cell_type": "markdown",
   "metadata": {},
   "source": [
    "- Original [paper](https://arxiv.org/pdf/1609.02907.pdf)\n",
    "- PyTorch [doc](https://pytorch-geometric.readthedocs.io/en/latest/modules/nn.html#torch_geometric.nn.conv.GCNConv)"
   ]
  },
  {
   "cell_type": "markdown",
   "metadata": {},
   "source": [
    "Start from `ChebConv` and assume \n",
    "1. $K=1$ (linear approximation) so\n",
    "\\begin{align*}\n",
    "v * w \n",
    "&=\\sum_{k=0}^1  \\theta_k T_k(\\tilde L) x\n",
    "= \\theta_0 x + \\theta_1 \\tilde L x\\\\\n",
    "\\end{align*}\n",
    "\n",
    "2. $\\lambda_\\max =2$ so\n",
    "\\begin{align*}\n",
    "v * w \n",
    "&= \\theta_0 x + \\theta_1 (L - I) x\\\\\n",
    "&= \\theta_0 x - \\theta_1 D^{-1/2} A D^{1/2} x\\\\\n",
    "\\end{align*}\n",
    "\n",
    "\n",
    "3. $\\theta_0=-\\theta_1= \\theta$ so \n",
    "\\begin{align*}\n",
    "v * w = \\left(I + D^{-1/2} A D^{1/2}\\right) x \\theta\n",
    "\\end{align*}\n",
    "\n",
    "4. Renormalization of $\\theta$ by using \n",
    "\\begin{align*}\n",
    "\\tilde A&:= I + A\\\\\n",
    "\\tilde D_{ii}&:= \\sum_j \\tilde A_{ij}\n",
    "\\end{align*}\n",
    "so \n",
    "\\begin{align*}\n",
    "v * w = \\left(D^{-1/2} A D^{1/2}\\right) x \\theta\n",
    "\\end{align*}\n",
    "\n",
    "If $x$ is a $F$-dimensional feature vector, and we want an $F'$-dimensional feature vector as output:\n",
    "use $W'\\in \\mathbb{R}^{F\\times F'}$\n",
    "\\begin{align*}\n",
    "v * w = \\left(D^{-1/2} A D^{1/2}\\right) x \\Theta\n",
    "\\end{align*}\n"
   ]
  },
  {
   "cell_type": "markdown",
   "metadata": {},
   "source": [
    "Nodewise:\n",
    "    ![image.png](fig/gcn_nodewise.png)"
   ]
  },
  {
   "cell_type": "markdown",
   "metadata": {},
   "source": [
    "#### As message passing\n",
    "See Tutorial3"
   ]
  }
 ],
 "metadata": {
  "kernelspec": {
   "display_name": "cuda_12_4",
   "language": "python",
   "name": "python3"
  },
  "language_info": {
   "codemirror_mode": {
    "name": "ipython",
    "version": 3
   },
   "file_extension": ".py",
   "mimetype": "text/x-python",
   "name": "python",
   "nbconvert_exporter": "python",
   "pygments_lexer": "ipython3",
   "version": "3.12.9"
  }
 },
 "nbformat": 4,
 "nbformat_minor": 4
}
