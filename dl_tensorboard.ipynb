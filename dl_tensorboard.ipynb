{
 "cells": [
  {
   "cell_type": "code",
   "execution_count": null,
   "id": "fe5259c3",
   "metadata": {},
   "outputs": [],
   "source": [
    "import pandas as pd\n",
    "import requests\n",
    "from csv import reader\n",
    "import os\n",
    "\n",
    "\n",
    "port = 6006\n",
    "http://localhost:6007/experiment/defaultExperimentId/data/plugin/scalars/scalars?tag=predictaion_1&run=predictaion_1_label&format=csv\n",
    "\n",
    "def URLs(fold, trial):\n",
    "    URLs_dict = {\n",
    "        \"train_accuracy\": f\"http://localhost:{port}/data/plugin/scalars/scalars?tag=epoch_accuracy&run=fold{fold}%5C{trial}%5Cexecution0%5Ctrain&format=csv\",\n",
    "        \"val_accuracy\": f\"http://localhost:{port}/data/plugin/scalars/scalars?tag=epoch_accuracy&run=fold{fold}%5C{trial}%5Cexecution0%5Cvalidation&format=csv\",\n",
    "        \"val_loss\": f\"http://localhost:{port}/data/plugin/scalars/scalars?tag=epoch_loss&run=fold{fold}%5C{trial}%5Cexecution0%5Cvalidation&format=csv\",\n",
    "        \"train_loss\": f\"http://localhost:{port}/data/plugin/scalars/scalars?tag=epoch_loss&run=fold{fold}%5C{trial}%5Cexecution0%5Ctrain&format=csv\",\n",
    "    }\n",
    "    return URLs_dict\n",
    "\n",
    "\n",
    "def tb_data(log_dir, mode, fold, num_trials):\n",
    "    trials = os.listdir(log_dir)\n",
    "    fdf = {}\n",
    "    for i, trial in enumerate(trials[:num_trials]):\n",
    "        r = requests.get(URLs(fold, trial)[mode], allow_redirects=True)\n",
    "        data = r.text\n",
    "        data_csv = reader(data.splitlines())\n",
    "        data_csv = list(data_csv)\n",
    "        df = pd.DataFrame(data_csv)\n",
    "        headers = df.iloc[0]\n",
    "        df = pd.DataFrame(df.values[1:], columns=headers)\n",
    "        if i == 0:\n",
    "            fdf[\"Step\"] = df[\"Step\"]\n",
    "        fdf[f\"trial {trial}\"] = df[\"Value\"]\n",
    "    fdf = pd.DataFrame(fdf)\n",
    "    return fdf\n"
   ]
  }
 ],
 "metadata": {
  "kernelspec": {
   "display_name": "cuda_12_4",
   "language": "python",
   "name": "python3"
  },
  "language_info": {
   "name": "python",
   "version": "3.12.9"
  }
 },
 "nbformat": 4,
 "nbformat_minor": 5
}
