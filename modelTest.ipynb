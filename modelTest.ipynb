{
 "cells": [
  {
   "cell_type": "code",
   "execution_count": 1,
   "metadata": {},
   "outputs": [],
   "source": [
    "from py_markdown_table.markdown_table import markdown_table\n"
   ]
  },
  {
   "cell_type": "code",
   "execution_count": 2,
   "metadata": {},
   "outputs": [
    {
     "data": {
      "text/plain": [
       "'```\\n+-------------------+\\n|F1|precision|recall|\\n+--+---------+------+\\n| 0|    1    |   2  |\\n+-------------------+```'"
      ]
     },
     "execution_count": 2,
     "metadata": {},
     "output_type": "execute_result"
    }
   ],
   "source": [
    "markdown = markdown_table([{\"F1\":0,\"precision\":1,\"recall\":2}]).get_markdown()\n",
    "markdown"
   ]
  },
  {
   "cell_type": "markdown",
   "metadata": {},
   "source": [
    "```\\n+-------------------+\\n|F1|precision|recall|\\n+--+---------+------+\\n| 0|    1    |   2  |\\n+-------------------+```"
   ]
  },
  {
   "cell_type": "markdown",
   "metadata": {},
   "source": [
    "| F1 | precision | recall |\n",
    "|----|-----------|--------|\n",
    "|    |           |        |\n"
   ]
  },
  {
   "cell_type": "code",
   "execution_count": 4,
   "metadata": {},
   "outputs": [
    {
     "name": "stdout",
     "output_type": "stream",
     "text": [
      "DataFrame saved to ./data/dummy/test.csv\n"
     ]
    }
   ],
   "source": [
    "import pandas as pd\n",
    "import numpy as np\n",
    "\n",
    "# Create a DataFrame with 3 columns ('a', 'b', 'c') and 100 random rows\n",
    "data = {\n",
    "    'datetime':np.arange(1, 101),\n",
    "    'a': np.random.random(100),  # Random floats between 0 and 1\n",
    "    'b': np.random.random(100),\n",
    "    'c': np.random.random(100),\n",
    "    'attack':np.random.randint(0,2,100)\n",
    "}\n",
    "df = pd.DataFrame(data)\n",
    "\n",
    "# Save the DataFrame to a CSV file\n",
    "csv_file_name = \"./data/dummy/test.csv\"\n",
    "df.to_csv(csv_file_name, index=False)\n",
    "\n",
    "print(f\"DataFrame saved to {csv_file_name}\")"
   ]
  }
 ],
 "metadata": {
  "kernelspec": {
   "display_name": "cuda_10_2",
   "language": "python",
   "name": "python3"
  },
  "language_info": {
   "codemirror_mode": {
    "name": "ipython",
    "version": 3
   },
   "file_extension": ".py",
   "mimetype": "text/x-python",
   "name": "python",
   "nbconvert_exporter": "python",
   "pygments_lexer": "ipython3",
   "version": "3.7.12"
  }
 },
 "nbformat": 4,
 "nbformat_minor": 2
}
