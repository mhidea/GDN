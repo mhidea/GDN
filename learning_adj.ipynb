{
 "cells": [
  {
   "cell_type": "code",
   "execution_count": 1,
   "metadata": {},
   "outputs": [
    {
     "name": "stdout",
     "output_type": "stream",
     "text": [
      "USING cuda\n"
     ]
    }
   ],
   "source": [
    "import pandas as pd\n",
    "import numpy as np\n",
    "from torch.utils.data import TensorDataset, random_split\n",
    "import torch_geometric\n",
    "import torch\n",
    "import networkx as nx\n",
    "from tqdm import tqdm\n",
    "from torchmetrics.classification import BinaryConfusionMatrix\n",
    "from sklearn.preprocessing import MinMaxScaler\n",
    "from sklearn.model_selection import train_test_split\n",
    "from util.preprocess import findSensorActuator\n",
    "\n",
    "device=\"cuda\" if torch.cuda.is_available() else \"cpu\"\n",
    "print(f\"USING {device}\")"
   ]
  },
  {
   "cell_type": "code",
   "execution_count": 2,
   "metadata": {},
   "outputs": [
    {
     "name": "stdout",
     "output_type": "stream",
     "text": [
      "Original DataFrame:\n",
      "     col_1  col_2  attack  col_3  col_4  col_5  col_6\n",
      "0       99     44       0     12     29     37     79\n",
      "1       66     49       0     57     85     46     19\n",
      "2       62     24       0     18     96     66     47\n",
      "3       87     72       1     40     59     62     55\n",
      "4       91     39       0      3     71     58     97\n",
      "..     ...    ...     ...    ...    ...    ...    ...\n",
      "995     79     16       0     79     64     70     21\n",
      "996     11     96       0     16     13     90     12\n",
      "997     87     14       0      5     73     73     19\n",
      "998     23     34       0     74     41     89     77\n",
      "999     46     65       0     21     78     37     25\n",
      "\n",
      "[1000 rows x 7 columns]\n"
     ]
    }
   ],
   "source": [
    "\n",
    "# Number of rows in the DataFrame\n",
    "samples = 1000\n",
    "features=6\n",
    "# Creating random data for the first two columns\n",
    "col1 = np.random.randint(1, 100, samples)\n",
    "col2 = np.random.randint(1, 100, samples)\n",
    "\n",
    "# Define the mathematical relation for the 'Attack' column\n",
    "attack = np.where(col1 + col2 > 150, 1, 0)\n",
    "\n",
    "# Creating the DataFrame with six columns\n",
    "df = pd.DataFrame({\n",
    "    'col_1': col1,\n",
    "    'col_2': col2,\n",
    "    'attack': attack,  # Renaming Affair to Attack\n",
    "}|{f\"col_{i+1}\":np.random.randint(1, 100, samples) for i in range(2,features)})\n",
    "\n",
    "# Apply Min-Max Scaling, excluding the 'Attack' column\n",
    "# columns_to_scale = df.columns.difference(['attack'])\n",
    "# df_scaled = df.copy()\n",
    "# df_scaled[columns_to_scale] = (df[columns_to_scale] - df[columns_to_scale].min()) / (df[columns_to_scale].max() - df[columns_to_scale].min())\n",
    "\n",
    "# Display the original and scaled DataFrames\n",
    "print(\"Original DataFrame:\")\n",
    "print(df)\n",
    "# print(\"\\nScaled DataFrame (with 'Attack' excluded from scaling):\")\n",
    "# print(df_scaled)\n"
   ]
  },
  {
   "cell_type": "code",
   "execution_count": 3,
   "metadata": {},
   "outputs": [],
   "source": [
    "from datasets.TimeDataset import TimeDataset\n",
    "from util .params import Params\n",
    "from util.env import get_param,set_param\n",
    "param=Params()\n",
    "param.window_length=3\n",
    "set_param(param)\n",
    "sensors=[\"col_1\",\"col_2\"]\n",
    "actuators=[f\"col_{i+3}\" for i in range(features-2)]\n"
   ]
  },
  {
   "cell_type": "code",
   "execution_count": 4,
   "metadata": {},
   "outputs": [
    {
     "data": {
      "application/vnd.microsoft.datawrangler.viewer.v0+json": {
       "columns": [
        {
         "name": "index",
         "rawType": "int64",
         "type": "integer"
        },
        {
         "name": "col_1",
         "rawType": "int32",
         "type": "integer"
        },
        {
         "name": "col_2",
         "rawType": "int32",
         "type": "integer"
        },
        {
         "name": "attack",
         "rawType": "int32",
         "type": "integer"
        },
        {
         "name": "col_3",
         "rawType": "int32",
         "type": "integer"
        },
        {
         "name": "col_4",
         "rawType": "int32",
         "type": "integer"
        },
        {
         "name": "col_5",
         "rawType": "int32",
         "type": "integer"
        },
        {
         "name": "col_6",
         "rawType": "int32",
         "type": "integer"
        }
       ],
       "conversionMethod": "pd.DataFrame",
       "ref": "7bf37d20-86ec-4b82-908a-af998ba8e8d8",
       "rows": [
        [
         "0",
         "99",
         "44",
         "0",
         "12",
         "29",
         "37",
         "79"
        ],
        [
         "1",
         "66",
         "49",
         "0",
         "57",
         "85",
         "46",
         "19"
        ],
        [
         "2",
         "62",
         "24",
         "0",
         "18",
         "96",
         "66",
         "47"
        ],
        [
         "3",
         "87",
         "72",
         "1",
         "40",
         "59",
         "62",
         "55"
        ],
        [
         "4",
         "91",
         "39",
         "0",
         "3",
         "71",
         "58",
         "97"
        ],
        [
         "5",
         "97",
         "85",
         "1",
         "21",
         "90",
         "34",
         "30"
        ],
        [
         "6",
         "51",
         "32",
         "0",
         "37",
         "66",
         "96",
         "55"
        ],
        [
         "7",
         "72",
         "57",
         "0",
         "50",
         "62",
         "30",
         "18"
        ],
        [
         "8",
         "60",
         "77",
         "0",
         "62",
         "31",
         "30",
         "62"
        ],
        [
         "9",
         "62",
         "32",
         "0",
         "24",
         "69",
         "52",
         "25"
        ]
       ],
       "shape": {
        "columns": 7,
        "rows": 10
       }
      },
      "text/html": [
       "<div>\n",
       "<style scoped>\n",
       "    .dataframe tbody tr th:only-of-type {\n",
       "        vertical-align: middle;\n",
       "    }\n",
       "\n",
       "    .dataframe tbody tr th {\n",
       "        vertical-align: top;\n",
       "    }\n",
       "\n",
       "    .dataframe thead th {\n",
       "        text-align: right;\n",
       "    }\n",
       "</style>\n",
       "<table border=\"1\" class=\"dataframe\">\n",
       "  <thead>\n",
       "    <tr style=\"text-align: right;\">\n",
       "      <th></th>\n",
       "      <th>col_1</th>\n",
       "      <th>col_2</th>\n",
       "      <th>attack</th>\n",
       "      <th>col_3</th>\n",
       "      <th>col_4</th>\n",
       "      <th>col_5</th>\n",
       "      <th>col_6</th>\n",
       "    </tr>\n",
       "  </thead>\n",
       "  <tbody>\n",
       "    <tr>\n",
       "      <th>0</th>\n",
       "      <td>99</td>\n",
       "      <td>44</td>\n",
       "      <td>0</td>\n",
       "      <td>12</td>\n",
       "      <td>29</td>\n",
       "      <td>37</td>\n",
       "      <td>79</td>\n",
       "    </tr>\n",
       "    <tr>\n",
       "      <th>1</th>\n",
       "      <td>66</td>\n",
       "      <td>49</td>\n",
       "      <td>0</td>\n",
       "      <td>57</td>\n",
       "      <td>85</td>\n",
       "      <td>46</td>\n",
       "      <td>19</td>\n",
       "    </tr>\n",
       "    <tr>\n",
       "      <th>2</th>\n",
       "      <td>62</td>\n",
       "      <td>24</td>\n",
       "      <td>0</td>\n",
       "      <td>18</td>\n",
       "      <td>96</td>\n",
       "      <td>66</td>\n",
       "      <td>47</td>\n",
       "    </tr>\n",
       "    <tr>\n",
       "      <th>3</th>\n",
       "      <td>87</td>\n",
       "      <td>72</td>\n",
       "      <td>1</td>\n",
       "      <td>40</td>\n",
       "      <td>59</td>\n",
       "      <td>62</td>\n",
       "      <td>55</td>\n",
       "    </tr>\n",
       "    <tr>\n",
       "      <th>4</th>\n",
       "      <td>91</td>\n",
       "      <td>39</td>\n",
       "      <td>0</td>\n",
       "      <td>3</td>\n",
       "      <td>71</td>\n",
       "      <td>58</td>\n",
       "      <td>97</td>\n",
       "    </tr>\n",
       "    <tr>\n",
       "      <th>5</th>\n",
       "      <td>97</td>\n",
       "      <td>85</td>\n",
       "      <td>1</td>\n",
       "      <td>21</td>\n",
       "      <td>90</td>\n",
       "      <td>34</td>\n",
       "      <td>30</td>\n",
       "    </tr>\n",
       "    <tr>\n",
       "      <th>6</th>\n",
       "      <td>51</td>\n",
       "      <td>32</td>\n",
       "      <td>0</td>\n",
       "      <td>37</td>\n",
       "      <td>66</td>\n",
       "      <td>96</td>\n",
       "      <td>55</td>\n",
       "    </tr>\n",
       "    <tr>\n",
       "      <th>7</th>\n",
       "      <td>72</td>\n",
       "      <td>57</td>\n",
       "      <td>0</td>\n",
       "      <td>50</td>\n",
       "      <td>62</td>\n",
       "      <td>30</td>\n",
       "      <td>18</td>\n",
       "    </tr>\n",
       "    <tr>\n",
       "      <th>8</th>\n",
       "      <td>60</td>\n",
       "      <td>77</td>\n",
       "      <td>0</td>\n",
       "      <td>62</td>\n",
       "      <td>31</td>\n",
       "      <td>30</td>\n",
       "      <td>62</td>\n",
       "    </tr>\n",
       "    <tr>\n",
       "      <th>9</th>\n",
       "      <td>62</td>\n",
       "      <td>32</td>\n",
       "      <td>0</td>\n",
       "      <td>24</td>\n",
       "      <td>69</td>\n",
       "      <td>52</td>\n",
       "      <td>25</td>\n",
       "    </tr>\n",
       "  </tbody>\n",
       "</table>\n",
       "</div>"
      ],
      "text/plain": [
       "   col_1  col_2  attack  col_3  col_4  col_5  col_6\n",
       "0     99     44       0     12     29     37     79\n",
       "1     66     49       0     57     85     46     19\n",
       "2     62     24       0     18     96     66     47\n",
       "3     87     72       1     40     59     62     55\n",
       "4     91     39       0      3     71     58     97\n",
       "5     97     85       1     21     90     34     30\n",
       "6     51     32       0     37     66     96     55\n",
       "7     72     57       0     50     62     30     18\n",
       "8     60     77       0     62     31     30     62\n",
       "9     62     32       0     24     69     52     25"
      ]
     },
     "execution_count": 4,
     "metadata": {},
     "output_type": "execute_result"
    }
   ],
   "source": [
    "df.head(10)"
   ]
  },
  {
   "cell_type": "code",
   "execution_count": 5,
   "metadata": {},
   "outputs": [
    {
     "name": "stderr",
     "output_type": "stream",
     "text": [
      "d:\\thesis\\GDN\\src\\datasets\\TimeDataset.py:48: UserWarning: The use of `x.T` on tensors of dimension other than 2 to reverse their shape is deprecated and it will throw an error in a future release. Consider `x.mT` to transpose batches of matrices or `x.permute(*torch.arange(x.ndim - 1, -1, -1))` to reverse the dimensions of a tensor. (Triggered internally at C:\\cb\\pytorch_1000000000000\\work\\aten\\src\\ATen\\native\\TensorShape.cpp:3687.)\n",
      "  .T.unsqueeze(-1)\n"
     ]
    },
    {
     "data": {
      "text/plain": [
       "(tensor([[99., 66., 62.],\n",
       "         [44., 49., 24.]], device='cuda:0'),\n",
       " tensor([[87.],\n",
       "         [72.]], device='cuda:0'),\n",
       " tensor([1.], device='cuda:0'))"
      ]
     },
     "execution_count": 5,
     "metadata": {},
     "output_type": "execute_result"
    }
   ],
   "source": [
    "ds=TimeDataset(df,sensor_list=sensors,actuator_list=actuators)\n",
    "ds.__getitem__(0)"
   ]
  },
  {
   "cell_type": "code",
   "execution_count": null,
   "metadata": {},
   "outputs": [],
   "source": [
    "df=pd.read_csv(\"./data/batadal/test.csv\")"
   ]
  },
  {
   "cell_type": "code",
   "execution_count": null,
   "metadata": {},
   "outputs": [],
   "source": [
    "findSensorActuator(df)"
   ]
  },
  {
   "cell_type": "code",
   "execution_count": null,
   "metadata": {},
   "outputs": [],
   "source": [
    "class MyDataset(torch.utils.data.Dataset):\n",
    "    \"\"\"docstring for MyDataset.\"\"\"\n",
    "    def __init__(self, df:pd.DataFrame,device=\"cuda\"):\n",
    "        super(MyDataset, self).__init__()\n",
    "        self.df=df.__deepcopy__()\n",
    "        self.labels=self.df[\"attack\"].__deepcopy__()\n",
    "        self.df.drop(columns=[\"attack\"],inplace=True)\n",
    "        self.device=device\n",
    "    def __len__(self):\n",
    "        return self.df.shape[0]\n",
    "    def __getitem__(self, index):\n",
    "        return torch.tensor(self.df.iloc[index].to_numpy(),device=self.device).float()\\\n",
    "    ,torch.tensor([self.labels.iloc[index]],device=self.device).float()\n",
    "    \n",
    "# Create a Dataset\n",
    "dataset=MyDataset(df,device=device)"
   ]
  },
  {
   "cell_type": "code",
   "execution_count": null,
   "metadata": {},
   "outputs": [],
   "source": [
    "def norm(train:pd.DataFrame, test:pd.DataFrame,excludes=[\"attack\"]):\n",
    "    cols=[col for col in train.columns if col not in excludes]\n",
    "    normalizer = MinMaxScaler(feature_range=(0, 1)).fit(train[cols]) # scale training data to [0,1] range\n",
    "    train[cols] = normalizer.transform(train[cols])\n",
    "    test[cols] = normalizer.transform(test[cols])\n",
    "    train=train.reindex()\n",
    "    test=test.reindex()\n",
    "    \n",
    "    return train, test"
   ]
  },
  {
   "cell_type": "code",
   "execution_count": null,
   "metadata": {},
   "outputs": [],
   "source": [
    "# Split the dataset into train and test sets\n",
    "train_df, test_df = train_test_split(df,test_size=.2,random_state=42)\n",
    "train_df, test_df=norm(train_df, test_df)\n",
    "train_loader=torch.utils.data.DataLoader(dataset=MyDataset(train_df),batch_size=16)    \n",
    "test_loader=torch.utils.data.DataLoader(dataset=MyDataset(test_df),batch_size=16)    \n"
   ]
  },
  {
   "cell_type": "code",
   "execution_count": null,
   "metadata": {},
   "outputs": [],
   "source": [
    "import torch_geometric.nn\n",
    "from laf_model import LAFLayer\n",
    "class GCNLafConv(torch_geometric.nn.GCNConv):\n",
    "    def __init__(self,  units=1, node_dim=32, **kwargs):\n",
    "        super(GCNLafConv, self).__init__( **kwargs)\n",
    "        self.laf = LAFLayer(units=units, kernel_initializer='random_uniform')\n",
    "        self.mlp = torch.nn.Linear(node_dim*units, node_dim)\n",
    "        self.dim = node_dim\n",
    "        self.units = units\n",
    "    \n",
    "    def aggregate(self, inputs, index,**kwargs):\n",
    "        x = torch.sigmoid(inputs)\n",
    "        x = self.laf(x, index)\n",
    "        x = x.view((-1, self.dim * self.units))\n",
    "        x = self.mlp(x)\n",
    "        return x\n",
    "\n",
    "\n",
    "\n",
    "class CustomModule(torch.nn.Module):\n",
    "    def __init__(self, input_features, hidden_size,device=\"cuda\",edge_index=None):\n",
    "        \"\"\"\n",
    "        Initialize the custom PyTorch module with adj1, embedding layer, and soil tensor.\n",
    "\n",
    "        Args:\n",
    "            input_features (int): The size of the square matrix (adj1) and embedding size.\n",
    "            hidden_size (int): The size of the hidden dimension for the soil tensor.\n",
    "        \"\"\"\n",
    "        super(CustomModule, self).__init__()\n",
    "        self.input_features=input_features\n",
    "        self.hidden_size=hidden_size\n",
    "        # Define adj1 as a square matrix parameter\n",
    "        self.linear_transformations = torch.nn.ModuleList([\n",
    "            torch.nn.Linear(1, hidden_size) for _ in range(input_features)\n",
    "        ])\n",
    "        if edge_index is None:\n",
    "            G = nx.complete_graph(input_features)\n",
    "            self.adj1=torch.tensor([[[x,y] for y in l.keys() ] for x,l in G.adjacency()]).reshape(-1,2).T.reshape(2,-1).to(device)\n",
    "            self.adj1_weigthts = torch.nn.Parameter(torch.ones(self.adj1.shape[-1],requires_grad=True))\n",
    "        else:\n",
    "            self.adj1=torch.tensor(edge_index).to(device)\n",
    "            self.adj1_weigthts=None\n",
    "        # Define an embedding layer\n",
    "        # self.embedding = torch.nn.Embedding(in\n",
    "        self.lin1=torch.nn.Linear(hidden_size,1)\n",
    "        # put_features, hidden_size)\n",
    "        self.gcn1=torch_geometric.nn.GATConv(hidden_size,1,add_self_loops=False)\n",
    "        self.lin1=torch.nn.Linear(input_features,1)\n",
    "        \n",
    "    def forward(self, x:torch.Tensor):\n",
    "        \"\"\"\n",
    "        Forward pass to compute the embedding and add the soil tensor.\n",
    "\n",
    "        Args:\n",
    "            indices (torch.Tensor): Input tensor with indices for the embedding layer.\n",
    "        \n",
    "        Returns:\n",
    "            torch.Tensor: Resulting tensor after embedding and addition.\n",
    "        \"\"\"\n",
    "        shape=x.shape\n",
    "        if x.dim()==1:\n",
    "            x.unsqueeze_(0)\n",
    "        embedded_columns = [\n",
    "            self.linear_transformations[i](x[:,i].unsqueeze(-1)) for i in range(self.input_features)\n",
    "        ]\n",
    "        x=torch.cat(embedded_columns, dim=-1).reshape(*shape,self.hidden_size)\n",
    "        x=self.gcn1(x,self.adj1,self.adj1_weigthts)\n",
    "        x.squeeze_(-1)\n",
    "        x=torch.nn.functional.relu(x)\n",
    "        x=self.lin1(x)\n",
    "        x=torch.nn.functional.sigmoid(x)\n",
    "        return x\n",
    "\n",
    "    @property\n",
    "    def prop(self):\n",
    "        \"\"\"\n",
    "        Property to return adj1.\n",
    "\n",
    "        Returns:\n",
    "            torch.Tensor: The adj1 parameter (square matrix).\n",
    "        \"\"\"\n",
    "        return self.adj1"
   ]
  },
  {
   "cell_type": "code",
   "execution_count": null,
   "metadata": {},
   "outputs": [],
   "source": [
    "model=CustomModule(features,10,edge_index=[[2,3],[4,5]])"
   ]
  },
  {
   "cell_type": "code",
   "execution_count": null,
   "metadata": {},
   "outputs": [],
   "source": [
    "epoch=50\n",
    "optimizer=torch.optim.Adam(model.parameters(),lr=.001)\n",
    "loss_fn=torch.nn.BCELoss(reduction=\"sum\")"
   ]
  },
  {
   "cell_type": "code",
   "execution_count": null,
   "metadata": {},
   "outputs": [],
   "source": [
    "model=model.train().to(device=device)\n",
    "t=tqdm(torch.arange(epoch),postfix=\"loss\")\n",
    "with torch.autograd.set_detect_anomaly(False):\n",
    "    for e in t:\n",
    "        acu_loss=0\n",
    "        for i,(x,y) in enumerate(train_loader):\n",
    "            optimizer.zero_grad(set_to_none=True)   \n",
    "            y_pred=model(x)\n",
    "            loss=loss_fn(y_pred,y)\n",
    "            acu_loss+=loss.item()\n",
    "            loss.backward()\n",
    "            optimizer.step()\n",
    "        t.set_postfix({\"loss\":(acu_loss/dataset.__len__())})\n",
    "\n",
    "\n",
    "conf=BinaryConfusionMatrix().to(device=device)\n",
    "\n",
    "model=model.eval()\n",
    "\n",
    "for i,(x,y) in enumerate(test_loader):\n",
    "    y_pred=model(x)\n",
    "    conf.update(y_pred,y)\n",
    "\n",
    "conf.compute()"
   ]
  },
  {
   "cell_type": "code",
   "execution_count": null,
   "metadata": {},
   "outputs": [],
   "source": [
    "adj=model.adj1.detach().numpy()\n",
    "w=model.adj1_weigthts.detach().numpy()\n",
    "\n",
    "result_df=pd.DataFrame({\n",
    "    \"weigth\":w,\"x\":adj[0],\"y\":adj[1]\n",
    "})\n",
    "result_df.sort_values(by=\"weigth\",ascending=False).head()"
   ]
  }
 ],
 "metadata": {
  "kernelspec": {
   "display_name": "cuda_12_4",
   "language": "python",
   "name": "python3"
  },
  "language_info": {
   "codemirror_mode": {
    "name": "ipython",
    "version": 3
   },
   "file_extension": ".py",
   "mimetype": "text/x-python",
   "name": "python",
   "nbconvert_exporter": "python",
   "pygments_lexer": "ipython3",
   "version": "3.12.9"
  }
 },
 "nbformat": 4,
 "nbformat_minor": 2
}
