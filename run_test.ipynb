{
 "cells": [
  {
   "cell_type": "code",
   "execution_count": 10,
   "metadata": {},
   "outputs": [],
   "source": [
    "import pickle\n",
    "from parameters.params import Params,Datasets,Models,Tasks\n",
    "from util.env import set_param\n",
    "from main import Main\n",
    "import torch\n",
    "from models.mine.MSTGAT import MSTGAT\n",
    "from test_loop import test\n",
    "from train_loop import train\n",
    "import pandas as pd\n",
    "from evaluate import IqrThreshold,MyConfusuion,IqrSensorThreshold,MinMaxThreshold,ZscoreThreshold"
   ]
  },
  {
   "cell_type": "code",
   "execution_count": 11,
   "metadata": {},
   "outputs": [
    {
     "name": "stderr",
     "output_type": "stream",
     "text": [
      "C:\\Users\\moji\\AppData\\Local\\Temp\\ipykernel_19552\\2703351109.py:9: FutureWarning: You are using `torch.load` with `weights_only=False` (the current default value), which uses the default pickle module implicitly. It is possible to construct malicious pickle data which will execute arbitrary code during unpickling (See https://github.com/pytorch/pytorch/blob/main/SECURITY.md#untrusted-models for more details). In a future release, the default value for `weights_only` will be flipped to `True`. This limits the functions that could be executed during unpickling. Arbitrary objects will no longer be allowed to be loaded via this mode unless they are explicitly allowlisted by the user via `torch.serialization.add_safe_globals`. We recommend you start setting `weights_only=True` for any use case where you don't have full control of the loaded file. Please open an issue on GitHub for any issues related to this experimental feature.\n",
      "  adj=torch.load(param.best_validationModel_path().replace(\"best.pt\", \"adj.pt\"))\n"
     ]
    }
   ],
   "source": [
    "#board\\my_mstgat_batadal\\25_06_06_19_08_16\n",
    "# snapshot\\my_mstgat_batadal\\25_06_06_21_32_18\\0\n",
    "path = \"./snapshot/my_mstgat_batadal/25_06_07_07_11_55/0/\"\n",
    "\n",
    "param: Params = pickle.load(file=open(f\"{path}param.pickle\", \"rb\"))\n",
    "param.val_ratio=0\n",
    "set_param(param)\n",
    "model_parameters=pickle.load(file=open( f\"{path}model_parameters.pickle\",\"rb\"))\n",
    "adj=torch.load(param.best_validationModel_path().replace(\"best.pt\", \"adj.pt\"))"
   ]
  },
  {
   "cell_type": "code",
   "execution_count": null,
   "metadata": {},
   "outputs": [
    {
     "name": "stdout",
     "output_type": "stream",
     "text": [
      "# DATASET \n",
      "\n",
      "*Datasets.batadal*\n",
      "const:  attack  =  0.0\n",
      "#####################################\n",
      "sensors count:  27\n",
      "actuators count:  8\n",
      "consts count:  1\n",
      "consts:  ['attack']\n",
      "#####################################\n",
      "#####################################\n",
      "xlist (27):\n",
      "['L_T2', 'L_T3', 'L_T4', 'L_T5', 'L_T6', 'L_T7', 'F_PU1', 'F_PU2', 'F_PU4', 'F_PU6', 'F_PU7', 'F_PU8', 'F_PU10', 'F_PU11', 'F_V2', 'P_J280', 'P_J269', 'P_J300', 'P_J256', 'P_J289', 'P_J415', 'P_J302', 'P_J306', 'P_J307', 'P_J317', 'P_J14', 'P_J422']\n",
      "#####################################\n",
      "Model is trained. Loading from file .....\n"
     ]
    },
    {
     "ename": "RuntimeError",
     "evalue": "Error(s) in loading state_dict for MSTGAT:\n\tsize mismatch for graph_learner.embedding.weight: copying a param with shape torch.Size([28, 32]) from checkpoint, the shape in current model is torch.Size([27, 32]).\n\tsize mismatch for conv1d.weight: copying a param with shape torch.Size([28, 28, 16]) from checkpoint, the shape in current model is torch.Size([27, 27, 16]).\n\tsize mismatch for conv1d.bias: copying a param with shape torch.Size([28]) from checkpoint, the shape in current model is torch.Size([27]).",
     "output_type": "error",
     "traceback": [
      "\u001b[31m---------------------------------------------------------------------------\u001b[39m",
      "\u001b[31mRuntimeError\u001b[39m                              Traceback (most recent call last)",
      "\u001b[36mCell\u001b[39m\u001b[36m \u001b[39m\u001b[32mIn[12]\u001b[39m\u001b[32m, line 1\u001b[39m\n\u001b[32m----> \u001b[39m\u001b[32m1\u001b[39m main = \u001b[43mMain\u001b[49m\u001b[43m(\u001b[49m\u001b[43mparam\u001b[49m\u001b[43m=\u001b[49m\u001b[43mparam\u001b[49m\u001b[43m,\u001b[49m\u001b[43mmodelParams\u001b[49m\u001b[43m=\u001b[49m\u001b[43mmodel_parameters\u001b[49m\u001b[43m,\u001b[49m\u001b[43madj\u001b[49m\u001b[43m=\u001b[49m\u001b[43madj\u001b[49m\u001b[43m)\u001b[49m\n\u001b[32m      3\u001b[39m \u001b[38;5;66;03m# main.load_model(path=param.least_trainLossModel_path())\u001b[39;00m\n",
      "\u001b[36mFile \u001b[39m\u001b[32md:\\thesis\\GDN\\src\\main.py:106\u001b[39m, in \u001b[36mMain.__init__\u001b[39m\u001b[34m(self, param, modelParams, adj)\u001b[39m\n\u001b[32m    104\u001b[39m \u001b[38;5;28;01mif\u001b[39;00m \u001b[38;5;28mself\u001b[39m.param.trained():\n\u001b[32m    105\u001b[39m     \u001b[38;5;28mprint\u001b[39m(\u001b[33m\"\u001b[39m\u001b[33mModel is trained. Loading from file .....\u001b[39m\u001b[33m\"\u001b[39m)\n\u001b[32m--> \u001b[39m\u001b[32m106\u001b[39m     \u001b[38;5;28;43mself\u001b[39;49m\u001b[43m.\u001b[49m\u001b[43mload_model\u001b[49m\u001b[43m(\u001b[49m\u001b[38;5;28;43mself\u001b[39;49m\u001b[43m.\u001b[49m\u001b[43mparam\u001b[49m\u001b[43m.\u001b[49m\u001b[43mbest_validationModel_path\u001b[49m\u001b[43m(\u001b[49m\u001b[43m)\u001b[49m\u001b[43m)\u001b[49m\n",
      "\u001b[36mFile \u001b[39m\u001b[32md:\\thesis\\GDN\\src\\main.py:110\u001b[39m, in \u001b[36mMain.load_model\u001b[39m\u001b[34m(self, path)\u001b[39m\n\u001b[32m    109\u001b[39m \u001b[38;5;28;01mdef\u001b[39;00m\u001b[38;5;250m \u001b[39m\u001b[34mload_model\u001b[39m(\u001b[38;5;28mself\u001b[39m, path):\n\u001b[32m--> \u001b[39m\u001b[32m110\u001b[39m     \u001b[38;5;28;43mself\u001b[39;49m\u001b[43m.\u001b[49m\u001b[43mmodel\u001b[49m\u001b[43m.\u001b[49m\u001b[43mload_state_dict\u001b[49m\u001b[43m(\u001b[49m\u001b[43mtorch\u001b[49m\u001b[43m.\u001b[49m\u001b[43mload\u001b[49m\u001b[43m(\u001b[49m\u001b[43mpath\u001b[49m\u001b[43m,\u001b[49m\u001b[43m \u001b[49m\u001b[43mweights_only\u001b[49m\u001b[43m=\u001b[49m\u001b[38;5;28;43;01mTrue\u001b[39;49;00m\u001b[43m)\u001b[49m\u001b[43m)\u001b[49m\n",
      "\u001b[36mFile \u001b[39m\u001b[32mc:\\Users\\moji\\miniconda3\\envs\\cuda_12_4\\Lib\\site-packages\\torch\\nn\\modules\\module.py:2584\u001b[39m, in \u001b[36mModule.load_state_dict\u001b[39m\u001b[34m(self, state_dict, strict, assign)\u001b[39m\n\u001b[32m   2576\u001b[39m         error_msgs.insert(\n\u001b[32m   2577\u001b[39m             \u001b[32m0\u001b[39m,\n\u001b[32m   2578\u001b[39m             \u001b[33m\"\u001b[39m\u001b[33mMissing key(s) in state_dict: \u001b[39m\u001b[38;5;132;01m{}\u001b[39;00m\u001b[33m. \u001b[39m\u001b[33m\"\u001b[39m.format(\n\u001b[32m   2579\u001b[39m                 \u001b[33m\"\u001b[39m\u001b[33m, \u001b[39m\u001b[33m\"\u001b[39m.join(\u001b[33mf\u001b[39m\u001b[33m'\u001b[39m\u001b[33m\"\u001b[39m\u001b[38;5;132;01m{\u001b[39;00mk\u001b[38;5;132;01m}\u001b[39;00m\u001b[33m\"\u001b[39m\u001b[33m'\u001b[39m \u001b[38;5;28;01mfor\u001b[39;00m k \u001b[38;5;129;01min\u001b[39;00m missing_keys)\n\u001b[32m   2580\u001b[39m             ),\n\u001b[32m   2581\u001b[39m         )\n\u001b[32m   2583\u001b[39m \u001b[38;5;28;01mif\u001b[39;00m \u001b[38;5;28mlen\u001b[39m(error_msgs) > \u001b[32m0\u001b[39m:\n\u001b[32m-> \u001b[39m\u001b[32m2584\u001b[39m     \u001b[38;5;28;01mraise\u001b[39;00m \u001b[38;5;167;01mRuntimeError\u001b[39;00m(\n\u001b[32m   2585\u001b[39m         \u001b[33m\"\u001b[39m\u001b[33mError(s) in loading state_dict for \u001b[39m\u001b[38;5;132;01m{}\u001b[39;00m\u001b[33m:\u001b[39m\u001b[38;5;130;01m\\n\u001b[39;00m\u001b[38;5;130;01m\\t\u001b[39;00m\u001b[38;5;132;01m{}\u001b[39;00m\u001b[33m\"\u001b[39m.format(\n\u001b[32m   2586\u001b[39m             \u001b[38;5;28mself\u001b[39m.\u001b[34m__class__\u001b[39m.\u001b[34m__name__\u001b[39m, \u001b[33m\"\u001b[39m\u001b[38;5;130;01m\\n\u001b[39;00m\u001b[38;5;130;01m\\t\u001b[39;00m\u001b[33m\"\u001b[39m.join(error_msgs)\n\u001b[32m   2587\u001b[39m         )\n\u001b[32m   2588\u001b[39m     )\n\u001b[32m   2589\u001b[39m \u001b[38;5;28;01mreturn\u001b[39;00m _IncompatibleKeys(missing_keys, unexpected_keys)\n",
      "\u001b[31mRuntimeError\u001b[39m: Error(s) in loading state_dict for MSTGAT:\n\tsize mismatch for graph_learner.embedding.weight: copying a param with shape torch.Size([28, 32]) from checkpoint, the shape in current model is torch.Size([27, 32]).\n\tsize mismatch for conv1d.weight: copying a param with shape torch.Size([28, 28, 16]) from checkpoint, the shape in current model is torch.Size([27, 27, 16]).\n\tsize mismatch for conv1d.bias: copying a param with shape torch.Size([28]) from checkpoint, the shape in current model is torch.Size([27])."
     ]
    }
   ],
   "source": [
    "main = Main(param=param, modelParams=model_parameters, adj=adj)\n",
    "\n",
    "# main.load_model(path=param.least_trainLossModel_path())\n"
   ]
  },
  {
   "cell_type": "code",
   "execution_count": null,
   "metadata": {},
   "outputs": [],
   "source": [
    "print(len(main.train_dataloader),len(main.val_dataloader),len(main.test_dataloader))"
   ]
  },
  {
   "cell_type": "markdown",
   "metadata": {},
   "source": [
    "## Train losses\n",
    "get all losses from train data loader"
   ]
  },
  {
   "cell_type": "code",
   "execution_count": null,
   "metadata": {},
   "outputs": [],
   "source": [
    "train_all_loss,_,_ = test(main.model,main.train_dataloader,None)\n",
    "train_all_loss.shape"
   ]
  },
  {
   "cell_type": "markdown",
   "metadata": {},
   "source": [
    "## Test losses"
   ]
  },
  {
   "cell_type": "code",
   "execution_count": null,
   "metadata": {},
   "outputs": [],
   "source": [
    "test_all_losses,ys,lbls = test(main.model, main.test_dataloader,confusion=None)\n"
   ]
  },
  {
   "cell_type": "markdown",
   "metadata": {},
   "source": [
    "## IqrThreshold\n",
    "From all losses get the threshold And confusion metrics.\n",
    "Based onthe threshold and confusion, get the real output of test"
   ]
  },
  {
   "cell_type": "code",
   "execution_count": null,
   "metadata": {},
   "outputs": [],
   "source": [
    "thr=IqrSensorThreshold()\n",
    "thr.fit(train_all_loss)\n",
    "conf=MyConfusuion(thr=thr).to(device=param.device)\n",
    "print(\"test_all_losses.shape: \",test_all_losses.shape)\n",
    "conf.update(test_all_losses,lbls)\n",
    "confusion_matrix=conf.compute()\n",
    "confusion_matrix"
   ]
  },
  {
   "cell_type": "markdown",
   "metadata": {},
   "source": [
    "## MinMaxThreshold"
   ]
  },
  {
   "cell_type": "code",
   "execution_count": null,
   "metadata": {},
   "outputs": [],
   "source": [
    "\n",
    "mmthr=MinMaxThreshold(multiplier=.95)\n",
    "mmthr.fit(train_all_loss)\n",
    "preds=mmthr.transform(test_all_losses)\n",
    "mmConf=MyConfusuion(thr=mmthr).cuda()\n",
    "mmConf.update(test_all_losses,lbls)\n",
    "mmConf.compute()"
   ]
  },
  {
   "cell_type": "code",
   "execution_count": null,
   "metadata": {},
   "outputs": [],
   "source": [
    "dft=pd.DataFrame({\"FN\":[],\"FP\":[],\"m\":[]})\n",
    "for m in torch.arange(start=1.01,step=.0001,end=1.03):\n",
    "    mxthr=MinMaxThreshold(multiplier=m)\n",
    "    mxthr.fit(train_all_loss)\n",
    "    mpreds=mxthr.transform(test_all_losses)\n",
    "    mxConf=MyConfusuion(thr=mxthr).cuda()\n",
    "    mxConf.update(test_all_losses,lbls)\n",
    "    mtr=mxConf.compute().cpu().numpy()\n",
    "    dft.loc[len(dft)]=[mtr[0][1],mtr[1][0],m.numpy()]\n",
    "dft.plot(x=\"m\")"
   ]
  },
  {
   "cell_type": "code",
   "execution_count": null,
   "metadata": {},
   "outputs": [],
   "source": [
    "mmthr=ZscoreThreshold(threshold=3.42)\n",
    "mmthr.fit(train_all_loss)\n",
    "preds=mmthr.transform(test_all_losses)\n",
    "mmConf=MyConfusuion(thr=mmthr).cuda()\n",
    "mmConf.update(test_all_losses,lbls)\n",
    "mmConf.compute()"
   ]
  },
  {
   "cell_type": "code",
   "execution_count": null,
   "metadata": {},
   "outputs": [],
   "source": [
    "dft=pd.DataFrame({\"FN\":[],\"FP\":[],\"m\":[]})\n",
    "for m in torch.arange(start=.8,step=.01,end=3.8):\n",
    "    mxthr=ZscoreThreshold(threshold=m)\n",
    "    mxthr.fit(train_all_loss)\n",
    "    mpreds=mxthr.transform(test_all_losses)\n",
    "    mxConf=MyConfusuion(thr=mxthr).cuda()\n",
    "    mxConf.update(test_all_losses,lbls)\n",
    "    mtr=mxConf.compute().cpu().numpy()\n",
    "    dft.loc[len(dft)]=[mtr[0][1],mtr[1][0],m.numpy()]\n",
    "dft.plot(x=\"m\")"
   ]
  },
  {
   "cell_type": "markdown",
   "metadata": {},
   "source": [
    "## AbsMaxThreshold"
   ]
  },
  {
   "cell_type": "code",
   "execution_count": null,
   "metadata": {},
   "outputs": [],
   "source": [
    "from evaluate import AbsMaxThreshold\n",
    "mmthr=AbsMaxThreshold(multiplier=3.7)\n",
    "mmthr.fit(train_all_loss)\n",
    "preds=mmthr.transform(test_all_losses)\n",
    "mmConf=MyConfusuion(thr=mmthr).cuda()\n",
    "mmConf.update(test_all_losses,lbls)\n",
    "mmConf.compute()"
   ]
  },
  {
   "cell_type": "code",
   "execution_count": null,
   "metadata": {},
   "outputs": [],
   "source": [
    "\n",
    "dft=pd.DataFrame({\"FN\":[],\"FP\":[]})\n",
    "for m in torch.arange(start=.5,step=.1,end=5):\n",
    "    mxthr=AbsMaxThreshold(multiplier=m)\n",
    "    mxthr.fit(train_all_loss)\n",
    "    mpreds=mxthr.transform(test_all_losses)\n",
    "    mxConf=MyConfusuion(thr=mxthr).cuda()\n",
    "    mxConf.update(test_all_losses,lbls)\n",
    "    mtr=mxConf.compute().cpu().numpy()\n",
    "    dft.loc[len(dft)]=[mtr[0][1],mtr[1][0]]\n",
    "dft.plot()"
   ]
  },
  {
   "cell_type": "code",
   "execution_count": null,
   "metadata": {},
   "outputs": [],
   "source": [
    "mmthr=IqrSensorThreshold()\n",
    "# mmthr=MinMaxThreshold(multiplier=1.025)\n",
    "mmthr.fit(train_all_loss)\n",
    "preds=mmthr.transform(test_all_losses)"
   ]
  },
  {
   "cell_type": "markdown",
   "metadata": {},
   "source": [
    "## PLOTTING\n",
    "\n",
    "\n",
    "all test Datasets"
   ]
  },
  {
   "cell_type": "code",
   "execution_count": null,
   "metadata": {},
   "outputs": [],
   "source": [
    "\n",
    "df=pd.DataFrame({\"preds\":preds.tolist(),\"truth\":lbls.tolist()})\n",
    "df.plot()"
   ]
  },
  {
   "cell_type": "markdown",
   "metadata": {},
   "source": [
    "Each attack zone\n"
   ]
  },
  {
   "cell_type": "code",
   "execution_count": null,
   "metadata": {},
   "outputs": [],
   "source": [
    "import matplotlib.pyplot as plt\n",
    "from util.data import get_attack_interval,getAttacks\n",
    "\n",
    "\n",
    "attacks=getAttacks(df,\"truth\")\n",
    "# Identify contiguous regions of ones\n",
    "\n",
    "# Create subplots dynamically\n",
    "num_regions = len(attacks)\n",
    "fig, axes = plt.subplots(num_regions, 1, figsize=(8, 3*num_regions), sharex=False)\n",
    "\n",
    "if num_regions == 1:\n",
    "    axes = [axes]  # Ensure axes is iterable\n",
    "\n",
    "for i in range(num_regions):\n",
    "    # first_idx = group.index.min()  # First occurrence of 1\n",
    "    # last_idx = group.index.max()   # Last occurrence of 1\n",
    "    [first_idx,last_idx]=attacks[i]\n",
    "    range_before = first_idx - int(2.0 *(last_idx-first_idx))\n",
    "    range_after = last_idx + int(2.0 *(last_idx-first_idx))\n",
    "    if range_before<0:\n",
    "        range_before=0\n",
    "    if range_after>len(df):\n",
    "        range_after=last_idx\n",
    "    # df.iloc[first_idx:last_idx].plot(ax=ax)\n",
    "    axes[i].plot( df.loc[range_before:range_after,'truth'], label=\"Truth\")\n",
    "    axes[i].plot( df.loc[range_before:range_after,'preds'], color='red', label=\"Preds\",linestyle=\"--\")\n",
    "\n",
    "    # ax.set_xlim(range_before, range_after)  # X-axis limit dynamically adjusted\n",
    "    # ax.set(ybound=(0, max(df['preds']) + 10))  # Corrected method for Y-axis limits\n",
    "\n",
    "    axes[i].set_title(f\"Attack {i+1}\")\n",
    "    axes[i].legend()\n",
    "    axes[i].grid(True)\n",
    "\n",
    "plt.xlabel(\"Index\")\n",
    "plt.tight_layout()\n",
    "plt.show()"
   ]
  },
  {
   "cell_type": "code",
   "execution_count": null,
   "metadata": {},
   "outputs": [],
   "source": [
    "print(\"max: \",test_result[0].max(),\n",
    "    #   val_result[0].max(),\n",
    "      train_result[0].max())\n",
    "print(\"min: \",test_result[0].min(),\n",
    "    #   val_result[0].min(),\n",
    "      train_result[0].min())\n"
   ]
  },
  {
   "cell_type": "code",
   "execution_count": null,
   "metadata": {},
   "outputs": [],
   "source": [
    "from util.data import getAttacks"
   ]
  },
  {
   "cell_type": "code",
   "execution_count": null,
   "metadata": {},
   "outputs": [],
   "source": [
    "minimum=0#val_result[0].min()\n",
    "maximum=train_result[0].max().item()*1#*24.5\n",
    "\n",
    "pred=torch.where((test_result[0]>maximum) ,torch.tensor(1),torch.tensor(0)).cpu().numpy()\n",
    "labels_df=pd.DataFrame({\"pred\":pred,\"truth\":test_result[2].cpu().numpy()})\n",
    "attacks=getAttacks(labels_df,\"truth\")\n"
   ]
  },
  {
   "cell_type": "code",
   "execution_count": null,
   "metadata": {},
   "outputs": [],
   "source": [
    "\n",
    "for i,attack in enumerate(attacks):\n",
    "    left=(attack[0]//100)*100\n",
    "    right=((attack[1]//100)+1)*100\n",
    "    labels_df.loc[left:right].plot(title=f\"attack {i+1}\")"
   ]
  },
  {
   "cell_type": "code",
   "execution_count": null,
   "metadata": {},
   "outputs": [],
   "source": [
    "r=test_result[3].sum(-1)\n",
    "print(r.max(),r.min(),r.mean())"
   ]
  },
  {
   "cell_type": "code",
   "execution_count": null,
   "metadata": {},
   "outputs": [],
   "source": [
    "from evaluate import createMetrics\n",
    "k=createMetrics(test_result,maximum)\n",
    "print(k)\n",
    "k.keys()"
   ]
  },
  {
   "cell_type": "code",
   "execution_count": null,
   "metadata": {},
   "outputs": [],
   "source": [
    "k2=['TP', 'FP', 'TN', 'FN']\n",
    "k1=[\"Accuracy\",\"Precision\",\"Recall\",\"F1\"]\n",
    "d1={key:[] for key in k1}\n",
    "d2={key:[] for key in k2}\n",
    "x=[]\n",
    "for i in range(100):\n",
    "    _max=maximum*(.5+i/100)\n",
    "    rr=createMetrics(test_result,_max)\n",
    "    x.append(_max)\n",
    "    for key  in d1.keys():\n",
    "        d1[key].append(float(rr[key]))\n",
    "    for key  in d2.keys():\n",
    "        d2[key].append(float(rr[key]))"
   ]
  }
 ],
 "metadata": {
  "kernelspec": {
   "display_name": "cuda_12_4",
   "language": "python",
   "name": "python3"
  },
  "language_info": {
   "codemirror_mode": {
    "name": "ipython",
    "version": 3
   },
   "file_extension": ".py",
   "mimetype": "text/x-python",
   "name": "python",
   "nbconvert_exporter": "python",
   "pygments_lexer": "ipython3",
   "version": "3.12.9"
  }
 },
 "nbformat": 4,
 "nbformat_minor": 2
}
