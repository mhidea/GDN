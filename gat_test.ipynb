{
 "cells": [
  {
   "cell_type": "code",
   "execution_count": 1,
   "id": "e1bfae83",
   "metadata": {},
   "outputs": [],
   "source": [
    "import torch \n",
    "import torch_geometric\n",
    "import torch.nn.functional as F"
   ]
  },
  {
   "cell_type": "code",
   "execution_count": null,
   "id": "3155ea66",
   "metadata": {},
   "outputs": [
    {
     "data": {
      "text/plain": [
       "tensor([[ 0.,  1.,  2.,  3.],\n",
       "        [ 4.,  5.,  6.,  7.],\n",
       "        [ 8.,  9., 10., 11.]])"
      ]
     },
     "execution_count": 2,
     "metadata": {},
     "output_type": "execute_result"
    }
   ],
   "source": [
    "x=torch.arange(12).reshape(3,4).float()\n"
   ]
  },
  {
   "cell_type": "code",
   "execution_count": 6,
   "id": "bb632834",
   "metadata": {},
   "outputs": [
    {
     "data": {
      "text/plain": [
       "tensor([[ 0.,  1.,  2.,  3.],\n",
       "        [ 4.,  5.,  6.,  7.],\n",
       "        [ 8.,  9., 10., 11.]])"
      ]
     },
     "execution_count": 6,
     "metadata": {},
     "output_type": "execute_result"
    }
   ],
   "source": [
    "x"
   ]
  },
  {
   "cell_type": "code",
   "execution_count": 11,
   "id": "7d2a8823",
   "metadata": {},
   "outputs": [
    {
     "data": {
      "text/plain": [
       "tensor([0., 1., 2., 3.])"
      ]
     },
     "execution_count": 11,
     "metadata": {},
     "output_type": "execute_result"
    }
   ],
   "source": [
    "x[0]"
   ]
  },
  {
   "cell_type": "code",
   "execution_count": 13,
   "id": "58291ed4",
   "metadata": {},
   "outputs": [
    {
     "data": {
      "text/plain": [
       "tensor([[0.0000, 0.2673, 0.5345, 0.8018],\n",
       "        [0.3563, 0.4454, 0.5345, 0.6236],\n",
       "        [0.4182, 0.4704, 0.5227, 0.5750]])"
      ]
     },
     "execution_count": 13,
     "metadata": {},
     "output_type": "execute_result"
    }
   ],
   "source": [
    "F.normalize(x,dim=1)\n"
   ]
  },
  {
   "cell_type": "code",
   "execution_count": 16,
   "id": "5eba9778",
   "metadata": {},
   "outputs": [
    {
     "data": {
      "text/plain": [
       "tensor(0.0882)"
      ]
     },
     "execution_count": 16,
     "metadata": {},
     "output_type": "execute_result"
    }
   ],
   "source": [
    "torch.matmul(F.normalize(x,dim=0)[0],F.normalize(x,dim=0)[0])"
   ]
  },
  {
   "cell_type": "code",
   "execution_count": 2,
   "id": "60ee49b4",
   "metadata": {},
   "outputs": [],
   "source": [
    "num_nodes = 4\n",
    "embedding_dim = 8\n",
    "top_k = 2\n",
    "directed = True\n",
    "\n",
    "# Learnable time series embeddings\n",
    "node_embeddings = torch.nn.Parameter(torch.Tensor(num_nodes, embedding_dim))\n"
   ]
  },
  {
   "cell_type": "code",
   "execution_count": null,
   "id": "d57570ac",
   "metadata": {},
   "outputs": [],
   "source": [
    "from torch_geometric.nn import GAT\n",
    "\n",
    "m=GAT(2,4,1,dropout=0.5,add_self_loops=True,negative_slope=0.2,v2=True)   "
   ]
  },
  {
   "cell_type": "code",
   "execution_count": null,
   "id": "427f71db",
   "metadata": {},
   "outputs": [],
   "source": [
    "tor"
   ]
  },
  {
   "cell_type": "code",
   "execution_count": 4,
   "id": "c4963e9e",
   "metadata": {},
   "outputs": [
    {
     "data": {
      "text/plain": [
       "tensor([[ 0.0000,  0.0000,  0.0000,  0.0000],\n",
       "        [-0.8767,  1.5158,  0.6576, -0.2324],\n",
       "        [-0.4523,  0.8355,  0.3821, -0.2194],\n",
       "        [-0.5404,  0.9982,  0.4565, -0.2621]], grad_fn=<AddBackward0>)"
      ]
     },
     "execution_count": 4,
     "metadata": {},
     "output_type": "execute_result"
    }
   ],
   "source": [
    "m(torch.rand(num_nodes,2)\n",
    "  ,edge_index=torch.tensor([[0, 1, 2, 3], [1, 2, 3, 0]])\n",
    "#   ,return_attention_weights =True\n",
    "  )#,edge_attr=torch.rand(4,embedding_dim))  "
   ]
  },
  {
   "cell_type": "code",
   "execution_count": 19,
   "id": "96dcbf91",
   "metadata": {},
   "outputs": [
    {
     "data": {
      "text/plain": [
       "Parameter containing:\n",
       "tensor([[ 0.2892,  0.2088,  0.5510, -0.5835,  0.0499, -0.3093, -0.2231,  0.4342],\n",
       "        [ 0.2747, -0.6460,  0.6218,  0.0903,  0.1982, -0.1554, -0.0335, -0.0292],\n",
       "        [ 0.2904,  0.5400, -0.2818,  0.3414,  0.5780,  0.5268,  0.6351,  0.1526],\n",
       "        [ 0.4842, -0.2012,  0.2333,  0.0155, -0.2962, -0.2112,  0.6932,  0.1884]],\n",
       "       requires_grad=True)"
      ]
     },
     "execution_count": 19,
     "metadata": {},
     "output_type": "execute_result"
    }
   ],
   "source": [
    "torch.nn.init.xavier_uniform_(node_embeddings)"
   ]
  },
  {
   "cell_type": "code",
   "execution_count": 14,
   "id": "e1b0c1d4",
   "metadata": {},
   "outputs": [
    {
     "data": {
      "text/plain": [
       "Parameter containing:\n",
       "tensor([[1.6909e+07, 1.6381e-42, 0.0000e+00, 0.0000e+00, 0.0000e+00, 0.0000e+00,\n",
       "         0.0000e+00, 0.0000e+00],\n",
       "        [0.0000e+00, 0.0000e+00, 0.0000e+00, 0.0000e+00, 0.0000e+00, 0.0000e+00,\n",
       "         0.0000e+00, 0.0000e+00],\n",
       "        [0.0000e+00, 0.0000e+00, 0.0000e+00, 0.0000e+00, 0.0000e+00, 0.0000e+00,\n",
       "         0.0000e+00, 0.0000e+00],\n",
       "        [0.0000e+00, 0.0000e+00, 0.0000e+00, 0.0000e+00, 0.0000e+00, 0.0000e+00,\n",
       "         0.0000e+00, 0.0000e+00]], requires_grad=True)"
      ]
     },
     "execution_count": 14,
     "metadata": {},
     "output_type": "execute_result"
    }
   ],
   "source": [
    "node_embeddings"
   ]
  },
  {
   "cell_type": "code",
   "execution_count": 21,
   "id": "7963af65",
   "metadata": {},
   "outputs": [
    {
     "data": {
      "text/plain": [
       "Parameter containing:\n",
       "tensor([[ 0.2892,  0.2088,  0.5510, -0.5835,  0.0499, -0.3093, -0.2231,  0.4342],\n",
       "        [ 0.2747, -0.6460,  0.6218,  0.0903,  0.1982, -0.1554, -0.0335, -0.0292],\n",
       "        [ 0.2904,  0.5400, -0.2818,  0.3414,  0.5780,  0.5268,  0.6351,  0.1526],\n",
       "        [ 0.4842, -0.2012,  0.2333,  0.0155, -0.2962, -0.2112,  0.6932,  0.1884]],\n",
       "       requires_grad=True)"
      ]
     },
     "execution_count": 21,
     "metadata": {},
     "output_type": "execute_result"
    }
   ],
   "source": [
    "normalized_embeddings = F.normalize(node_embeddings, p=2, dim=1)\n",
    "node_embeddings\n"
   ]
  },
  {
   "cell_type": "code",
   "execution_count": 22,
   "id": "aa13c748",
   "metadata": {},
   "outputs": [
    {
     "data": {
      "text/plain": [
       "tensor([[ 1.0000,  0.2796, -0.2750,  0.1875],\n",
       "        [ 0.2796,  1.0000, -0.3282,  0.3675],\n",
       "        [-0.2750, -0.3282,  1.0000,  0.1259],\n",
       "        [ 0.1875,  0.3675,  0.1259,  1.0000]], grad_fn=<MmBackward0>)"
      ]
     },
     "execution_count": 22,
     "metadata": {},
     "output_type": "execute_result"
    }
   ],
   "source": [
    "# Compute cosine similarity matrix\n",
    "sim_matrix = torch.mm(normalized_embeddings, normalized_embeddings.t())\n",
    "sim_matrix\n"
   ]
  },
  {
   "cell_type": "code",
   "execution_count": 23,
   "id": "4683ec11",
   "metadata": {},
   "outputs": [
    {
     "data": {
      "text/plain": [
       "(tensor([[ 0.2796,  0.1875],\n",
       "         [ 0.3675,  0.2796],\n",
       "         [ 0.1259, -0.2750],\n",
       "         [ 0.3675,  0.1875]], grad_fn=<TopkBackward0>),\n",
       " tensor([[1, 3],\n",
       "         [3, 0],\n",
       "         [3, 0],\n",
       "         [1, 0]]))"
      ]
     },
     "execution_count": 23,
     "metadata": {},
     "output_type": "execute_result"
    }
   ],
   "source": [
    "# Ensure self-similarity is not selected\n",
    "sim_matrix.fill_diagonal_(-1)  # Set diagonal to -1 to exclude self-connections\n",
    "\n",
    "# Get top-k neighbors for each node\n",
    "topk_values, topk_indices = torch.topk(sim_matrix, k=top_k, dim=1)\n",
    "topk_values, topk_indices\n"
   ]
  },
  {
   "cell_type": "code",
   "execution_count": 24,
   "id": "89f864c1",
   "metadata": {},
   "outputs": [
    {
     "data": {
      "text/plain": [
       "tensor([[0., 1., 0., 1.],\n",
       "        [1., 0., 0., 1.],\n",
       "        [1., 0., 0., 1.],\n",
       "        [1., 1., 0., 0.]])"
      ]
     },
     "execution_count": 24,
     "metadata": {},
     "output_type": "execute_result"
    }
   ],
   "source": [
    "# Create binary adjacency mask\n",
    "adj_mask = torch.zeros_like(sim_matrix)\n",
    "adj_mask.scatter_(1, topk_indices, 1.0)\n",
    "adj_mask\n"
   ]
  },
  {
   "cell_type": "code",
   "execution_count": null,
   "id": "4eae524c",
   "metadata": {},
   "outputs": [],
   "source": [
    "# For undirected graphs, ensure symmetric connections\n",
    "if not directed:\n",
    "    adj_mask = torch.max(adj_mask, adj_mask.t())\n",
    "    # Remove self-loops\n",
    "    adj_mask.fill_diagonal_(0)"
   ]
  },
  {
   "cell_type": "code",
   "execution_count": 27,
   "id": "261cd071",
   "metadata": {},
   "outputs": [
    {
     "data": {
      "text/plain": [
       "Parameter containing:\n",
       "tensor([[[-1.6988e+32,  1.1280e-42,  0.0000e+00,  0.0000e+00,  0.0000e+00],\n",
       "         [ 0.0000e+00,  0.0000e+00,  0.0000e+00,  0.0000e+00,  0.0000e+00]]],\n",
       "       requires_grad=True)"
      ]
     },
     "execution_count": 27,
     "metadata": {},
     "output_type": "execute_result"
    }
   ],
   "source": [
    "torch.nn.Parameter(torch.empty(1, 2, 5))"
   ]
  },
  {
   "cell_type": "code",
   "execution_count": null,
   "id": "5b736d6f",
   "metadata": {},
   "outputs": [
    {
     "ename": "TypeError",
     "evalue": "Parameter.__new__() takes from 1 to 3 positional arguments but 4 were given",
     "output_type": "error",
     "traceback": [
      "\u001b[31m---------------------------------------------------------------------------\u001b[39m",
      "\u001b[31mTypeError\u001b[39m                                 Traceback (most recent call last)",
      "\u001b[36mCell\u001b[39m\u001b[36m \u001b[39m\u001b[32mIn[29]\u001b[39m\u001b[32m, line 1\u001b[39m\n\u001b[32m----> \u001b[39m\u001b[32m1\u001b[39m \u001b[43mtorch\u001b[49m\u001b[43m.\u001b[49m\u001b[43mnn\u001b[49m\u001b[43m.\u001b[49m\u001b[43mParameter\u001b[49m\u001b[43m(\u001b[49m\u001b[32;43m1\u001b[39;49m\u001b[43m,\u001b[49m\u001b[43m \u001b[49m\u001b[32;43m2\u001b[39;49m\u001b[43m,\u001b[49m\u001b[43m \u001b[49m\u001b[32;43m5\u001b[39;49m\u001b[43m)\u001b[49m\n",
      "\u001b[31mTypeError\u001b[39m: Parameter.__new__() takes from 1 to 3 positional arguments but 4 were given"
     ]
    }
   ],
   "source": [
    "torch.nn.Parameter()"
   ]
  },
  {
   "cell_type": "code",
   "execution_count": 25,
   "id": "4455ba5a",
   "metadata": {},
   "outputs": [
    {
     "data": {
      "text/plain": [
       "torch.Size([4, 8])"
      ]
     },
     "execution_count": 25,
     "metadata": {},
     "output_type": "execute_result"
    }
   ],
   "source": [
    "node_embeddings.shape"
   ]
  },
  {
   "cell_type": "code",
   "execution_count": 26,
   "id": "f9d4adde",
   "metadata": {},
   "outputs": [
    {
     "data": {
      "text/plain": [
       "tensor([[0.9361, 0.0897, 0.6139],\n",
       "        [0.5780, 0.2410, 0.9744],\n",
       "        [0.1290, 0.1885, 0.6918],\n",
       "        [0.7335, 0.6535, 0.1109]])"
      ]
     },
     "execution_count": 26,
     "metadata": {},
     "output_type": "execute_result"
    }
   ],
   "source": [
    "x=torch.rand(4,3)\n",
    "x"
   ]
  },
  {
   "cell_type": "code",
   "execution_count": 24,
   "id": "fb01a7a4",
   "metadata": {},
   "outputs": [],
   "source": [
    "import torch_geometric.utils\n",
    "\n",
    "\n",
    "adj=torch.ones(4,4)\n",
    "adj,f=torch_geometric.utils.dense_to_sparse(adj)\n",
    "adj,f=torch_geometric.utils.remove_self_loops(adj)"
   ]
  },
  {
   "cell_type": "code",
   "execution_count": 25,
   "id": "542b2ce5",
   "metadata": {},
   "outputs": [],
   "source": [
    "model = torch_geometric.nn.GAT(num_layers=1,hidden_channels=6,in_channels=-1,out_channels=2)"
   ]
  },
  {
   "cell_type": "code",
   "execution_count": 32,
   "id": "5a6bae73",
   "metadata": {},
   "outputs": [
    {
     "data": {
      "text/plain": [
       "tensor([[-0.9533,  0.6493],\n",
       "        [-0.9533,  0.6493],\n",
       "        [-0.9533,  0.6493],\n",
       "        [-0.9533,  0.6493]], grad_fn=<AddBackward0>)"
      ]
     },
     "execution_count": 32,
     "metadata": {},
     "output_type": "execute_result"
    }
   ],
   "source": [
    "model(x,adj)"
   ]
  }
 ],
 "metadata": {
  "kernelspec": {
   "display_name": "cuda_12_4",
   "language": "python",
   "name": "python3"
  },
  "language_info": {
   "codemirror_mode": {
    "name": "ipython",
    "version": 3
   },
   "file_extension": ".py",
   "mimetype": "text/x-python",
   "name": "python",
   "nbconvert_exporter": "python",
   "pygments_lexer": "ipython3",
   "version": "3.12.9"
  }
 },
 "nbformat": 4,
 "nbformat_minor": 5
}
