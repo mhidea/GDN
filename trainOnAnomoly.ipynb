{
 "cells": [
  {
   "cell_type": "code",
   "execution_count": 5,
   "id": "f4577c21",
   "metadata": {},
   "outputs": [],
   "source": [
    "import os\n",
    "import torch\n",
    "import pandas as pd\n",
    "import pickle\n",
    "from util.params import Params\n",
    "from main import Main\n",
    "from util.env import set_param\n",
    "from evaluate import createMetrics,createStats"
   ]
  },
  {
   "cell_type": "markdown",
   "id": "ec1dd1f8",
   "metadata": {},
   "source": [
    "## Load a trained model and its dataset\n"
   ]
  },
  {
   "cell_type": "code",
   "execution_count": 6,
   "id": "76e26005",
   "metadata": {},
   "outputs": [
    {
     "name": "stdout",
     "output_type": "stream",
     "text": [
      "# DATASET \n",
      "\n",
      "*Datasets.batadal*\n",
      "#####################################\n",
      "sensors count:  28\n",
      "actuators count:  8\n",
      "consts count:  7\n",
      "consts:  {'S_PU1': 1.0, 'F_PU3': 0.0, 'S_PU3': 0.0, 'F_PU5': 0.0, 'S_PU5': 0.0, 'F_PU9': 0.0, 'S_PU9': 0.0}\n",
      "#####################################\n",
      "['L_T1', 'L_T2', 'L_T3', 'L_T4', 'L_T5', 'L_T6', 'L_T7', 'F_PU1', 'F_PU2', 'F_PU4', 'F_PU6', 'F_PU7', 'F_PU8', 'F_PU10', 'F_PU11', 'F_V2', 'P_J280', 'P_J269', 'P_J300', 'P_J256', 'P_J289', 'P_J415', 'P_J302', 'P_J306', 'P_J307', 'P_J317', 'P_J14', 'P_J422']\n",
      "Model is trained. Loading from file .....\n"
     ]
    }
   ],
   "source": [
    "main_path=\"./snapshot/gdn_batadal/25_04_05_21_19_02\"\n",
    "run=0\n",
    "path = f\"{main_path}/{run}/\"\n",
    "if not os.path.exists(f\"{path}param.pickle\"):\n",
    "    print(f\"Skipping run {run}\")\n",
    "else:\n",
    "    param: Params = pickle.load(file=open(f\"{path}param.pickle\", \"rb\"))\n",
    "    mode_dict = pickle.load(file=open(f\"{path}model_parameters.pickle\", \"rb\"))\n",
    "    param.val_ratio = 0\n",
    "    set_param(param)\n",
    "    # print(param.summary())\n",
    "    main = Main(param=param, modelParams=mode_dict)\n",
    "    _, _, label = next(\n",
    "            iter(\n",
    "                torch.utils.data.DataLoader(\n",
    "                    main.test_dataset,\n",
    "                    batch_size=main.test_dataset.__len__(),\n",
    "                    shuffle=False,\n",
    "                    pin_memory=False,\n",
    "                )\n",
    "            )\n",
    "        )"
   ]
  },
  {
   "cell_type": "markdown",
   "id": "50fb384f",
   "metadata": {},
   "source": [
    "## Find an split attacks"
   ]
  },
  {
   "cell_type": "code",
   "execution_count": 14,
   "id": "0b803802",
   "metadata": {},
   "outputs": [
    {
     "name": "stdout",
     "output_type": "stream",
     "text": [
      "(['L_T1', 'L_T2', 'L_T3', 'L_T4', 'L_T5', 'L_T6', 'L_T7', 'F_PU1', 'F_PU2', 'F_PU4', 'F_PU6', 'F_PU7', 'F_PU8', 'F_PU10', 'F_PU11', 'F_V2', 'P_J280', 'P_J269', 'P_J300', 'P_J256', 'P_J289', 'P_J415', 'P_J302', 'P_J306', 'P_J307', 'P_J317', 'P_J14', 'P_J422'], ['S_PU2', 'S_PU4', 'S_PU6', 'S_PU7', 'S_PU8', 'S_PU10', 'S_PU11', 'S_V2'], {'S_PU1': 1.0, 'F_PU3': 0.0, 'S_PU3': 0.0, 'F_PU5': 0.0, 'S_PU5': 0.0, 'F_PU9': 0.0, 'S_PU9': 0.0})\n",
      "                 L_T1      L_T2      L_T3      L_T4      L_T5      L_T6  \\\n",
      "datetime                                                                  \n",
      "04/07/16 00  0.465785  0.921079  0.120444  0.780302  0.546007  1.000000   \n",
      "04/07/16 01  0.514124  0.788861  0.124365  0.810058  0.695860  0.911163   \n",
      "04/07/16 02  0.612998  0.626847  0.304745  0.821216  0.897987  0.481784   \n",
      "04/07/16 03  0.725056  0.511390  0.504731  0.757985  0.789953  0.230080   \n",
      "04/07/16 04  0.826128  0.444350  0.724324  0.445547  0.633131  0.837132   \n",
      "...               ...       ...       ...       ...       ...       ...   \n",
      "24/12/16 20  0.511926  0.386621  0.379250  0.386035  0.880562  0.170855   \n",
      "24/12/16 21  0.421841  0.422003  0.210634  0.341401  0.835258  0.289304   \n",
      "24/12/16 22  0.349332  0.459247  0.026333  0.181462  0.490248  0.466978   \n",
      "24/12/16 23  0.263641  0.414554  0.175342  0.010365  0.138268  0.407754   \n",
      "25/12/16 00  0.171358  0.340065  0.332194  0.270730  0.099934  0.452172   \n",
      "\n",
      "                 L_T7     F_PU1  S_PU1     F_PU2  ...  Unnamed: 16374  \\\n",
      "datetime                                          ...                   \n",
      "04/07/16 00  0.845487  0.218616      1  0.935184  ...             NaN   \n",
      "04/07/16 01  0.880971  0.105207      1  0.893044  ...             NaN   \n",
      "04/07/16 02  0.548941  0.117838      1  0.897637  ...             NaN   \n",
      "04/07/16 03  0.341106  0.070002      1  0.879962  ...             NaN   \n",
      "04/07/16 04  0.609771  0.040709      1  0.869077  ...             NaN   \n",
      "...               ...       ...    ...       ...  ...             ...   \n",
      "24/12/16 20  0.287879  0.929438      1  0.000000  ...             NaN   \n",
      "24/12/16 21  0.232119  0.903639      1  0.000000  ...             NaN   \n",
      "24/12/16 22  0.206773  0.946369      1  0.000000  ...             NaN   \n",
      "24/12/16 23  0.085113  0.927826      1  0.000000  ...             NaN   \n",
      "25/12/16 00  0.034421  0.936157      1  0.000000  ...             NaN   \n",
      "\n",
      "             Unnamed: 16375  Unnamed: 16376  Unnamed: 16377  Unnamed: 16378  \\\n",
      "datetime                                                                      \n",
      "04/07/16 00             NaN             NaN             NaN             NaN   \n",
      "04/07/16 01             NaN             NaN             NaN             NaN   \n",
      "04/07/16 02             NaN             NaN             NaN             NaN   \n",
      "04/07/16 03             NaN             NaN             NaN             NaN   \n",
      "04/07/16 04             NaN             NaN             NaN             NaN   \n",
      "...                     ...             ...             ...             ...   \n",
      "24/12/16 20             NaN             NaN             NaN             NaN   \n",
      "24/12/16 21             NaN             NaN             NaN             NaN   \n",
      "24/12/16 22             NaN             NaN             NaN             NaN   \n",
      "24/12/16 23             NaN             NaN             NaN             NaN   \n",
      "25/12/16 00             NaN             NaN             NaN             NaN   \n",
      "\n",
      "             Unnamed: 16379  Unnamed: 16380  Unnamed: 16381  Unnamed: 16382  \\\n",
      "datetime                                                                      \n",
      "04/07/16 00             NaN             NaN             NaN             NaN   \n",
      "04/07/16 01             NaN             NaN             NaN             NaN   \n",
      "04/07/16 02             NaN             NaN             NaN             NaN   \n",
      "04/07/16 03             NaN             NaN             NaN             NaN   \n",
      "04/07/16 04             NaN             NaN             NaN             NaN   \n",
      "...                     ...             ...             ...             ...   \n",
      "24/12/16 20             NaN             NaN             NaN             NaN   \n",
      "24/12/16 21             NaN             NaN             NaN             NaN   \n",
      "24/12/16 22             NaN             NaN             NaN             NaN   \n",
      "24/12/16 23             NaN             NaN             NaN             NaN   \n",
      "25/12/16 00             NaN             NaN             NaN             NaN   \n",
      "\n",
      "             Unnamed: 16383  \n",
      "datetime                     \n",
      "04/07/16 00             NaN  \n",
      "04/07/16 01             NaN  \n",
      "04/07/16 02             NaN  \n",
      "04/07/16 03             NaN  \n",
      "04/07/16 04             NaN  \n",
      "...                     ...  \n",
      "24/12/16 20             NaN  \n",
      "24/12/16 21             NaN  \n",
      "24/12/16 22             NaN  \n",
      "24/12/16 23             NaN  \n",
      "25/12/16 00             NaN  \n",
      "\n",
      "[4177 rows x 16383 columns]\n"
     ]
    }
   ],
   "source": [
    "from util.data import getAttacks\n",
    "train_df,test_df,columns=main._prepareDF(scale=True,dataset=param.dataset)\n",
    "print(columns)\n",
    "test_df[\"attack\"].astype(pd.Float32Dtype())\n",
    "print(test_df)"
   ]
  },
  {
   "cell_type": "code",
   "execution_count": 15,
   "id": "7ff719c7",
   "metadata": {},
   "outputs": [
    {
     "name": "stdout",
     "output_type": "stream",
     "text": [
      "numebr of attacks =  219\n",
      "First attack index is :  14/09/16 03\n",
      "Last attack index is :  09/12/16 21\n"
     ]
    },
    {
     "ename": "TypeError",
     "evalue": "unsupported operand type(s) for -: 'str' and 'str'",
     "output_type": "error",
     "traceback": [
      "\u001b[31m---------------------------------------------------------------------------\u001b[39m",
      "\u001b[31mTypeError\u001b[39m                                 Traceback (most recent call last)",
      "\u001b[36mFile \u001b[39m\u001b[32mc:\\Users\\moji\\miniconda3\\envs\\cuda_12_4\\Lib\\site-packages\\pandas\\core\\ops\\array_ops.py:218\u001b[39m, in \u001b[36m_na_arithmetic_op\u001b[39m\u001b[34m(left, right, op, is_cmp)\u001b[39m\n\u001b[32m    217\u001b[39m \u001b[38;5;28;01mtry\u001b[39;00m:\n\u001b[32m--> \u001b[39m\u001b[32m218\u001b[39m     result = \u001b[43mfunc\u001b[49m\u001b[43m(\u001b[49m\u001b[43mleft\u001b[49m\u001b[43m,\u001b[49m\u001b[43m \u001b[49m\u001b[43mright\u001b[49m\u001b[43m)\u001b[49m\n\u001b[32m    219\u001b[39m \u001b[38;5;28;01mexcept\u001b[39;00m \u001b[38;5;167;01mTypeError\u001b[39;00m:\n",
      "\u001b[36mFile \u001b[39m\u001b[32mc:\\Users\\moji\\miniconda3\\envs\\cuda_12_4\\Lib\\site-packages\\pandas\\core\\computation\\expressions.py:242\u001b[39m, in \u001b[36mevaluate\u001b[39m\u001b[34m(op, a, b, use_numexpr)\u001b[39m\n\u001b[32m    240\u001b[39m     \u001b[38;5;28;01mif\u001b[39;00m use_numexpr:\n\u001b[32m    241\u001b[39m         \u001b[38;5;66;03m# error: \"None\" not callable\u001b[39;00m\n\u001b[32m--> \u001b[39m\u001b[32m242\u001b[39m         \u001b[38;5;28;01mreturn\u001b[39;00m \u001b[43m_evaluate\u001b[49m\u001b[43m(\u001b[49m\u001b[43mop\u001b[49m\u001b[43m,\u001b[49m\u001b[43m \u001b[49m\u001b[43mop_str\u001b[49m\u001b[43m,\u001b[49m\u001b[43m \u001b[49m\u001b[43ma\u001b[49m\u001b[43m,\u001b[49m\u001b[43m \u001b[49m\u001b[43mb\u001b[49m\u001b[43m)\u001b[49m  \u001b[38;5;66;03m# type: ignore[misc]\u001b[39;00m\n\u001b[32m    243\u001b[39m \u001b[38;5;28;01mreturn\u001b[39;00m _evaluate_standard(op, op_str, a, b)\n",
      "\u001b[36mFile \u001b[39m\u001b[32mc:\\Users\\moji\\miniconda3\\envs\\cuda_12_4\\Lib\\site-packages\\pandas\\core\\computation\\expressions.py:73\u001b[39m, in \u001b[36m_evaluate_standard\u001b[39m\u001b[34m(op, op_str, a, b)\u001b[39m\n\u001b[32m     72\u001b[39m     _store_test_result(\u001b[38;5;28;01mFalse\u001b[39;00m)\n\u001b[32m---> \u001b[39m\u001b[32m73\u001b[39m \u001b[38;5;28;01mreturn\u001b[39;00m \u001b[43mop\u001b[49m\u001b[43m(\u001b[49m\u001b[43ma\u001b[49m\u001b[43m,\u001b[49m\u001b[43m \u001b[49m\u001b[43mb\u001b[49m\u001b[43m)\u001b[49m\n",
      "\u001b[31mTypeError\u001b[39m: unsupported operand type(s) for -: 'str' and 'str'",
      "\nDuring handling of the above exception, another exception occurred:\n",
      "\u001b[31mTypeError\u001b[39m                                 Traceback (most recent call last)",
      "\u001b[36mCell\u001b[39m\u001b[36m \u001b[39m\u001b[32mIn[15]\u001b[39m\u001b[32m, line 1\u001b[39m\n\u001b[32m----> \u001b[39m\u001b[32m1\u001b[39m attacks = \u001b[43mgetAttacks\u001b[49m\u001b[43m(\u001b[49m\u001b[43mtest_df\u001b[49m\u001b[43m,\u001b[49m\u001b[43m \u001b[49m\u001b[33;43m\"\u001b[39;49m\u001b[33;43mattack\u001b[39;49m\u001b[33;43m\"\u001b[39;49m\u001b[43m)\u001b[49m\n",
      "\u001b[36mFile \u001b[39m\u001b[32md:\\thesis\\GDN\\src\\util\\data.py:154\u001b[39m, in \u001b[36mgetAttacks\u001b[39m\u001b[34m(df, label)\u001b[39m\n\u001b[32m    151\u001b[39m \u001b[38;5;28mprint\u001b[39m(\u001b[33m\"\u001b[39m\u001b[33mLast attack index is : \u001b[39m\u001b[33m\"\u001b[39m, last_attack_index)\n\u001b[32m    153\u001b[39m attacks[\u001b[33m\"\u001b[39m\u001b[33mcount\u001b[39m\u001b[33m\"\u001b[39m] = attacks.index.to_series()\n\u001b[32m--> \u001b[39m\u001b[32m154\u001b[39m attacks[\u001b[33m\"\u001b[39m\u001b[33mcount\u001b[39m\u001b[33m\"\u001b[39m] = \u001b[43mattacks\u001b[49m\u001b[43m[\u001b[49m\u001b[33;43m\"\u001b[39;49m\u001b[33;43mcount\u001b[39;49m\u001b[33;43m\"\u001b[39;49m\u001b[43m]\u001b[49m\u001b[43m \u001b[49m\u001b[43m-\u001b[49m\u001b[43m \u001b[49m\u001b[43mattacks\u001b[49m\u001b[43m[\u001b[49m\u001b[33;43m\"\u001b[39;49m\u001b[33;43mcount\u001b[39;49m\u001b[33;43m\"\u001b[39;49m\u001b[43m]\u001b[49m\u001b[43m.\u001b[49m\u001b[43mshift\u001b[49m\u001b[43m(\u001b[49m\n\u001b[32m    155\u001b[39m \u001b[43m    \u001b[49m\u001b[43mfill_value\u001b[49m\u001b[43m=\u001b[49m\u001b[43mfirst_attack_index\u001b[49m\n\u001b[32m    156\u001b[39m \u001b[43m\u001b[49m\u001b[43m)\u001b[49m\n\u001b[32m    157\u001b[39m attacks_starts = attacks[attacks[\u001b[33m\"\u001b[39m\u001b[33mcount\u001b[39m\u001b[33m\"\u001b[39m] != \u001b[32m1\u001b[39m].index\n\u001b[32m    159\u001b[39m attacks[\u001b[33m\"\u001b[39m\u001b[33mcount\u001b[39m\u001b[33m\"\u001b[39m] = attacks.index.to_series()\n",
      "\u001b[36mFile \u001b[39m\u001b[32mc:\\Users\\moji\\miniconda3\\envs\\cuda_12_4\\Lib\\site-packages\\pandas\\core\\ops\\common.py:76\u001b[39m, in \u001b[36m_unpack_zerodim_and_defer.<locals>.new_method\u001b[39m\u001b[34m(self, other)\u001b[39m\n\u001b[32m     72\u001b[39m             \u001b[38;5;28;01mreturn\u001b[39;00m \u001b[38;5;28mNotImplemented\u001b[39m\n\u001b[32m     74\u001b[39m other = item_from_zerodim(other)\n\u001b[32m---> \u001b[39m\u001b[32m76\u001b[39m \u001b[38;5;28;01mreturn\u001b[39;00m \u001b[43mmethod\u001b[49m\u001b[43m(\u001b[49m\u001b[38;5;28;43mself\u001b[39;49m\u001b[43m,\u001b[49m\u001b[43m \u001b[49m\u001b[43mother\u001b[49m\u001b[43m)\u001b[49m\n",
      "\u001b[36mFile \u001b[39m\u001b[32mc:\\Users\\moji\\miniconda3\\envs\\cuda_12_4\\Lib\\site-packages\\pandas\\core\\arraylike.py:194\u001b[39m, in \u001b[36mOpsMixin.__sub__\u001b[39m\u001b[34m(self, other)\u001b[39m\n\u001b[32m    192\u001b[39m \u001b[38;5;129m@unpack_zerodim_and_defer\u001b[39m(\u001b[33m\"\u001b[39m\u001b[33m__sub__\u001b[39m\u001b[33m\"\u001b[39m)\n\u001b[32m    193\u001b[39m \u001b[38;5;28;01mdef\u001b[39;00m\u001b[38;5;250m \u001b[39m\u001b[34m__sub__\u001b[39m(\u001b[38;5;28mself\u001b[39m, other):\n\u001b[32m--> \u001b[39m\u001b[32m194\u001b[39m     \u001b[38;5;28;01mreturn\u001b[39;00m \u001b[38;5;28;43mself\u001b[39;49m\u001b[43m.\u001b[49m\u001b[43m_arith_method\u001b[49m\u001b[43m(\u001b[49m\u001b[43mother\u001b[49m\u001b[43m,\u001b[49m\u001b[43m \u001b[49m\u001b[43moperator\u001b[49m\u001b[43m.\u001b[49m\u001b[43msub\u001b[49m\u001b[43m)\u001b[49m\n",
      "\u001b[36mFile \u001b[39m\u001b[32mc:\\Users\\moji\\miniconda3\\envs\\cuda_12_4\\Lib\\site-packages\\pandas\\core\\series.py:6135\u001b[39m, in \u001b[36mSeries._arith_method\u001b[39m\u001b[34m(self, other, op)\u001b[39m\n\u001b[32m   6133\u001b[39m \u001b[38;5;28;01mdef\u001b[39;00m\u001b[38;5;250m \u001b[39m\u001b[34m_arith_method\u001b[39m(\u001b[38;5;28mself\u001b[39m, other, op):\n\u001b[32m   6134\u001b[39m     \u001b[38;5;28mself\u001b[39m, other = \u001b[38;5;28mself\u001b[39m._align_for_op(other)\n\u001b[32m-> \u001b[39m\u001b[32m6135\u001b[39m     \u001b[38;5;28;01mreturn\u001b[39;00m \u001b[43mbase\u001b[49m\u001b[43m.\u001b[49m\u001b[43mIndexOpsMixin\u001b[49m\u001b[43m.\u001b[49m\u001b[43m_arith_method\u001b[49m\u001b[43m(\u001b[49m\u001b[38;5;28;43mself\u001b[39;49m\u001b[43m,\u001b[49m\u001b[43m \u001b[49m\u001b[43mother\u001b[49m\u001b[43m,\u001b[49m\u001b[43m \u001b[49m\u001b[43mop\u001b[49m\u001b[43m)\u001b[49m\n",
      "\u001b[36mFile \u001b[39m\u001b[32mc:\\Users\\moji\\miniconda3\\envs\\cuda_12_4\\Lib\\site-packages\\pandas\\core\\base.py:1382\u001b[39m, in \u001b[36mIndexOpsMixin._arith_method\u001b[39m\u001b[34m(self, other, op)\u001b[39m\n\u001b[32m   1379\u001b[39m     rvalues = np.arange(rvalues.start, rvalues.stop, rvalues.step)\n\u001b[32m   1381\u001b[39m \u001b[38;5;28;01mwith\u001b[39;00m np.errstate(\u001b[38;5;28mall\u001b[39m=\u001b[33m\"\u001b[39m\u001b[33mignore\u001b[39m\u001b[33m\"\u001b[39m):\n\u001b[32m-> \u001b[39m\u001b[32m1382\u001b[39m     result = \u001b[43mops\u001b[49m\u001b[43m.\u001b[49m\u001b[43marithmetic_op\u001b[49m\u001b[43m(\u001b[49m\u001b[43mlvalues\u001b[49m\u001b[43m,\u001b[49m\u001b[43m \u001b[49m\u001b[43mrvalues\u001b[49m\u001b[43m,\u001b[49m\u001b[43m \u001b[49m\u001b[43mop\u001b[49m\u001b[43m)\u001b[49m\n\u001b[32m   1384\u001b[39m \u001b[38;5;28;01mreturn\u001b[39;00m \u001b[38;5;28mself\u001b[39m._construct_result(result, name=res_name)\n",
      "\u001b[36mFile \u001b[39m\u001b[32mc:\\Users\\moji\\miniconda3\\envs\\cuda_12_4\\Lib\\site-packages\\pandas\\core\\ops\\array_ops.py:283\u001b[39m, in \u001b[36marithmetic_op\u001b[39m\u001b[34m(left, right, op)\u001b[39m\n\u001b[32m    279\u001b[39m     _bool_arith_check(op, left, right)  \u001b[38;5;66;03m# type: ignore[arg-type]\u001b[39;00m\n\u001b[32m    281\u001b[39m     \u001b[38;5;66;03m# error: Argument 1 to \"_na_arithmetic_op\" has incompatible type\u001b[39;00m\n\u001b[32m    282\u001b[39m     \u001b[38;5;66;03m# \"Union[ExtensionArray, ndarray[Any, Any]]\"; expected \"ndarray[Any, Any]\"\u001b[39;00m\n\u001b[32m--> \u001b[39m\u001b[32m283\u001b[39m     res_values = \u001b[43m_na_arithmetic_op\u001b[49m\u001b[43m(\u001b[49m\u001b[43mleft\u001b[49m\u001b[43m,\u001b[49m\u001b[43m \u001b[49m\u001b[43mright\u001b[49m\u001b[43m,\u001b[49m\u001b[43m \u001b[49m\u001b[43mop\u001b[49m\u001b[43m)\u001b[49m  \u001b[38;5;66;03m# type: ignore[arg-type]\u001b[39;00m\n\u001b[32m    285\u001b[39m \u001b[38;5;28;01mreturn\u001b[39;00m res_values\n",
      "\u001b[36mFile \u001b[39m\u001b[32mc:\\Users\\moji\\miniconda3\\envs\\cuda_12_4\\Lib\\site-packages\\pandas\\core\\ops\\array_ops.py:227\u001b[39m, in \u001b[36m_na_arithmetic_op\u001b[39m\u001b[34m(left, right, op, is_cmp)\u001b[39m\n\u001b[32m    219\u001b[39m \u001b[38;5;28;01mexcept\u001b[39;00m \u001b[38;5;167;01mTypeError\u001b[39;00m:\n\u001b[32m    220\u001b[39m     \u001b[38;5;28;01mif\u001b[39;00m \u001b[38;5;129;01mnot\u001b[39;00m is_cmp \u001b[38;5;129;01mand\u001b[39;00m (\n\u001b[32m    221\u001b[39m         left.dtype == \u001b[38;5;28mobject\u001b[39m \u001b[38;5;129;01mor\u001b[39;00m \u001b[38;5;28mgetattr\u001b[39m(right, \u001b[33m\"\u001b[39m\u001b[33mdtype\u001b[39m\u001b[33m\"\u001b[39m, \u001b[38;5;28;01mNone\u001b[39;00m) == \u001b[38;5;28mobject\u001b[39m\n\u001b[32m    222\u001b[39m     ):\n\u001b[32m   (...)\u001b[39m\u001b[32m    225\u001b[39m         \u001b[38;5;66;03m# Don't do this for comparisons, as that will handle complex numbers\u001b[39;00m\n\u001b[32m    226\u001b[39m         \u001b[38;5;66;03m#  incorrectly, see GH#32047\u001b[39;00m\n\u001b[32m--> \u001b[39m\u001b[32m227\u001b[39m         result = \u001b[43m_masked_arith_op\u001b[49m\u001b[43m(\u001b[49m\u001b[43mleft\u001b[49m\u001b[43m,\u001b[49m\u001b[43m \u001b[49m\u001b[43mright\u001b[49m\u001b[43m,\u001b[49m\u001b[43m \u001b[49m\u001b[43mop\u001b[49m\u001b[43m)\u001b[49m\n\u001b[32m    228\u001b[39m     \u001b[38;5;28;01melse\u001b[39;00m:\n\u001b[32m    229\u001b[39m         \u001b[38;5;28;01mraise\u001b[39;00m\n",
      "\u001b[36mFile \u001b[39m\u001b[32mc:\\Users\\moji\\miniconda3\\envs\\cuda_12_4\\Lib\\site-packages\\pandas\\core\\ops\\array_ops.py:163\u001b[39m, in \u001b[36m_masked_arith_op\u001b[39m\u001b[34m(x, y, op)\u001b[39m\n\u001b[32m    161\u001b[39m     \u001b[38;5;66;03m# See GH#5284, GH#5035, GH#19448 for historical reference\u001b[39;00m\n\u001b[32m    162\u001b[39m     \u001b[38;5;28;01mif\u001b[39;00m mask.any():\n\u001b[32m--> \u001b[39m\u001b[32m163\u001b[39m         result[mask] = \u001b[43mop\u001b[49m\u001b[43m(\u001b[49m\u001b[43mxrav\u001b[49m\u001b[43m[\u001b[49m\u001b[43mmask\u001b[49m\u001b[43m]\u001b[49m\u001b[43m,\u001b[49m\u001b[43m \u001b[49m\u001b[43myrav\u001b[49m\u001b[43m[\u001b[49m\u001b[43mmask\u001b[49m\u001b[43m]\u001b[49m\u001b[43m)\u001b[49m\n\u001b[32m    165\u001b[39m \u001b[38;5;28;01melse\u001b[39;00m:\n\u001b[32m    166\u001b[39m     \u001b[38;5;28;01mif\u001b[39;00m \u001b[38;5;129;01mnot\u001b[39;00m is_scalar(y):\n",
      "\u001b[31mTypeError\u001b[39m: unsupported operand type(s) for -: 'str' and 'str'"
     ]
    }
   ],
   "source": [
    "\n",
    "attacks = getAttacks(test_df, \"attack\")"
   ]
  },
  {
   "cell_type": "markdown",
   "id": "dc75a7b3",
   "metadata": {},
   "source": [
    "## Train on attacks"
   ]
  },
  {
   "cell_type": "markdown",
   "id": "33b1be2f",
   "metadata": {},
   "source": [
    "## Check the metrics"
   ]
  },
  {
   "cell_type": "markdown",
   "id": "0547a35b",
   "metadata": {},
   "source": [
    "## Compare model parameters"
   ]
  }
 ],
 "metadata": {
  "kernelspec": {
   "display_name": "cuda_12_4",
   "language": "python",
   "name": "python3"
  },
  "language_info": {
   "codemirror_mode": {
    "name": "ipython",
    "version": 3
   },
   "file_extension": ".py",
   "mimetype": "text/x-python",
   "name": "python",
   "nbconvert_exporter": "python",
   "pygments_lexer": "ipython3",
   "version": "3.12.9"
  }
 },
 "nbformat": 4,
 "nbformat_minor": 5
}
