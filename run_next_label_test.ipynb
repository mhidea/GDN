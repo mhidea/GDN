{
 "cells": [
  {
   "cell_type": "code",
   "execution_count": 1,
   "metadata": {},
   "outputs": [],
   "source": [
    "import pickle\n",
    "from util.params import Params\n",
    "from util.env import set_param\n",
    "from main import Main\n",
    "import torch\n",
    "from models.GDN import GDN\n",
    "from test_loop import test\n",
    "from train_loop import train\n",
    "import pandas as pd\n",
    "from util.data import getAttacks\n",
    "from evaluate import createMetrics, createStats\n",
    "import pickle\n",
    "import matplotlib.pyplot as plt\n",
    "import os\n",
    "import numpy\n",
    "from ipywidgets import Checkbox, interact, FloatSlider, fixed\n",
    "\n",
    "\n",
    "def plot_with_full_row(\n",
    "    thr=False,\n",
    "    pred=False,\n",
    "    threshold=1.0,\n",
    "    stat: dict = None,\n",
    "    score: numpy.ndarray = None,\n",
    "    labels: numpy.ndarray = None,\n",
    "    run:int=0\n",
    "):\n",
    "    minimum = 0  # val_result[0].min()\n",
    "    maximum = stat[\"threshold\"].cpu().clone().numpy() * threshold  # *24.5\n",
    "    pred_filtered = numpy.where((score > maximum), 1, 0)\n",
    "\n",
    "    df = pd.DataFrame(\n",
    "        {\n",
    "            \"thr\": numpy.ones_like(pred_filtered) * maximum,\n",
    "            \"pred\": score,\n",
    "            \"pred_filterd\": pred_filtered,\n",
    "            \"truth\": labels,\n",
    "        }\n",
    "    )\n",
    "    attacks = getAttacks(df, \"truth\")\n",
    "    num_plots = len(attacks)  # Number of data points\n",
    "    num_rows = (num_plots + 1) // 2  # Two columns per row\n",
    "\n",
    "    # Create a figure with a grid layout, including space for the full-row plot\n",
    "    fig = plt.figure(figsize=(12, 6 + 5 * num_rows))  # Adjust overall size\n",
    "    grid = fig.add_gridspec(num_rows + 1, 2)  # Add one row for the overarching plot\n",
    "\n",
    "    # Full-row plot at the top\n",
    "    ax_full_row = fig.add_subplot(grid[0, :])  # Span across all columns\n",
    "    df.plot(ax=ax_full_row)\n",
    "    ax_full_row.set_title(f\"all attacks at  {run}\")\n",
    "    ax_full_row.legend()\n",
    "    cols = df.columns\n",
    "    if not thr:\n",
    "        cols = [col for col in cols if col != \"thr\"]\n",
    "    if not pred:\n",
    "        cols = [col for col in cols if col != \"pred\"]\n",
    "    max = df.shape[0]\n",
    "    # Individual subplots below\n",
    "    for i, attack in enumerate(attacks):\n",
    "        leng = attack[1] - attack[0]\n",
    "        left = attack[0] - leng\n",
    "        right = attack[1] + leng\n",
    "        right = right if right < max else max\n",
    "        left = left if left > 0 else 0\n",
    "        row, col = divmod(i, 2)  # Determine row and column for the subplot\n",
    "        ax = fig.add_subplot(grid[row + 1, col])  # Offset by one for the full-row plot\n",
    "        df.loc[left:right, cols].plot(ax=ax)  # Example plot\n",
    "        ax.set_title(f\"attack {i+1}\")\n",
    "\n",
    "    # Adjust layout to prevent overlap\n",
    "    plt.tight_layout()\n",
    "    plt.show()"
   ]
  },
  {
   "cell_type": "code",
   "execution_count": 2,
   "metadata": {},
   "outputs": [],
   "source": [
    "main_path=\"./snapshot/gnn_tam_batadal/25_04_11_11_06_13\"\n",
    "count=40"
   ]
  },
  {
   "cell_type": "code",
   "execution_count": 3,
   "metadata": {},
   "outputs": [
    {
     "name": "stdout",
     "output_type": "stream",
     "text": [
      "# DATASET \n",
      "\n",
      "*Datasets.batadal*\n",
      "#####################################\n",
      "sensors count:  28\n",
      "actuators count:  8\n",
      "consts count:  7\n",
      "consts:  {'S_PU1': 1.0, 'F_PU3': 0.0, 'S_PU3': 0.0, 'F_PU5': 0.0, 'S_PU5': 0.0, 'F_PU9': 0.0, 'S_PU9': 0.0}\n",
      "#####################################\n",
      "['L_T1', 'L_T2', 'L_T3', 'L_T4', 'L_T5', 'L_T6', 'L_T7', 'F_PU1', 'F_PU2', 'F_PU4', 'F_PU6', 'F_PU7', 'F_PU8', 'F_PU10', 'F_PU11', 'F_V2', 'P_J280', 'P_J269', 'P_J300', 'P_J256', 'P_J289', 'P_J415', 'P_J302', 'P_J306', 'P_J307', 'P_J317', 'P_J14', 'P_J422']\n",
      "Model is trained. Loading from file .....\n"
     ]
    },
    {
     "name": "stderr",
     "output_type": "stream",
     "text": []
    },
    {
     "name": "stdout",
     "output_type": "stream",
     "text": [
      "score:\n",
      " 0.5704924 37.923096 5.7674193\n",
      "# DATASET \n",
      "\n",
      "*Datasets.batadal*\n",
      "Model is trained. Loading from file .....\n"
     ]
    },
    {
     "name": "stderr",
     "output_type": "stream",
     "text": []
    },
    {
     "name": "stdout",
     "output_type": "stream",
     "text": [
      "score:\n",
      " 0.6601862 26.321266 5.3663445\n",
      "# DATASET \n",
      "\n",
      "*Datasets.batadal*\n",
      "Model is trained. Loading from file .....\n"
     ]
    },
    {
     "name": "stderr",
     "output_type": "stream",
     "text": []
    },
    {
     "name": "stdout",
     "output_type": "stream",
     "text": [
      "score:\n",
      " 0.6304365 39.410927 5.8936048\n",
      "# DATASET \n",
      "\n",
      "*Datasets.batadal*\n",
      "Model is trained. Loading from file .....\n"
     ]
    },
    {
     "name": "stderr",
     "output_type": "stream",
     "text": []
    },
    {
     "name": "stdout",
     "output_type": "stream",
     "text": [
      "score:\n",
      " 0.685256 29.449017 4.8859415\n",
      "# DATASET \n",
      "\n",
      "*Datasets.batadal*\n"
     ]
    },
    {
     "name": "stderr",
     "output_type": "stream",
     "text": []
    },
    {
     "name": "stdout",
     "output_type": "stream",
     "text": [
      "score:\n",
      " nan nan nan\n",
      "# DATASET \n",
      "\n",
      "*Datasets.batadal*\n",
      "Model is trained. Loading from file .....\n"
     ]
    },
    {
     "name": "stderr",
     "output_type": "stream",
     "text": []
    },
    {
     "name": "stdout",
     "output_type": "stream",
     "text": [
      "score:\n",
      " 0.6070869 29.23086 5.5876074\n",
      "# DATASET \n",
      "\n",
      "*Datasets.batadal*\n",
      "Model is trained. Loading from file .....\n"
     ]
    },
    {
     "name": "stderr",
     "output_type": "stream",
     "text": []
    },
    {
     "name": "stdout",
     "output_type": "stream",
     "text": [
      "score:\n",
      " 0.66741747 56.616013 6.9383726\n",
      "# DATASET \n",
      "\n",
      "*Datasets.batadal*\n",
      "Model is trained. Loading from file .....\n"
     ]
    },
    {
     "name": "stderr",
     "output_type": "stream",
     "text": []
    },
    {
     "name": "stdout",
     "output_type": "stream",
     "text": [
      "score:\n",
      " 0.53245145 73.33593 5.2115717\n",
      "# DATASET \n",
      "\n",
      "*Datasets.batadal*\n",
      "Model is trained. Loading from file .....\n"
     ]
    },
    {
     "name": "stderr",
     "output_type": "stream",
     "text": []
    },
    {
     "name": "stdout",
     "output_type": "stream",
     "text": [
      "score:\n",
      " 0.58592206 33.91777 4.97586\n",
      "# DATASET \n",
      "\n",
      "*Datasets.batadal*\n"
     ]
    },
    {
     "name": "stderr",
     "output_type": "stream",
     "text": []
    },
    {
     "name": "stdout",
     "output_type": "stream",
     "text": [
      "score:\n",
      " nan nan nan\n",
      "# DATASET \n",
      "\n",
      "*Datasets.batadal*\n",
      "Model is trained. Loading from file .....\n"
     ]
    },
    {
     "name": "stderr",
     "output_type": "stream",
     "text": []
    },
    {
     "name": "stdout",
     "output_type": "stream",
     "text": [
      "score:\n",
      " 0.60596204 40.621696 6.083812\n",
      "# DATASET \n",
      "\n",
      "*Datasets.batadal*\n",
      "Model is trained. Loading from file .....\n"
     ]
    },
    {
     "name": "stderr",
     "output_type": "stream",
     "text": []
    },
    {
     "name": "stdout",
     "output_type": "stream",
     "text": [
      "score:\n",
      " 0.55577385 42.08563 6.54439\n",
      "# DATASET \n",
      "\n",
      "*Datasets.batadal*\n",
      "Model is trained. Loading from file .....\n"
     ]
    },
    {
     "name": "stderr",
     "output_type": "stream",
     "text": []
    },
    {
     "name": "stdout",
     "output_type": "stream",
     "text": [
      "score:\n",
      " 0.53400767 36.968838 5.523446\n",
      "# DATASET \n",
      "\n",
      "*Datasets.batadal*\n",
      "Model is trained. Loading from file .....\n"
     ]
    },
    {
     "name": "stderr",
     "output_type": "stream",
     "text": []
    },
    {
     "name": "stdout",
     "output_type": "stream",
     "text": [
      "score:\n",
      " 0.58389646 49.45028 5.7960753\n",
      "# DATASET \n",
      "\n",
      "*Datasets.batadal*\n"
     ]
    },
    {
     "name": "stderr",
     "output_type": "stream",
     "text": []
    },
    {
     "name": "stdout",
     "output_type": "stream",
     "text": [
      "score:\n",
      " nan nan nan\n",
      "# DATASET \n",
      "\n",
      "*Datasets.batadal*\n",
      "Model is trained. Loading from file .....\n"
     ]
    },
    {
     "name": "stderr",
     "output_type": "stream",
     "text": []
    },
    {
     "name": "stdout",
     "output_type": "stream",
     "text": [
      "score:\n",
      " 0.5705749 44.526024 6.79276\n",
      "# DATASET \n",
      "\n",
      "*Datasets.batadal*\n",
      "Model is trained. Loading from file .....\n"
     ]
    },
    {
     "name": "stderr",
     "output_type": "stream",
     "text": []
    },
    {
     "name": "stdout",
     "output_type": "stream",
     "text": [
      "score:\n",
      " 0.5225986 42.231853 3.9117672\n",
      "# DATASET \n",
      "\n",
      "*Datasets.batadal*\n",
      "Model is trained. Loading from file .....\n"
     ]
    },
    {
     "name": "stderr",
     "output_type": "stream",
     "text": []
    },
    {
     "name": "stdout",
     "output_type": "stream",
     "text": [
      "score:\n",
      " 0.6376439 49.544456 5.053144\n",
      "# DATASET \n",
      "\n",
      "*Datasets.batadal*\n",
      "Model is trained. Loading from file .....\n"
     ]
    },
    {
     "name": "stderr",
     "output_type": "stream",
     "text": []
    },
    {
     "name": "stdout",
     "output_type": "stream",
     "text": [
      "score:\n",
      " 0.6589161 57.325882 6.079427\n",
      "# DATASET \n",
      "\n",
      "*Datasets.batadal*\n"
     ]
    },
    {
     "name": "stderr",
     "output_type": "stream",
     "text": []
    },
    {
     "name": "stdout",
     "output_type": "stream",
     "text": [
      "score:\n",
      " nan nan nan\n",
      "# DATASET \n",
      "\n",
      "*Datasets.batadal*\n",
      "Model is trained. Loading from file .....\n"
     ]
    },
    {
     "name": "stderr",
     "output_type": "stream",
     "text": []
    },
    {
     "name": "stdout",
     "output_type": "stream",
     "text": [
      "score:\n",
      " 0.57362944 38.50889 4.92056\n",
      "# DATASET \n",
      "\n",
      "*Datasets.batadal*\n",
      "Model is trained. Loading from file .....\n"
     ]
    },
    {
     "name": "stderr",
     "output_type": "stream",
     "text": []
    },
    {
     "name": "stdout",
     "output_type": "stream",
     "text": [
      "score:\n",
      " 0.61704123 50.86187 4.3408413\n",
      "# DATASET \n",
      "\n",
      "*Datasets.batadal*\n",
      "Model is trained. Loading from file .....\n"
     ]
    },
    {
     "name": "stderr",
     "output_type": "stream",
     "text": []
    },
    {
     "name": "stdout",
     "output_type": "stream",
     "text": [
      "score:\n",
      " 0.66351753 47.653263 4.6261654\n",
      "# DATASET \n",
      "\n",
      "*Datasets.batadal*\n",
      "Model is trained. Loading from file .....\n"
     ]
    },
    {
     "name": "stderr",
     "output_type": "stream",
     "text": []
    },
    {
     "name": "stdout",
     "output_type": "stream",
     "text": [
      "score:\n",
      " 0.6009771 37.861244 6.1650667\n",
      "# DATASET \n",
      "\n",
      "*Datasets.batadal*\n"
     ]
    },
    {
     "name": "stderr",
     "output_type": "stream",
     "text": []
    },
    {
     "name": "stdout",
     "output_type": "stream",
     "text": [
      "score:\n",
      " nan nan nan\n",
      "# DATASET \n",
      "\n",
      "*Datasets.batadal*\n",
      "Model is trained. Loading from file .....\n"
     ]
    },
    {
     "name": "stderr",
     "output_type": "stream",
     "text": []
    },
    {
     "name": "stdout",
     "output_type": "stream",
     "text": [
      "score:\n",
      " 0.52229357 41.802025 5.0329742\n",
      "# DATASET \n",
      "\n",
      "*Datasets.batadal*\n",
      "Model is trained. Loading from file .....\n"
     ]
    },
    {
     "name": "stderr",
     "output_type": "stream",
     "text": []
    },
    {
     "name": "stdout",
     "output_type": "stream",
     "text": [
      "score:\n",
      " 0.59555596 69.795395 7.3873463\n",
      "# DATASET \n",
      "\n",
      "*Datasets.batadal*\n",
      "Model is trained. Loading from file .....\n"
     ]
    },
    {
     "name": "stderr",
     "output_type": "stream",
     "text": []
    },
    {
     "name": "stdout",
     "output_type": "stream",
     "text": [
      "score:\n",
      " 0.58685386 48.1195 4.576526\n",
      "# DATASET \n",
      "\n",
      "*Datasets.batadal*\n",
      "Model is trained. Loading from file .....\n"
     ]
    },
    {
     "name": "stderr",
     "output_type": "stream",
     "text": []
    },
    {
     "name": "stdout",
     "output_type": "stream",
     "text": [
      "score:\n",
      " 0.5472565 39.11287 4.413921\n",
      "# DATASET \n",
      "\n",
      "*Datasets.batadal*\n"
     ]
    },
    {
     "name": "stderr",
     "output_type": "stream",
     "text": []
    },
    {
     "name": "stdout",
     "output_type": "stream",
     "text": [
      "score:\n",
      " nan nan nan\n",
      "# DATASET \n",
      "\n",
      "*Datasets.batadal*\n",
      "Model is trained. Loading from file .....\n"
     ]
    },
    {
     "name": "stderr",
     "output_type": "stream",
     "text": []
    },
    {
     "name": "stdout",
     "output_type": "stream",
     "text": [
      "score:\n",
      " 0.62020427 47.160503 5.7300534\n",
      "# DATASET \n",
      "\n",
      "*Datasets.batadal*\n",
      "Model is trained. Loading from file .....\n"
     ]
    },
    {
     "name": "stderr",
     "output_type": "stream",
     "text": []
    },
    {
     "name": "stdout",
     "output_type": "stream",
     "text": [
      "score:\n",
      " 0.6080879 36.829296 5.2388725\n",
      "# DATASET \n",
      "\n",
      "*Datasets.batadal*\n",
      "Model is trained. Loading from file .....\n"
     ]
    },
    {
     "name": "stderr",
     "output_type": "stream",
     "text": []
    },
    {
     "name": "stdout",
     "output_type": "stream",
     "text": [
      "score:\n",
      " 0.7504876 36.5988 4.4341054\n",
      "# DATASET \n",
      "\n",
      "*Datasets.batadal*\n",
      "Model is trained. Loading from file .....\n"
     ]
    },
    {
     "name": "stderr",
     "output_type": "stream",
     "text": []
    },
    {
     "name": "stdout",
     "output_type": "stream",
     "text": [
      "score:\n",
      " 0.52041215 33.660885 4.594401\n",
      "# DATASET \n",
      "\n",
      "*Datasets.batadal*\n"
     ]
    },
    {
     "name": "stderr",
     "output_type": "stream",
     "text": []
    },
    {
     "name": "stdout",
     "output_type": "stream",
     "text": [
      "score:\n",
      " nan nan nan\n",
      "# DATASET \n",
      "\n",
      "*Datasets.batadal*\n",
      "Model is trained. Loading from file .....\n"
     ]
    },
    {
     "name": "stderr",
     "output_type": "stream",
     "text": []
    },
    {
     "name": "stdout",
     "output_type": "stream",
     "text": [
      "score:\n",
      " 0.621841 35.60051 4.46647\n",
      "# DATASET \n",
      "\n",
      "*Datasets.batadal*\n",
      "Model is trained. Loading from file .....\n"
     ]
    },
    {
     "name": "stderr",
     "output_type": "stream",
     "text": []
    },
    {
     "name": "stdout",
     "output_type": "stream",
     "text": [
      "score:\n",
      " 0.59223306 33.063248 4.1686788\n",
      "# DATASET \n",
      "\n",
      "*Datasets.batadal*\n",
      "Model is trained. Loading from file .....\n"
     ]
    },
    {
     "name": "stderr",
     "output_type": "stream",
     "text": []
    },
    {
     "name": "stdout",
     "output_type": "stream",
     "text": [
      "score:\n",
      " 0.6186036 30.564802 3.7229974\n",
      "# DATASET \n",
      "\n",
      "*Datasets.batadal*\n",
      "Model is trained. Loading from file .....\n"
     ]
    },
    {
     "name": "stderr",
     "output_type": "stream",
     "text": []
    },
    {
     "name": "stdout",
     "output_type": "stream",
     "text": [
      "score:\n",
      " 0.68640745 26.336199 3.3673332\n",
      "# DATASET \n",
      "\n",
      "*Datasets.batadal*\n"
     ]
    },
    {
     "name": "stderr",
     "output_type": "stream",
     "text": []
    },
    {
     "name": "stdout",
     "output_type": "stream",
     "text": [
      "score:\n",
      " nan nan nan\n",
      "FINISHED\n"
     ]
    }
   ],
   "source": [
    "scores = []\n",
    "labels = None\n",
    "stats = []\n",
    "labels=[]\n",
    "for run in range(count):\n",
    "    path = f\"{main_path}/{run}/\"\n",
    "    if not os.path.exists(f\"{path}param.pickle\"):\n",
    "        print(f\"Skipping run {run}\")\n",
    "        continue\n",
    "    param: Params = pickle.load(file=open(f\"{path}param.pickle\", \"rb\"))\n",
    "    mode_dict = pickle.load(file=open(f\"{path}model_parameters.pickle\", \"rb\"))\n",
    "    param.val_ratio = 0\n",
    "    set_param(param)\n",
    "    # print(param.summary())\n",
    "    main = Main(param=param, modelParams=mode_dict)\n",
    "    _, _, label = next(\n",
    "            iter(\n",
    "                torch.utils.data.DataLoader(\n",
    "                    main.test_dataset,\n",
    "                    batch_size=main.test_dataset.__len__(),\n",
    "                    shuffle=False,\n",
    "                    pin_memory=False,\n",
    "                )\n",
    "            )\n",
    "        )\n",
    "    labels.append(label.cpu().squeeze(-1).numpy())\n",
    "    # print(len(main.train_dataloader),len(main.val_dataloader),len(main.test_dataloader))\n",
    "    train_losses = test(main.model, main.train_dataloader)\n",
    "    stat = createStats(train_losses)\n",
    "    # print(stat)\n",
    "    # print(\"train_avg_loss: \",train_avg_loss)\n",
    "    # val_avg_loss, val_result = test(main.model, main.val_dataloader)\n",
    "    # val_avg_loss\n",
    "    test_losses = test(main.model, main.test_dataloader)\n",
    "\n",
    "    # print(\"test_avg_loss: \",test_avg_loss)\n",
    "    # print(\"max: \",test_result[0].max(),\n",
    "    #     #   val_result[0].max(),\n",
    "    #       train_result[0].max())\n",
    "    # print(\"min: \",test_result[0].min(),\n",
    "    #     #   val_result[0].min(),\n",
    "    #       train_result[0].min())\n",
    "    score = ((test_losses - stat[\"medians\"]).abs() / stat[\"iqr\"]).max(-1).values\n",
    "    score=score.cpu().clone().numpy()\n",
    "    print(\"score:\\n\", score.min(), score.max(), score.mean())\n",
    "    scores.append(score)\n",
    "    stats.append(stat)\n",
    "\n",
    "print(\"FINISHED\")"
   ]
  },
  {
   "cell_type": "code",
   "execution_count": null,
   "metadata": {},
   "outputs": [
    {
     "data": {
      "application/vnd.jupyter.widget-view+json": {
       "model_id": "927c9d942ba345bc80d9b28009c0a790",
       "version_major": 2,
       "version_minor": 0
      },
      "text/plain": [
       "interactive(children=(Checkbox(value=True, description='thr'), Checkbox(value=True, description='pred'), Float…"
      ]
     },
     "metadata": {},
     "output_type": "display_data"
    },
    {
     "data": {
      "application/vnd.jupyter.widget-view+json": {
       "model_id": "4a9c61b11e3a4fb99c44b360d2d8ca93",
       "version_major": 2,
       "version_minor": 0
      },
      "text/plain": [
       "interactive(children=(Checkbox(value=True, description='thr'), Checkbox(value=True, description='pred'), Float…"
      ]
     },
     "metadata": {},
     "output_type": "display_data"
    },
    {
     "data": {
      "application/vnd.jupyter.widget-view+json": {
       "model_id": "5c1bcf7caa3f400d85c66a60eccddf0b",
       "version_major": 2,
       "version_minor": 0
      },
      "text/plain": [
       "interactive(children=(Checkbox(value=True, description='thr'), Checkbox(value=True, description='pred'), Float…"
      ]
     },
     "metadata": {},
     "output_type": "display_data"
    },
    {
     "data": {
      "application/vnd.jupyter.widget-view+json": {
       "model_id": "e03f20f34e254d9e94f6d8bd41dc7015",
       "version_major": 2,
       "version_minor": 0
      },
      "text/plain": [
       "interactive(children=(Checkbox(value=True, description='thr'), Checkbox(value=True, description='pred'), Float…"
      ]
     },
     "metadata": {},
     "output_type": "display_data"
    },
    {
     "data": {
      "application/vnd.jupyter.widget-view+json": {
       "model_id": "36fd944243914aee97cf2b707cb809ed",
       "version_major": 2,
       "version_minor": 0
      },
      "text/plain": [
       "interactive(children=(Checkbox(value=True, description='thr'), Checkbox(value=True, description='pred'), Float…"
      ]
     },
     "metadata": {},
     "output_type": "display_data"
    },
    {
     "data": {
      "application/vnd.jupyter.widget-view+json": {
       "model_id": "3da7e9f04ab94e5b93ce91a06197618c",
       "version_major": 2,
       "version_minor": 0
      },
      "text/plain": [
       "interactive(children=(Checkbox(value=True, description='thr'), Checkbox(value=True, description='pred'), Float…"
      ]
     },
     "metadata": {},
     "output_type": "display_data"
    },
    {
     "data": {
      "application/vnd.jupyter.widget-view+json": {
       "model_id": "594c05b8306d4ba79832c3150bb2e5d9",
       "version_major": 2,
       "version_minor": 0
      },
      "text/plain": [
       "interactive(children=(Checkbox(value=True, description='thr'), Checkbox(value=True, description='pred'), Float…"
      ]
     },
     "metadata": {},
     "output_type": "display_data"
    },
    {
     "data": {
      "application/vnd.jupyter.widget-view+json": {
       "model_id": "a95e8ffeb8684978bd9c7bfd62fcec1a",
       "version_major": 2,
       "version_minor": 0
      },
      "text/plain": [
       "interactive(children=(Checkbox(value=True, description='thr'), Checkbox(value=True, description='pred'), Float…"
      ]
     },
     "metadata": {},
     "output_type": "display_data"
    },
    {
     "data": {
      "application/vnd.jupyter.widget-view+json": {
       "model_id": "7a0b5bb755b647f8aa33eed989d26ab7",
       "version_major": 2,
       "version_minor": 0
      },
      "text/plain": [
       "interactive(children=(Checkbox(value=True, description='thr'), Checkbox(value=True, description='pred'), Float…"
      ]
     },
     "metadata": {},
     "output_type": "display_data"
    },
    {
     "data": {
      "application/vnd.jupyter.widget-view+json": {
       "model_id": "506344d9f3d34945b9805f4fc5c9b51b",
       "version_major": 2,
       "version_minor": 0
      },
      "text/plain": [
       "interactive(children=(Checkbox(value=True, description='thr'), Checkbox(value=True, description='pred'), Float…"
      ]
     },
     "metadata": {},
     "output_type": "display_data"
    },
    {
     "data": {
      "application/vnd.jupyter.widget-view+json": {
       "model_id": "b09558e804354748ad2075e8d969a0b1",
       "version_major": 2,
       "version_minor": 0
      },
      "text/plain": [
       "interactive(children=(Checkbox(value=True, description='thr'), Checkbox(value=True, description='pred'), Float…"
      ]
     },
     "metadata": {},
     "output_type": "display_data"
    },
    {
     "data": {
      "application/vnd.jupyter.widget-view+json": {
       "model_id": "a366d107a65f4a95b851b3c361003a4a",
       "version_major": 2,
       "version_minor": 0
      },
      "text/plain": [
       "interactive(children=(Checkbox(value=True, description='thr'), Checkbox(value=True, description='pred'), Float…"
      ]
     },
     "metadata": {},
     "output_type": "display_data"
    },
    {
     "data": {
      "application/vnd.jupyter.widget-view+json": {
       "model_id": "4127b77d8a11415eb97f91d5c3be0656",
       "version_major": 2,
       "version_minor": 0
      },
      "text/plain": [
       "interactive(children=(Checkbox(value=True, description='thr'), Checkbox(value=True, description='pred'), Float…"
      ]
     },
     "metadata": {},
     "output_type": "display_data"
    },
    {
     "data": {
      "application/vnd.jupyter.widget-view+json": {
       "model_id": "2c65191ad74b4294b5f45f819e739061",
       "version_major": 2,
       "version_minor": 0
      },
      "text/plain": [
       "interactive(children=(Checkbox(value=True, description='thr'), Checkbox(value=True, description='pred'), Float…"
      ]
     },
     "metadata": {},
     "output_type": "display_data"
    },
    {
     "data": {
      "application/vnd.jupyter.widget-view+json": {
       "model_id": "e5784226ed194fef8279075da2b15af9",
       "version_major": 2,
       "version_minor": 0
      },
      "text/plain": [
       "interactive(children=(Checkbox(value=True, description='thr'), Checkbox(value=True, description='pred'), Float…"
      ]
     },
     "metadata": {},
     "output_type": "display_data"
    },
    {
     "data": {
      "application/vnd.jupyter.widget-view+json": {
       "model_id": "4b68524e07ed4cad9e45860f99bb4299",
       "version_major": 2,
       "version_minor": 0
      },
      "text/plain": [
       "interactive(children=(Checkbox(value=True, description='thr'), Checkbox(value=True, description='pred'), Float…"
      ]
     },
     "metadata": {},
     "output_type": "display_data"
    },
    {
     "data": {
      "application/vnd.jupyter.widget-view+json": {
       "model_id": "19a9e42dd4114723971c97d97aa1aead",
       "version_major": 2,
       "version_minor": 0
      },
      "text/plain": [
       "interactive(children=(Checkbox(value=True, description='thr'), Checkbox(value=True, description='pred'), Float…"
      ]
     },
     "metadata": {},
     "output_type": "display_data"
    },
    {
     "data": {
      "application/vnd.jupyter.widget-view+json": {
       "model_id": "fe83638165714702b500c10dd898856e",
       "version_major": 2,
       "version_minor": 0
      },
      "text/plain": [
       "interactive(children=(Checkbox(value=True, description='thr'), Checkbox(value=True, description='pred'), Float…"
      ]
     },
     "metadata": {},
     "output_type": "display_data"
    },
    {
     "data": {
      "application/vnd.jupyter.widget-view+json": {
       "model_id": "20676e8104e144199c5cbf5b1bb85927",
       "version_major": 2,
       "version_minor": 0
      },
      "text/plain": [
       "interactive(children=(Checkbox(value=True, description='thr'), Checkbox(value=True, description='pred'), Float…"
      ]
     },
     "metadata": {},
     "output_type": "display_data"
    },
    {
     "data": {
      "application/vnd.jupyter.widget-view+json": {
       "model_id": "ece2405b57e24405be1396413e3c91a7",
       "version_major": 2,
       "version_minor": 0
      },
      "text/plain": [
       "interactive(children=(Checkbox(value=True, description='thr'), Checkbox(value=True, description='pred'), Float…"
      ]
     },
     "metadata": {},
     "output_type": "display_data"
    },
    {
     "data": {
      "application/vnd.jupyter.widget-view+json": {
       "model_id": "491b2d32f5ab4763b2b8f53e00c1f8c2",
       "version_major": 2,
       "version_minor": 0
      },
      "text/plain": [
       "interactive(children=(Checkbox(value=True, description='thr'), Checkbox(value=True, description='pred'), Float…"
      ]
     },
     "metadata": {},
     "output_type": "display_data"
    },
    {
     "data": {
      "application/vnd.jupyter.widget-view+json": {
       "model_id": "b26ffb8f4fff482c847e5a02f06d9d24",
       "version_major": 2,
       "version_minor": 0
      },
      "text/plain": [
       "interactive(children=(Checkbox(value=True, description='thr'), Checkbox(value=True, description='pred'), Float…"
      ]
     },
     "metadata": {},
     "output_type": "display_data"
    },
    {
     "data": {
      "application/vnd.jupyter.widget-view+json": {
       "model_id": "8f0798b7cff84c8a9eaa23a338ea62c4",
       "version_major": 2,
       "version_minor": 0
      },
      "text/plain": [
       "interactive(children=(Checkbox(value=True, description='thr'), Checkbox(value=True, description='pred'), Float…"
      ]
     },
     "metadata": {},
     "output_type": "display_data"
    },
    {
     "data": {
      "application/vnd.jupyter.widget-view+json": {
       "model_id": "f05c1a9d6ae74b9592c39bd18e28c664",
       "version_major": 2,
       "version_minor": 0
      },
      "text/plain": [
       "interactive(children=(Checkbox(value=True, description='thr'), Checkbox(value=True, description='pred'), Float…"
      ]
     },
     "metadata": {},
     "output_type": "display_data"
    },
    {
     "data": {
      "application/vnd.jupyter.widget-view+json": {
       "model_id": "09c4adb90a664eedb4a80f88b0a24e63",
       "version_major": 2,
       "version_minor": 0
      },
      "text/plain": [
       "interactive(children=(Checkbox(value=True, description='thr'), Checkbox(value=True, description='pred'), Float…"
      ]
     },
     "metadata": {},
     "output_type": "display_data"
    },
    {
     "data": {
      "application/vnd.jupyter.widget-view+json": {
       "model_id": "132ac1e8037045f28b7c73774df49d0d",
       "version_major": 2,
       "version_minor": 0
      },
      "text/plain": [
       "interactive(children=(Checkbox(value=True, description='thr'), Checkbox(value=True, description='pred'), Float…"
      ]
     },
     "metadata": {},
     "output_type": "display_data"
    },
    {
     "data": {
      "application/vnd.jupyter.widget-view+json": {
       "model_id": "b37b8552bc304498a7a3e5cb1796fa78",
       "version_major": 2,
       "version_minor": 0
      },
      "text/plain": [
       "interactive(children=(Checkbox(value=True, description='thr'), Checkbox(value=True, description='pred'), Float…"
      ]
     },
     "metadata": {},
     "output_type": "display_data"
    },
    {
     "data": {
      "application/vnd.jupyter.widget-view+json": {
       "model_id": "5c32a87f89174d1c84733025ab60b8b2",
       "version_major": 2,
       "version_minor": 0
      },
      "text/plain": [
       "interactive(children=(Checkbox(value=True, description='thr'), Checkbox(value=True, description='pred'), Float…"
      ]
     },
     "metadata": {},
     "output_type": "display_data"
    },
    {
     "data": {
      "application/vnd.jupyter.widget-view+json": {
       "model_id": "cb89daca1b1a4bff9807f96b482402b5",
       "version_major": 2,
       "version_minor": 0
      },
      "text/plain": [
       "interactive(children=(Checkbox(value=True, description='thr'), Checkbox(value=True, description='pred'), Float…"
      ]
     },
     "metadata": {},
     "output_type": "display_data"
    },
    {
     "data": {
      "application/vnd.jupyter.widget-view+json": {
       "model_id": "86d1fa3cd7a94001ab6e5baa814ef966",
       "version_major": 2,
       "version_minor": 0
      },
      "text/plain": [
       "interactive(children=(Checkbox(value=True, description='thr'), Checkbox(value=True, description='pred'), Float…"
      ]
     },
     "metadata": {},
     "output_type": "display_data"
    },
    {
     "data": {
      "application/vnd.jupyter.widget-view+json": {
       "model_id": "1e44f757731641d2be4a17a82695a1b5",
       "version_major": 2,
       "version_minor": 0
      },
      "text/plain": [
       "interactive(children=(Checkbox(value=True, description='thr'), Checkbox(value=True, description='pred'), Float…"
      ]
     },
     "metadata": {},
     "output_type": "display_data"
    },
    {
     "data": {
      "application/vnd.jupyter.widget-view+json": {
       "model_id": "e68a318193394845a592e0c9500c2439",
       "version_major": 2,
       "version_minor": 0
      },
      "text/plain": [
       "interactive(children=(Checkbox(value=True, description='thr'), Checkbox(value=True, description='pred'), Float…"
      ]
     },
     "metadata": {},
     "output_type": "display_data"
    },
    {
     "data": {
      "application/vnd.jupyter.widget-view+json": {
       "model_id": "cf36901c92544729a5608877c172f5fe",
       "version_major": 2,
       "version_minor": 0
      },
      "text/plain": [
       "interactive(children=(Checkbox(value=True, description='thr'), Checkbox(value=True, description='pred'), Float…"
      ]
     },
     "metadata": {},
     "output_type": "display_data"
    },
    {
     "data": {
      "application/vnd.jupyter.widget-view+json": {
       "model_id": "f8daf01c10214c4db485299a8e01dcba",
       "version_major": 2,
       "version_minor": 0
      },
      "text/plain": [
       "interactive(children=(Checkbox(value=True, description='thr'), Checkbox(value=True, description='pred'), Float…"
      ]
     },
     "metadata": {},
     "output_type": "display_data"
    },
    {
     "data": {
      "application/vnd.jupyter.widget-view+json": {
       "model_id": "7a2dd327b3f3487596d7b2598cab3f84",
       "version_major": 2,
       "version_minor": 0
      },
      "text/plain": [
       "interactive(children=(Checkbox(value=True, description='thr'), Checkbox(value=True, description='pred'), Float…"
      ]
     },
     "metadata": {},
     "output_type": "display_data"
    },
    {
     "data": {
      "application/vnd.jupyter.widget-view+json": {
       "model_id": "22fde2ae9c914143b309e56f8ea2e36a",
       "version_major": 2,
       "version_minor": 0
      },
      "text/plain": [
       "interactive(children=(Checkbox(value=True, description='thr'), Checkbox(value=True, description='pred'), Float…"
      ]
     },
     "metadata": {},
     "output_type": "display_data"
    },
    {
     "data": {
      "application/vnd.jupyter.widget-view+json": {
       "model_id": "128ef63da26f4e24a79a91ad6a802a12",
       "version_major": 2,
       "version_minor": 0
      },
      "text/plain": [
       "interactive(children=(Checkbox(value=True, description='thr'), Checkbox(value=True, description='pred'), Float…"
      ]
     },
     "metadata": {},
     "output_type": "display_data"
    },
    {
     "data": {
      "application/vnd.jupyter.widget-view+json": {
       "model_id": "9fe39531c09c4e1bab912fa7ccd27231",
       "version_major": 2,
       "version_minor": 0
      },
      "text/plain": [
       "interactive(children=(Checkbox(value=True, description='thr'), Checkbox(value=True, description='pred'), Float…"
      ]
     },
     "metadata": {},
     "output_type": "display_data"
    },
    {
     "data": {
      "application/vnd.jupyter.widget-view+json": {
       "model_id": "9593b08c1d5946889558552deced9f98",
       "version_major": 2,
       "version_minor": 0
      },
      "text/plain": [
       "interactive(children=(Checkbox(value=True, description='thr'), Checkbox(value=True, description='pred'), Float…"
      ]
     },
     "metadata": {},
     "output_type": "display_data"
    },
    {
     "data": {
      "application/vnd.jupyter.widget-view+json": {
       "model_id": "20dda16fc47c4589b613a976ba2e1757",
       "version_major": 2,
       "version_minor": 0
      },
      "text/plain": [
       "interactive(children=(Checkbox(value=True, description='thr'), Checkbox(value=True, description='pred'), Float…"
      ]
     },
     "metadata": {},
     "output_type": "display_data"
    }
   ],
   "source": [
    "for run in range(count):\n",
    "    interact(\n",
    "        plot_with_full_row,\n",
    "        thr=Checkbox(value=True, description=\"thr\"),\n",
    "        pred=Checkbox(value=True, description=\"pred\"),\n",
    "        threshold=FloatSlider(value=1.0,min=0.5,max=2.0,step=.01,description=\"threshold\"),\n",
    "        score=fixed(scores[run]),\n",
    "        stat=fixed(stats[run]),\n",
    "        labels=fixed(labels[run]),\n",
    "        run=fixed(run)\n",
    "    )"
   ]
  },
  {
   "cell_type": "code",
   "execution_count": null,
   "metadata": {},
   "outputs": [],
   "source": [
    "from torchmetrics.classification import BinaryStatScores\n",
    "\n",
    "selected_run=2\n",
    "threshold=.91\n",
    "for value in [1,threshold]:\n",
    "    \n",
    "    new_threshold=stats[selected_run][\"threshold\"].cpu().numpy()*value\n",
    "    pred=numpy.where(scores[selected_run]>new_threshold,1,0)\n",
    "    bc=BinaryStatScores()\n",
    "    bc.update(torch.tensor(pred),torch.tensor(labels[selected_run]))\n",
    "    cfm=bc.compute()\n",
    "    print(createMetrics(cfm))"
   ]
  }
 ],
 "metadata": {
  "kernelspec": {
   "display_name": "cuda_12_4",
   "language": "python",
   "name": "python3"
  },
  "language_info": {
   "codemirror_mode": {
    "name": "ipython",
    "version": 3
   },
   "file_extension": ".py",
   "mimetype": "text/x-python",
   "name": "python",
   "nbconvert_exporter": "python",
   "pygments_lexer": "ipython3",
   "version": "3.12.9"
  }
 },
 "nbformat": 4,
 "nbformat_minor": 2
}
