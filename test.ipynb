{
    "cells": [
        {
            "cell_type": "code",
            "execution_count": 6,
            "metadata": {},
            "outputs": [
                {
                    "data": {
                        "text/plain": [
                            "tensor([[-1.0000, -1.0000, -1.0000, -0.9999],\n",
                            "        [-0.9993, -0.9951, -0.9640, -0.7616],\n",
                            "        [ 0.0000,  0.7616,  0.9640,  0.9951],\n",
                            "        [ 0.9993,  0.9999,  1.0000,  1.0000]])"
                        ]
                    },
                    "execution_count": 6,
                    "metadata": {},
                    "output_type": "execute_result"
                }
            ],
            "source": [
                "import torch\n",
                "num=4\n",
                "\n",
                "adj=torch.arange(num*num)-(num*num/2)\n",
                "adj=adj.reshape(num,num)\n",
                "adj=adj.tanh()\n",
                "adj"
            ]
        },
        {
            "cell_type": "code",
            "execution_count": 7,
            "metadata": {},
            "outputs": [
                {
                    "data": {
                        "text/plain": [
                            "tensor([[-0.0000, -1.0000, -0.0000, -0.9999],\n",
                            "        [-0.9993, -0.9951, -0.0000, -0.0000],\n",
                            "        [ 0.0000,  0.0000,  0.9640,  0.9951],\n",
                            "        [ 0.0000,  0.9999,  0.0000,  1.0000]])"
                        ]
                    },
                    "execution_count": 7,
                    "metadata": {},
                    "output_type": "execute_result"
                }
            ],
            "source": [
                "\n",
                "mask = torch.zeros(num, num)\n",
                "mask.fill_(float(\"0\"))\n",
                "v, id = (adj.abs() + torch.rand_like(adj) * 0.01).topk(2, 1)\n",
                "mask.scatter_(1, id, v.fill_(1))\n",
                "adj = adj * mask\n",
                "adj"
            ]
        },
        {
            "cell_type": "code",
            "execution_count": null,
            "metadata": {},
            "outputs": [],
            "source": [
                "from torch_geometric.nn.aggr import LSTMAggregation\n",
                "import torch\n",
                "from torch.nn import LSTM\n",
                "w=3\n",
                "b=5\n",
                "v=2\n",
                "lstm=LSTM(v,4)\n",
                "\n",
                "# x=torch.arange(w*b*v).reshape((b,v,w)).float().contiguous()\n",
                "x=torch.arange(v).repeat(b,w).reshape(b,w,v).float().contiguous()\n",
                "# x=torch.zeros(b,v,w)\n",
                "# x[0][0]=torch.arange(w)\n",
                "# x[-1][0]=torch.arange(w)\n",
                "x=x.contiguous()\n",
                "# # x=x.view(-1,w).contiguous()\n",
                "# # print(x[0])\n",
                "# # # lstm(x,dim=-1)\n",
                "# x=x.transpose(1,2)\n",
                "# x.shape\n",
                "print(x[0],x[-1],x.shape)\n"
            ]
        },
        {
            "cell_type": "code",
            "execution_count": null,
            "metadata": {},
            "outputs": [],
            "source": [
                "lstm(x)[0][:,-1,:].shape"
            ]
        },
        {
            "cell_type": "code",
            "execution_count": null,
            "metadata": {},
            "outputs": [],
            "source": [
                "y,_=lstm(x)\n",
                "print(y[0],y[-1],y[0].shape)\n",
                "y[:,:,-1]"
            ]
        },
        {
            "cell_type": "code",
            "execution_count": null,
            "metadata": {},
            "outputs": [],
            "source": [
                "x[:,0,:].unsqueeze(-1)"
            ]
        },
        {
            "cell_type": "code",
            "execution_count": null,
            "metadata": {},
            "outputs": [],
            "source": [
                "lstm(x[:,0,:])"
            ]
        },
        {
            "cell_type": "code",
            "execution_count": null,
            "metadata": {},
            "outputs": [],
            "source": [
                "torch.tensor([lstm(x[:,i,:]) for i in range(v)])\n"
            ]
        },
        {
            "cell_type": "code",
            "execution_count": null,
            "metadata": {},
            "outputs": [],
            "source": [
                "y=torch.tensor([lstm(x[i]) for i in range(b)]).reshape(b,v)\n",
                "y"
            ]
        },
        {
            "cell_type": "code",
            "execution_count": null,
            "metadata": {},
            "outputs": [],
            "source": [
                "m = torch.nn.BatchNorm1d(2, affine=False,eps=0)\n",
                "input = torch.arange(8).reshape(2,2,2).float()\n",
                "# print(input)\n",
                "input:torch.Tensor= m(input)\n",
                "input#.transpose(0,1).sum((-1))"
            ]
        },
        {
            "cell_type": "code",
            "execution_count": null,
            "metadata": {},
            "outputs": [],
            "source": [
                "print(input.sum(-1))\n",
                "print(input[0][0][0]+input[0][1][0]+input[0][2][0])"
            ]
        },
        {
            "cell_type": "code",
            "execution_count": null,
            "metadata": {},
            "outputs": [],
            "source": []
        },
        {
            "cell_type": "code",
            "execution_count": null,
            "metadata": {},
            "outputs": [],
            "source": [
                "import torch\n",
                "from torch_geometric.data import Data\n",
                "from torch_geometric.nn import GCN,GCNConv\n",
                "from torch_geometric.utils import to_networkx\n",
                "from torch_geometric.nn import MessagePassing\n",
                "\n",
                "edge_index = torch.tensor([[0, 1],\n",
                "                           [1, 0],\n",
                "                           [1, 2],\n",
                "                           [2, 1],\n",
                "                            [0, 2],\n",
                "                           [2, 0],\n",
                "                           ], dtype=torch.long)\n",
                "x = torch.tensor([[-2], [3], [5]], dtype=torch.float)\n",
                "\n",
                "data = Data(x=x, edge_index=edge_index.t().contiguous())\n",
                "data"
            ]
        },
        {
            "cell_type": "code",
            "execution_count": null,
            "metadata": {},
            "outputs": [],
            "source": [
                "n=to_networkx(data=data)"
            ]
        },
        {
            "cell_type": "code",
            "execution_count": null,
            "metadata": {},
            "outputs": [],
            "source": [
                "\n",
                "l1=GCNConv(-1,2,add_self_loops=False,aggr=\"max\")"
            ]
        },
        {
            "cell_type": "code",
            "execution_count": null,
            "metadata": {},
            "outputs": [],
            "source": [
                "\n",
                "l1(data.x,data.edge_index)"
            ]
        },
        {
            "cell_type": "code",
            "execution_count": null,
            "metadata": {},
            "outputs": [],
            "source": [
                "print(l1.lin.weight)"
            ]
        },
        {
            "cell_type": "code",
            "execution_count": null,
            "metadata": {},
            "outputs": [],
            "source": [
                "l1.lin(x)"
            ]
        },
        {
            "cell_type": "code",
            "execution_count": null,
            "metadata": {},
            "outputs": [],
            "source": [
                "# Example tensor\n",
                "tensor = torch.tensor([0.5, 1.2, 3.7, 0.9, 2.5])\n",
                "\n",
                "# Define threshold and value R\n",
                "threshold = 1.0\n",
                "R = -1\n",
                "\n",
                "# Apply the mapping\n",
                "new_tensor = torch.where(tensor > threshold, torch.tensor(1), torch.tensor(R))\n",
                "\n",
                "print(new_tensor)"
            ]
        },
        {
            "cell_type": "code",
            "execution_count": null,
            "metadata": {},
            "outputs": [],
            "source": [
                "x=torch.arange(1,11).float()\n",
                "y=x+1\n",
                "l=torch.nn.MSELoss(reduce=False)\n",
                "l(x,y)>1"
            ]
        },
        {
            "cell_type": "code",
            "execution_count": null,
            "metadata": {},
            "outputs": [],
            "source": [
                "feature=4\n",
                "\n",
                "a=[]\n",
                "b=[]\n",
                "for i in range(feature):\n",
                "    for j in range(feature):\n",
                "        if i!=j:\n",
                "            a.append(i)\n",
                "            b.append(j)\n",
                "edges=[torch.tensor([a,b])]"
            ]
        },
        {
            "cell_type": "code",
            "execution_count": null,
            "metadata": {},
            "outputs": [],
            "source": [
                "m = GDN(\n",
                "    edge_index_sets=edges,topk=2, node_num=feature, task=Tasks.next_label\n",
                ")"
            ]
        },
        {
            "cell_type": "code",
            "execution_count": null,
            "metadata": {},
            "outputs": [],
            "source": [
                "\n",
                "x = torch.rand([10, feature, 3])\n",
                "m(x, None)"
            ]
        },
        {
            "cell_type": "code",
            "execution_count": null,
            "metadata": {},
            "outputs": [],
            "source": [
                "\n"
            ]
        },
        {
            "cell_type": "code",
            "execution_count": null,
            "metadata": {},
            "outputs": [],
            "source": []
        },
        {
            "cell_type": "code",
            "execution_count": null,
            "metadata": {},
            "outputs": [],
            "source": [
                "l=torch.arange(25).reshape(5,-1)\n",
                "print(l)\n",
                "l[:,0:3]"
            ]
        },
        {
            "cell_type": "code",
            "execution_count": null,
            "metadata": {},
            "outputs": [],
            "source": [
                "\n",
                "# Number of unique items and the size of each embedding vector\n",
                "num_items = 10  # Assume we have 10 unique items\n",
                "embedding_dim = 4  # Each item will be represented as a 4-dimensional vector\n",
                "\n",
                "# Define the embedding layer\n",
                "w=torch.randn([num_items, embedding_dim])\n",
                "w\n"
            ]
        },
        {
            "cell_type": "code",
            "execution_count": null,
            "metadata": {},
            "outputs": [],
            "source": [
                "class Model(torch.nn.Module):\n",
                "    def __init__(self):\n",
                "        super(Model,self).__init__()\n",
                "        self.l=torch.nn.Linear(5,6)\n",
                "        self.w=torch.nn.Parameter(\n",
                "            torch.ones([3,6])\n",
                "        )\n",
                "    def forward(self,x):\n",
                "        x=self.l(x)\n",
                "        x=self.w.matmul(x)\n",
                "        return x\n",
                "        "
            ]
        },
        {
            "cell_type": "code",
            "execution_count": null,
            "metadata": {},
            "outputs": [],
            "source": [
                "model=Model()\n",
                "for p in model.parameters():\n",
                "    print(p.shape)\n",
                "model(torch.rand(5))"
            ]
        },
        {
            "cell_type": "code",
            "execution_count": null,
            "metadata": {},
            "outputs": [],
            "source": [
                "\n",
                "embedding_layer = torch.nn.Embedding(num_items, embedding_dim,_weight=w)\n"
            ]
        },
        {
            "cell_type": "code",
            "execution_count": null,
            "metadata": {},
            "outputs": [],
            "source": [
                "a=torch.rand(8)\n",
                "print(a)\n",
                "dp = torch.nn.Dropout(0.5)\n",
                "dp(a)"
            ]
        },
        {
            "cell_type": "code",
            "execution_count": null,
            "metadata": {},
            "outputs": [],
            "source": [
                "w[5]"
            ]
        },
        {
            "cell_type": "code",
            "execution_count": null,
            "metadata": {},
            "outputs": [],
            "source": [
                "\n",
                "# Example item IDs (e.g., items bought by a user)\n",
                "item_ids = torch.tensor([2, 5, 7], dtype=torch.long)\n",
                "\n",
                "# Get the embeddings for the given item IDs\n",
                "item_embeddings = embedding_layer(item_ids)\n",
                "\n",
                "print(\"Item IDs:\", item_ids)\n",
                "print(\"Corresponding Embeddings:\\n\", item_embeddings)\n"
            ]
        },
        {
            "cell_type": "code",
            "execution_count": null,
            "metadata": {},
            "outputs": [],
            "source": [
                "bn=torch.nn.BatchNorm1d(embedding_dim)\n",
                "out:torch.Tensor=bn(item_embeddings)\n",
                "out"
            ]
        },
        {
            "cell_type": "code",
            "execution_count": null,
            "metadata": {},
            "outputs": [],
            "source": [
                "bn(torch.randn(3, embedding_dim))"
            ]
        },
        {
            "cell_type": "code",
            "execution_count": 13,
            "metadata": {},
            "outputs": [
                {
                    "name": "stdout",
                    "output_type": "stream",
                    "text": [
                        "torch.Size([5, 5])\n"
                    ]
                },
                {
                    "data": {
                        "text/plain": [
                            "tensor([[0.6290, 0.2732, 0.3812, 0.4583, 0.1691],\n",
                            "        [0.4339, 0.2382, 0.3063, 0.5761, 0.6269],\n",
                            "        [0.8231, 0.7078, 0.5333, 0.4277, 0.3112],\n",
                            "        [0.2364, 0.4929, 0.4719, 0.5529, 0.1795],\n",
                            "        [0.5073, 0.1578, 0.7355, 0.5590, 0.6385]])"
                        ]
                    },
                    "execution_count": 13,
                    "metadata": {},
                    "output_type": "execute_result"
                }
            ],
            "source": [
                "import torch\n",
                "batch=5\n",
                "node=5\n",
                "w=3\n",
                "x=torch.rand(batch*node*w).reshape(batch,node , w)\n",
                "ypred=x.mean(dim=-1).unsqueeze(-1)\n",
                "ypred.squeeze_(-1)\n",
                "print(ypred.shape)\n",
                "ypred"
            ]
        },
        {
            "cell_type": "code",
            "execution_count": 14,
            "metadata": {},
            "outputs": [
                {
                    "data": {
                        "text/plain": [
                            "tensor([0.5073, 0.2732, 0.4719, 0.5529, 0.3112])"
                        ]
                    },
                    "execution_count": 14,
                    "metadata": {},
                    "output_type": "execute_result"
                }
            ],
            "source": [
                "meds=ypred.median(0).values\n",
                "meds\n"
            ]
        },
        {
            "cell_type": "code",
            "execution_count": 15,
            "metadata": {},
            "outputs": [
                {
                    "data": {
                        "text/plain": [
                            "tensor([0.1952, 0.2547, 0.1521, 0.1007, 0.4474])"
                        ]
                    },
                    "execution_count": 15,
                    "metadata": {},
                    "output_type": "execute_result"
                }
            ],
            "source": [
                "q=torch.quantile(ypred,torch.tensor([.25,.75]),0)\n",
                "q=q[1]-q[0]\n",
                "q"
            ]
        },
        {
            "cell_type": "code",
            "execution_count": null,
            "metadata": {},
            "outputs": [
                {
                    "data": {
                        "text/plain": [
                            "tensor([[0.6237, 0.0000, 0.5965, 0.9398, 0.3176],\n",
                            "        [0.3763, 0.1376, 1.0885, 0.2296, 0.7057],\n",
                            "        [1.6178, 1.7059, 0.4035, 1.2433, 0.0000],\n",
                            "        [1.3880, 0.8624, 0.0000, 0.0000, 0.2943],\n",
                            "        [0.0000, 0.4533, 1.7323, 0.0602, 0.7315]])"
                        ]
                    },
                    "execution_count": 16,
                    "metadata": {},
                    "output_type": "execute_result"
                }
            ],
            "source": [
                "y_pred_norm=(ypred-meds).abs()/q\n"
            ]
        },
        {
            "cell_type": "code",
            "execution_count": 19,
            "metadata": {},
            "outputs": [
                {
                    "data": {
                        "text/plain": [
                            "torch.return_types.max(\n",
                            "values=tensor([0.9398, 1.0885, 1.7059, 1.3880, 1.7323]),\n",
                            "indices=tensor([3, 2, 1, 0, 2]))"
                        ]
                    },
                    "execution_count": 19,
                    "metadata": {},
                    "output_type": "execute_result"
                }
            ],
            "source": [
                "y_pred_norm.max(-1)"
            ]
        },
        {
            "cell_type": "code",
            "execution_count": null,
            "metadata": {},
            "outputs": [
                {
                    "data": {
                        "text/plain": [
                            "tensor(1.7323)"
                        ]
                    },
                    "execution_count": 18,
                    "metadata": {},
                    "output_type": "execute_result"
                }
            ],
            "source": [
                "threshold=y_pred_norm.max()"
            ]
        },
        {
            "cell_type": "code",
            "execution_count": 15,
            "metadata": {},
            "outputs": [
                {
                    "name": "stdout",
                    "output_type": "stream",
                    "text": [
                        "torch.Size([2, 5, 1])\n"
                    ]
                },
                {
                    "data": {
                        "text/plain": [
                            "tensor([[[0.],\n",
                            "         [1.],\n",
                            "         [0.],\n",
                            "         [1.],\n",
                            "         [1.]],\n",
                            "\n",
                            "        [[1.],\n",
                            "         [0.],\n",
                            "         [1.],\n",
                            "         [1.],\n",
                            "         [0.]]])"
                        ]
                    },
                    "execution_count": 15,
                    "metadata": {},
                    "output_type": "execute_result"
                }
            ],
            "source": [
                "ytruth=torch.randint_like(ypred,0,2)\n",
                "print(ytruth.shape)\n",
                "ytruth"
            ]
        },
        {
            "cell_type": "code",
            "execution_count": 19,
            "metadata": {},
            "outputs": [
                {
                    "name": "stdout",
                    "output_type": "stream",
                    "text": [
                        "torch.Size([2, 5, 1])\n"
                    ]
                },
                {
                    "data": {
                        "text/plain": [
                            "tensor([[0.8124, 0.3357, 0.3137, 0.1109, 0.4693],\n",
                            "        [0.6169, 0.6849, 0.6988, 0.3186, 0.4871]])"
                        ]
                    },
                    "execution_count": 19,
                    "metadata": {},
                    "output_type": "execute_result"
                }
            ],
            "source": [
                "loss_fn=torch.nn.L1Loss(reduction='none')\n",
                "loss=loss_fn(ypred,ytruth)\n",
                "print(loss.shape)\n",
                "loss=loss.squeeze(-1)\n",
                "loss"
            ]
        },
        {
            "cell_type": "code",
            "execution_count": 18,
            "metadata": {},
            "outputs": [
                {
                    "data": {
                        "text/plain": [
                            "tensor([[0., 0., 0., 0., 0.],\n",
                            "        [0., 0., 0., 0., 0.],\n",
                            "        [0., 0., 0., 0., 0.],\n",
                            "        [0., 0., 0., 0., 0.],\n",
                            "        [0., 0., 0., 0., 0.],\n",
                            "        [0., 0., 0., 0., 0.],\n",
                            "        [0., 0., 0., 0., 0.],\n",
                            "        [0., 0., 0., 0., 0.],\n",
                            "        [0., 0., 0., 0., 0.],\n",
                            "        [0., 0., 0., 0., 0.]])"
                        ]
                    },
                    "execution_count": 18,
                    "metadata": {},
                    "output_type": "execute_result"
                }
            ],
            "source": [
                "all_loss=torch.zeros(10,node)\n",
                "all_loss"
            ]
        },
        {
            "cell_type": "code",
            "execution_count": 23,
            "metadata": {},
            "outputs": [
                {
                    "data": {
                        "text/plain": [
                            "tensor([[0.8124, 0.3357, 0.3137, 0.1109, 0.4693],\n",
                            "        [0.6169, 0.6849, 0.6988, 0.3186, 0.4871],\n",
                            "        [0.0000, 0.0000, 0.0000, 0.0000, 0.0000],\n",
                            "        [0.0000, 0.0000, 0.0000, 0.0000, 0.0000],\n",
                            "        [0.0000, 0.0000, 0.0000, 0.0000, 0.0000],\n",
                            "        [0.0000, 0.0000, 0.0000, 0.0000, 0.0000],\n",
                            "        [0.0000, 0.0000, 0.0000, 0.0000, 0.0000],\n",
                            "        [0.0000, 0.0000, 0.0000, 0.0000, 0.0000],\n",
                            "        [0.0000, 0.0000, 0.0000, 0.0000, 0.0000],\n",
                            "        [0.0000, 0.0000, 0.0000, 0.0000, 0.0000]])"
                        ]
                    },
                    "execution_count": 23,
                    "metadata": {},
                    "output_type": "execute_result"
                }
            ],
            "source": [
                "all_loss[0:2,:]=loss\n",
                "all_loss"
            ]
        },
        {
            "cell_type": "code",
            "execution_count": 24,
            "metadata": {},
            "outputs": [
                {
                    "data": {
                        "text/plain": [
                            "tensor([1.4293, 1.0206, 1.0125, 0.4294, 0.9564])"
                        ]
                    },
                    "execution_count": 24,
                    "metadata": {},
                    "output_type": "execute_result"
                }
            ],
            "source": [
                "all_loss.sum(0)"
            ]
        }
    ],
    "metadata": {
        "kernelspec": {
            "display_name": "cuda_12_4",
            "language": "python",
            "name": "python3"
        },
        "language_info": {
            "codemirror_mode": {
                "name": "ipython",
                "version": 3
            },
            "file_extension": ".py",
            "mimetype": "text/x-python",
            "name": "python",
            "nbconvert_exporter": "python",
            "pygments_lexer": "ipython3",
            "version": "3.12.9"
        }
    },
    "nbformat": 4,
    "nbformat_minor": 2
}
