{
    "cells": [
        {
            "cell_type": "code",
            "execution_count": 1,
            "metadata": {},
            "outputs": [],
            "source": [
                "from util.data import createDummyDataset\n",
                "\n",
                "createDummyDataset(10000,8)"
            ]
        },
        {
            "cell_type": "code",
            "execution_count": null,
            "metadata": {},
            "outputs": [],
            "source": [
                "from models.GDN import GDN\n",
                "from util.consts import Tasks\n",
                "from models.BaseMode import BaseModel\n"
            ]
        },
        {
            "cell_type": "code",
            "execution_count": null,
            "metadata": {},
            "outputs": [],
            "source": [
                "# Example tensor\n",
                "tensor = torch.tensor([0.5, 1.2, 3.7, 0.9, 2.5])\n",
                "\n",
                "# Define threshold and value R\n",
                "threshold = 1.0\n",
                "R = -1\n",
                "\n",
                "# Apply the mapping\n",
                "new_tensor = torch.where(tensor > threshold, torch.tensor(1), torch.tensor(R))\n",
                "\n",
                "print(new_tensor)"
            ]
        },
        {
            "cell_type": "code",
            "execution_count": null,
            "metadata": {},
            "outputs": [],
            "source": [
                "x=torch.arange(1,11).float()\n",
                "y=x+1\n",
                "l=torch.nn.MSELoss(reduce=False)\n",
                "l(x,y)>1"
            ]
        },
        {
            "cell_type": "code",
            "execution_count": null,
            "metadata": {},
            "outputs": [],
            "source": [
                "feature=4\n",
                "\n",
                "a=[]\n",
                "b=[]\n",
                "for i in range(feature):\n",
                "    for j in range(feature):\n",
                "        if i!=j:\n",
                "            a.append(i)\n",
                "            b.append(j)\n",
                "edges=[torch.tensor([a,b])]"
            ]
        },
        {
            "cell_type": "code",
            "execution_count": null,
            "metadata": {},
            "outputs": [],
            "source": [
                "m = GDN(\n",
                "    edge_index_sets=edges,topk=2, node_num=feature, task=Tasks.next_label\n",
                ")"
            ]
        },
        {
            "cell_type": "code",
            "execution_count": null,
            "metadata": {},
            "outputs": [],
            "source": [
                "\n",
                "x = torch.rand([10, feature, 3])\n",
                "m(x, None)"
            ]
        },
        {
            "cell_type": "code",
            "execution_count": null,
            "metadata": {},
            "outputs": [],
            "source": [
                "\n"
            ]
        },
        {
            "cell_type": "code",
            "execution_count": null,
            "metadata": {},
            "outputs": [],
            "source": []
        },
        {
            "cell_type": "code",
            "execution_count": null,
            "metadata": {},
            "outputs": [],
            "source": [
                "l=torch.arange(25).reshape(5,-1)\n",
                "print(l)\n",
                "l[:,0:3]"
            ]
        },
        {
            "cell_type": "code",
            "execution_count": null,
            "metadata": {},
            "outputs": [],
            "source": [
                "\n",
                "# Number of unique items and the size of each embedding vector\n",
                "num_items = 10  # Assume we have 10 unique items\n",
                "embedding_dim = 4  # Each item will be represented as a 4-dimensional vector\n",
                "\n",
                "# Define the embedding layer\n",
                "w=torch.randn([num_items, embedding_dim])\n",
                "w\n"
            ]
        },
        {
            "cell_type": "code",
            "execution_count": null,
            "metadata": {},
            "outputs": [],
            "source": [
                "class Model(torch.nn.Module):\n",
                "    def __init__(self):\n",
                "        super(Model,self).__init__()\n",
                "        self.l=torch.nn.Linear(5,6)\n",
                "        self.w=torch.nn.Parameter(\n",
                "            torch.ones([3,6])\n",
                "        )\n",
                "    def forward(self,x):\n",
                "        x=self.l(x)\n",
                "        x=self.w.matmul(x)\n",
                "        return x\n",
                "        "
            ]
        },
        {
            "cell_type": "code",
            "execution_count": null,
            "metadata": {},
            "outputs": [],
            "source": [
                "model=Model()\n",
                "for p in model.parameters():\n",
                "    print(p.shape)\n",
                "model(torch.rand(5))"
            ]
        },
        {
            "cell_type": "code",
            "execution_count": null,
            "metadata": {},
            "outputs": [],
            "source": [
                "\n",
                "embedding_layer = torch.nn.Embedding(num_items, embedding_dim,_weight=w)\n"
            ]
        },
        {
            "cell_type": "code",
            "execution_count": null,
            "metadata": {},
            "outputs": [],
            "source": [
                "a=torch.rand(8)\n",
                "print(a)\n",
                "dp = torch.nn.Dropout(0.5)\n",
                "dp(a)"
            ]
        },
        {
            "cell_type": "code",
            "execution_count": null,
            "metadata": {},
            "outputs": [],
            "source": [
                "w[5]"
            ]
        },
        {
            "cell_type": "code",
            "execution_count": null,
            "metadata": {},
            "outputs": [],
            "source": [
                "\n",
                "# Example item IDs (e.g., items bought by a user)\n",
                "item_ids = torch.tensor([2, 5, 7], dtype=torch.long)\n",
                "\n",
                "# Get the embeddings for the given item IDs\n",
                "item_embeddings = embedding_layer(item_ids)\n",
                "\n",
                "print(\"Item IDs:\", item_ids)\n",
                "print(\"Corresponding Embeddings:\\n\", item_embeddings)\n"
            ]
        },
        {
            "cell_type": "code",
            "execution_count": null,
            "metadata": {},
            "outputs": [],
            "source": [
                "bn=torch.nn.BatchNorm1d(embedding_dim)\n",
                "out:torch.Tensor=bn(item_embeddings)\n",
                "out"
            ]
        },
        {
            "cell_type": "code",
            "execution_count": null,
            "metadata": {},
            "outputs": [],
            "source": [
                "bn(torch.randn(3, embedding_dim))"
            ]
        }
    ],
    "metadata": {
        "kernelspec": {
            "display_name": "cuda_12_4",
            "language": "python",
            "name": "python3"
        },
        "language_info": {
            "codemirror_mode": {
                "name": "ipython",
                "version": 3
            },
            "file_extension": ".py",
            "mimetype": "text/x-python",
            "name": "python",
            "nbconvert_exporter": "python",
            "pygments_lexer": "ipython3",
            "version": "3.12.9"
        }
    },
    "nbformat": 4,
    "nbformat_minor": 2
}
