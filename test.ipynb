{
 "cells": [
  {
   "cell_type": "code",
   "execution_count": 1,
   "metadata": {},
   "outputs": [
    {
     "name": "stdout",
     "output_type": "stream",
     "text": [
      "Item IDs: tensor([2, 5, 7])\n",
      "Corresponding Embeddings:\n",
      " tensor([[-1.0596, -1.3660, -2.0054,  0.6225],\n",
      "        [-0.7371, -0.5471,  2.2510,  0.5312],\n",
      "        [ 0.5763,  0.9007,  0.9543, -1.0179]], grad_fn=<EmbeddingBackward>)\n"
     ]
    }
   ],
   "source": [
    "import torch\n",
    "import torch.nn as nn\n",
    "\n",
    "# Number of unique items and the size of each embedding vector\n",
    "num_items = 10  # Assume we have 10 unique items\n",
    "embedding_dim = 4  # Each item will be represented as a 4-dimensional vector\n",
    "\n",
    "# Define the embedding layer\n",
    "embedding_layer = nn.Embedding(num_items, embedding_dim)\n",
    "\n",
    "# Example item IDs (e.g., items bought by a user)\n",
    "item_ids = torch.tensor([2, 5, 7], dtype=torch.long)\n",
    "\n",
    "# Get the embeddings for the given item IDs\n",
    "item_embeddings = embedding_layer(item_ids)\n",
    "\n",
    "print(\"Item IDs:\", item_ids)\n",
    "print(\"Corresponding Embeddings:\\n\", item_embeddings)\n"
   ]
  }
 ],
 "metadata": {
  "kernelspec": {
   "display_name": "cuda_10_2",
   "language": "python",
   "name": "python3"
  },
  "language_info": {
   "codemirror_mode": {
    "name": "ipython",
    "version": 3
   },
   "file_extension": ".py",
   "mimetype": "text/x-python",
   "name": "python",
   "nbconvert_exporter": "python",
   "pygments_lexer": "ipython3",
   "version": "3.7.12"
  }
 },
 "nbformat": 4,
 "nbformat_minor": 2
}
